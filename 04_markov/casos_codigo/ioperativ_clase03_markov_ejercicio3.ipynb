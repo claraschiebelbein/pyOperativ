{
  "nbformat": 4,
  "nbformat_minor": 0,
  "metadata": {
    "kernelspec": {
      "display_name": "Python 3",
      "language": "python",
      "name": "python3"
    },
    "language_info": {
      "codemirror_mode": {
        "name": "ipython",
        "version": 3
      },
      "file_extension": ".py",
      "mimetype": "text/x-python",
      "name": "python",
      "nbconvert_exporter": "python",
      "pygments_lexer": "ipython3",
      "version": "3.8.8"
    },
    "colab": {
      "name": "ioperativ_clase03_markov_ejercicios.ipynb",
      "provenance": [],
      "collapsed_sections": []
    }
  },
  "cells": [
    {
      "cell_type": "markdown",
      "metadata": {
        "id": "4h8qKLaPXPWn"
      },
      "source": [
        "**Universidad Tecnologica Nacional - Facultad Buenos Aires** <br>\n",
        "**Ingenieria Industrial**<br>\n",
        "**Investigacion Operativa** <br>\n",
        "Autor: Gabriel Boso<br>\n",
        "Curso I4051 (Palazzo)<br>\n"
      ]
    },
    {
      "cell_type": "markdown",
      "metadata": {
        "id": "4CzrKVi8XPWw"
      },
      "source": [
        "# Ejercicios Repaso IO"
      ]
    },
    {
      "cell_type": "markdown",
      "metadata": {
        "id": "19SPMFGuXPWx"
      },
      "source": [
        "Antes de comenzar importamos las librerias necesarias para trabajar. Anaconda ya tiene pre-cargadas muchas librerías conocidas."
      ]
    },
    {
      "cell_type": "code",
      "metadata": {
        "id": "seCqudpEXPWx",
        "outputId": "6c6f1f4a-00aa-4746-9374-89d56e94aef4"
      },
      "source": [
        "pip install matplotlib && pip install numpy && pip install pandas"
      ],
      "execution_count": null,
      "outputs": [
        {
          "output_type": "stream",
          "text": [
            "Requirement already satisfied: matplotlib in /home/gboso/miniconda3/envs/pyoperativ/lib/python3.8/site-packages (3.4.1)\n",
            "Requirement already satisfied: kiwisolver>=1.0.1 in /home/gboso/miniconda3/envs/pyoperativ/lib/python3.8/site-packages (from matplotlib) (1.3.1)\n",
            "Requirement already satisfied: pyparsing>=2.2.1 in /home/gboso/miniconda3/envs/pyoperativ/lib/python3.8/site-packages (from matplotlib) (2.4.7)\n",
            "Requirement already satisfied: python-dateutil>=2.7 in /home/gboso/.local/lib/python3.8/site-packages (from matplotlib) (2.8.1)\n",
            "Requirement already satisfied: cycler>=0.10 in /home/gboso/miniconda3/envs/pyoperativ/lib/python3.8/site-packages (from matplotlib) (0.10.0)\n",
            "Requirement already satisfied: pillow>=6.2.0 in /home/gboso/miniconda3/envs/pyoperativ/lib/python3.8/site-packages (from matplotlib) (8.2.0)\n",
            "Requirement already satisfied: numpy>=1.16 in /home/gboso/miniconda3/envs/pyoperativ/lib/python3.8/site-packages (from matplotlib) (1.20.2)\n",
            "Requirement already satisfied: six in /home/gboso/.local/lib/python3.8/site-packages (from cycler>=0.10->matplotlib) (1.15.0)\n",
            "Requirement already satisfied: numpy in /home/gboso/miniconda3/envs/pyoperativ/lib/python3.8/site-packages (1.20.2)\n",
            "Requirement already satisfied: pandas in /home/gboso/miniconda3/envs/pyoperativ/lib/python3.8/site-packages (1.2.4)\n",
            "Requirement already satisfied: numpy>=1.16.5 in /home/gboso/miniconda3/envs/pyoperativ/lib/python3.8/site-packages (from pandas) (1.20.2)\n",
            "Requirement already satisfied: pytz>=2017.3 in /home/gboso/miniconda3/envs/pyoperativ/lib/python3.8/site-packages (from pandas) (2021.1)\n",
            "Requirement already satisfied: python-dateutil>=2.7.3 in /home/gboso/.local/lib/python3.8/site-packages (from pandas) (2.8.1)\n",
            "Requirement already satisfied: six>=1.5 in /home/gboso/.local/lib/python3.8/site-packages (from python-dateutil>=2.7.3->pandas) (1.15.0)\n",
            "Note: you may need to restart the kernel to use updated packages.\n"
          ],
          "name": "stdout"
        }
      ]
    },
    {
      "cell_type": "code",
      "metadata": {
        "id": "ceVcaEE_XPW0"
      },
      "source": [
        "# importamos librerias\n",
        "import matplotlib\n",
        "import matplotlib.pyplot as plt\n",
        "import numpy as np\n",
        "import pandas as pd"
      ],
      "execution_count": null,
      "outputs": []
    },
    {
      "cell_type": "markdown",
      "metadata": {
        "id": "7bcHuCzrXPW0"
      },
      "source": [
        "## Probabilidad\n",
        "Asignación de variables en python\n"
      ]
    },
    {
      "cell_type": "markdown",
      "metadata": {
        "id": "P8kqHDc1XPW1"
      },
      "source": [
        "### Ejercicio 01 \n",
        "Calcular: $p(A \\cup B)$ <br/>\n",
        "En este caso definimos dos variables (pa y pb) cuyo contenido será un numero escalar y representaran probabilidades."
      ]
    },
    {
      "cell_type": "code",
      "metadata": {
        "id": "jylPHJqmXPW1"
      },
      "source": [
        "pa = 3/8\n",
        "pb = 1/2"
      ],
      "execution_count": null,
      "outputs": []
    },
    {
      "cell_type": "markdown",
      "metadata": {
        "id": "JbfDb1QAXPW1"
      },
      "source": [
        "Primero calculamos la proba de interseccion entre A y B: $P(A \\cap B )$ <br/>\n",
        "Vamos a obtener una nueva variable llamada \"p_a_int_b\""
      ]
    },
    {
      "cell_type": "code",
      "metadata": {
        "id": "MClDQSGlXPW2"
      },
      "source": [
        "# con la operacion * multiplicamos dos escalares\n",
        "p_a_int_b = pa*pb"
      ],
      "execution_count": null,
      "outputs": []
    },
    {
      "cell_type": "code",
      "metadata": {
        "id": "AHWZJq_YXPW2",
        "outputId": "46ea2165-b047-4de3-c001-3da3f074ef22"
      },
      "source": [
        "# imprimimos en pantalla el valor de p_a_int_b\n",
        "p_a_int_b"
      ],
      "execution_count": null,
      "outputs": [
        {
          "output_type": "execute_result",
          "data": {
            "text/plain": [
              "0.1875"
            ]
          },
          "metadata": {
            "tags": []
          },
          "execution_count": 6
        }
      ]
    },
    {
      "cell_type": "markdown",
      "metadata": {
        "id": "Xj3RLOrSXPW3"
      },
      "source": [
        "Ahora calculamos la unión entre pa y pb $p(A \\cup B) = P(A) + P(B) - P(A \\cap B )$ <br/>\n",
        "Obtendremos una variable llamada \"p_a_u_b\""
      ]
    },
    {
      "cell_type": "code",
      "metadata": {
        "id": "ykycdYfPXPW3",
        "outputId": "f39a52c5-a181-4ea0-9df0-6af5f6a9cb73"
      },
      "source": [
        "p_a_u_b = pa + pb - p_a_int_b\n",
        "p_a_u_b"
      ],
      "execution_count": null,
      "outputs": [
        {
          "output_type": "execute_result",
          "data": {
            "text/plain": [
              "0.6875"
            ]
          },
          "metadata": {
            "tags": []
          },
          "execution_count": 7
        }
      ]
    },
    {
      "cell_type": "markdown",
      "metadata": {
        "id": "PzY0J-NXXPW3"
      },
      "source": [
        "## Ecuacuciones Lineales\n",
        "Funciones y tipo de datos"
      ]
    },
    {
      "cell_type": "markdown",
      "metadata": {
        "id": "ziibHRY5XPW4"
      },
      "source": [
        "### Ejercicio 1\n",
        "\n",
        "Obtener los valores de X e Y\n",
        "\n",
        ">$3*X + 2*Y = 1$ <br>\n",
        ">$X - 5*Y = 6$\n"
      ]
    },
    {
      "cell_type": "markdown",
      "metadata": {
        "id": "c4a3MfI2XPW4"
      },
      "source": [
        "#### _Resolución - Método 1: Despeje_\n",
        "Despejamos manualmente\n",
        "\n",
        "$X=6+5*Y$\n",
        "\n",
        "$3*(6+5*Y)+2*Y=1$\n",
        "\n",
        "$18+15*Y+2*Y=1$\n",
        "\n",
        "$(15+2)*Y=1-18$\n",
        "\n",
        "Asignaremos a la variable Y el valor de la cuenta\n",
        "\n",
        "$Y=(1-18)/(15+2)$\n"
      ]
    },
    {
      "cell_type": "code",
      "metadata": {
        "id": "0mZAFEIoXPW4",
        "outputId": "738e44dd-1f68-414e-e5d0-fc3a41cc8fc1"
      },
      "source": [
        "Y = (1-18)/(3*5+2)\n",
        "#Usamos la función print() que nos permite mostrar en pantalla el valor de la variable Y\n",
        "#print() solo toma 1 tipo de datos, si queremos mostrar un texto como debajo necesita cambiar el tipo de dato de Y\n",
        "#Para esto usamos la función str() que cambia el tipo de dato de un objeto a texto\n",
        "print(\"Y = \"+str(Y))"
      ],
      "execution_count": null,
      "outputs": [
        {
          "output_type": "stream",
          "text": [
            "Y = -1.0\n"
          ],
          "name": "stdout"
        }
      ]
    },
    {
      "cell_type": "markdown",
      "metadata": {
        "id": "c4COS0UKXPW5"
      },
      "source": [
        "Ahora definiremos a la variable X como la siguiente ecuación resolviendo así el problema\n",
        "\n",
        "$X=6+5*Y$"
      ]
    },
    {
      "cell_type": "code",
      "metadata": {
        "id": "BbltKHtjXPW5",
        "outputId": "c6c3d935-54eb-49c6-93c6-858af4700f9a"
      },
      "source": [
        "X= 6 + 5*Y\n",
        "print(\"X = \"+str(X))\n"
      ],
      "execution_count": null,
      "outputs": [
        {
          "output_type": "stream",
          "text": [
            "X = 1.0\n"
          ],
          "name": "stdout"
        }
      ]
    },
    {
      "cell_type": "markdown",
      "metadata": {
        "id": "Wud-13eKXPW5"
      },
      "source": [
        "#### _Resolución -Método 2: Matricialmente_\n",
        "\n",
        "Aplicaremos la siguiente abstracción \n",
        "\n",
        "$A*X=B$ \n",
        "\n",
        "- A es una matriz de coeficientes\n",
        "- X es un vector de incognitas \n",
        "- B es el resultado de la multiplicación entre ambas\n",
        "\n",
        "Por lo cual\n",
        "\\begin{equation*}\n",
        "\\begin{pmatrix}\n",
        "\\ 3 & 2 \\\\\n",
        "\\ 1 &  -5\\\\\n",
        "\\end{pmatrix} \\times\n",
        "\\begin{pmatrix}\n",
        "\\ X \\\\\n",
        "\\ Y\\\\\n",
        "\\end{pmatrix} = \n",
        "\\begin{pmatrix}\n",
        "\\ 1 \\\\\n",
        "\\ 6\\\\\n",
        "\\end{pmatrix}\n",
        "\\end{equation*}"
      ]
    },
    {
      "cell_type": "code",
      "metadata": {
        "id": "XI-H4lsVXPW6",
        "outputId": "7f3b2757-ce22-464a-ca6f-76c1522fd96e"
      },
      "source": [
        "#Un vector o lista de valores en python se define mediante corchetes separandose con coma los valores\n",
        "#Aca asignaremos a la variable a0 los valores correspondientes a la primer ecuación 3*X + 2*Y = 1\n",
        "a0=[3,2]\n",
        "#Ahora haremos lo mismo con a1 y la ecuación X - 5*Y = 6\n",
        "a1=[1,-5]\n",
        "\n",
        "#Una matriz puede definirse como un conjunto de vectores de igual longitud, formando un arreglo de filas y columnas\n",
        "#Utilizaremos numpy para crear esta matriz como una lista cuyos elementos son los vectores a0 y a1\n",
        "#La matriz la guardaremos en la variable A\n",
        "A=np.matrix([a0,a1])\n",
        "print(\"La matriz A:\")\n",
        "print(A)\n",
        "\n",
        "#Finalmente le asignaremos a la varible B el vector con los resultados de 3*X + 2*Y = 1 y de X - 5*Y = 6\n",
        "#La función np.array() toma listas de python para convertirlas en formato ndarray, óptimo para operaciones mátematicas \n",
        "B=np.array([1,6])\n",
        "print(\"El vector B:\")\n",
        "print(B)\n"
      ],
      "execution_count": null,
      "outputs": [
        {
          "output_type": "stream",
          "text": [
            "La matriz A:\n",
            "[[ 3  2]\n",
            " [ 1 -5]]\n",
            "El vector B:\n",
            "[1 6]\n"
          ],
          "name": "stdout"
        }
      ]
    },
    {
      "cell_type": "markdown",
      "metadata": {
        "id": "9gk97cvBXPW7"
      },
      "source": [
        "Despejando las incognitas\n",
        "\n",
        "$X=A^{-1}*B$\n",
        "\n",
        "\\begin{equation*}\n",
        "\\begin{pmatrix}\n",
        "\\ X \\\\\n",
        "\\ Y\\\\\n",
        "\\end{pmatrix} = \n",
        "\\begin{pmatrix}\n",
        "\\ 3 & 2 \\\\\n",
        "\\ 1 &  -5\\\\\n",
        "\\end{pmatrix} \n",
        "^{-1}\n",
        "\\times\n",
        "\\begin{pmatrix}\n",
        "\\ 1 \\\\\n",
        "\\ 6\\\\\n",
        "\\end{pmatrix}\n",
        "\\end{equation*}\n",
        "\n",
        "Deberemos proceder a obtener la matriz inversa de A\n",
        "\n",
        "Numpy tiene 2 formas de obtener la inversa de la matriz, por atributo de la misma y por función aplicada a la ella\n",
        "\n",
        "###### Por Atributo\n",
        "Para llamar un atributo de un objeto en python solo debe seguirse la estructura $<objeto>.<nombreAtributo>$\n"
      ]
    },
    {
      "cell_type": "code",
      "metadata": {
        "id": "tdB9BNIUXPW7",
        "outputId": "29b3d597-eded-43c3-d11f-3b43b690d21f"
      },
      "source": [
        "#En este caso el <objeto> es la matriz A y el atributo es I, por lo que asignaremos a la variable A_inv_1 el resultado\n",
        "A_inv_1=A.I\n",
        "A_inv_1"
      ],
      "execution_count": null,
      "outputs": [
        {
          "output_type": "execute_result",
          "data": {
            "text/plain": [
              "matrix([[ 0.29411765,  0.11764706],\n",
              "        [ 0.05882353, -0.17647059]])"
            ]
          },
          "metadata": {
            "tags": []
          },
          "execution_count": 11
        }
      ]
    },
    {
      "cell_type": "markdown",
      "metadata": {
        "id": "_U4iD8TpXPW7"
      },
      "source": [
        "###### Por Función\n",
        "\n",
        "Para aplicar una función en python se debe llamar a traves de la libreria, que a su vez puede tener o no modulos donde se encuentre cada función.\n",
        "\n",
        "La estructura declarativa sería $<libreria>.<modulo>.<función>(<parámetrosEntradaFunción>)$\n"
      ]
    },
    {
      "cell_type": "code",
      "metadata": {
        "id": "Vk6-Tm7DXPW8",
        "outputId": "1eeb00e7-7710-4ea0-abe9-ef34d62babf8"
      },
      "source": [
        "#Como demostración le asignaremos a la variable A_inv_2 el valor devuelto por la función inv() del módulo linalg\n",
        "#Reemplazando <𝑙𝑖𝑏𝑟𝑒𝑟𝑖𝑎>.<𝑚𝑜𝑑𝑢𝑙𝑜>.<𝑓𝑢𝑛𝑐𝑖ó𝑛>(<𝑝𝑎𝑟á𝑚𝑒𝑡𝑟𝑜𝑠𝐸𝑛𝑡𝑟𝑎𝑑𝑎𝐹𝑢𝑛𝑐𝑖ó𝑛> = np.linalg.inv(<matriz>)\n",
        "A_inv_2=np.linalg.inv(A)\n",
        "A_inv_2"
      ],
      "execution_count": null,
      "outputs": [
        {
          "output_type": "execute_result",
          "data": {
            "text/plain": [
              "matrix([[ 0.29411765,  0.11764706],\n",
              "        [ 0.05882353, -0.17647059]])"
            ]
          },
          "metadata": {
            "tags": []
          },
          "execution_count": 12
        }
      ]
    },
    {
      "cell_type": "markdown",
      "metadata": {
        "id": "JFA-jKwMXPW9"
      },
      "source": [
        "Para demostrar que ambos resultados son iguales, haremos la resta de las variables A_inv_1 con A_inv_2 que deberia dar una matriz cuyos todos su elementos sean 0"
      ]
    },
    {
      "cell_type": "code",
      "metadata": {
        "id": "aaLfFVksXPW9",
        "outputId": "e7abad6f-d616-4fb0-df87-d8fdc658ffc1"
      },
      "source": [
        "print(A_inv_1-A_inv_2)"
      ],
      "execution_count": null,
      "outputs": [
        {
          "output_type": "stream",
          "text": [
            "[[0. 0.]\n",
            " [0. 0.]]\n"
          ],
          "name": "stdout"
        }
      ]
    },
    {
      "cell_type": "code",
      "metadata": {
        "id": "GzgEc4sKXPXC"
      },
      "source": [
        "#Visto que A_inv_1 y A_inv_2 son iguales, guardaremos en la variable A_inv la matriz inversa obtenida en A_inv_1\n",
        "A_inv=A_inv_1"
      ],
      "execution_count": null,
      "outputs": []
    },
    {
      "cell_type": "markdown",
      "metadata": {
        "id": "vZ-4hWx1XPXC"
      },
      "source": [
        "Ahora aplicaremos la función producto punto entre la matriz guardada en la variable A_inv y el vector de resultados B para asi obtener el valor de las incognitas del vector X"
      ]
    },
    {
      "cell_type": "code",
      "metadata": {
        "id": "lObEDOwvXPXC",
        "outputId": "c150a0aa-d675-4c07-8cdb-d1d0354a0c64"
      },
      "source": [
        "#La función producto punto es .dot()\n",
        "#Se aplica como <matriz1>.dot(<matriz2>), el vector resultado lo guardaremos en X\n",
        "X=A_inv.dot(B)\n",
        "\n",
        "#La función print(<texto>) nos permite mostra en pantalla los resultados\n",
        "#Visto a que la variable X es un vector, se utlizo la función str(<objeto>) para transformarla en texto\n",
        "#De esta manera se concateno ambos textos con el signo \"+\" dentro de la función print\n",
        "print(\"Los valores de [X, Y] son \"+str(X))"
      ],
      "execution_count": null,
      "outputs": [
        {
          "output_type": "stream",
          "text": [
            "Los valores de [X, Y] son [[ 1. -1.]]\n"
          ],
          "name": "stdout"
        }
      ]
    },
    {
      "cell_type": "markdown",
      "metadata": {
        "id": "JeeGmSnFXPXD"
      },
      "source": [
        "#### _Resolución - La función <font color=blue>solve()</font>_"
      ]
    },
    {
      "cell_type": "code",
      "metadata": {
        "id": "WJGI6iIhXPXD",
        "outputId": "5957c1e9-00c6-4b97-ec9f-c6647e619d95"
      },
      "source": [
        "#La libreria numpy nos provee de la función solve() que nos permite directamente resolver este tipo de problemas\n",
        "#Para esto se necesita unicamente los parametros de entrada\n",
        "#  -Matriz de coeficientes (en nuestro caso A)\n",
        "#  -Vector de resultados (en nuestro caso B)\n",
        "\n",
        "#Guardaremos en la variable \"Res1\" la respuesta para poder compararla con la resolución hecha anteriormente\n",
        "Res1=np.linalg.solve(A,B)\n",
        "print(\"[X,Y,Z] = \"+str(Res1))"
      ],
      "execution_count": null,
      "outputs": [
        {
          "output_type": "stream",
          "text": [
            "[X,Y,Z] = [ 1. -1.]\n"
          ],
          "name": "stdout"
        }
      ]
    },
    {
      "cell_type": "markdown",
      "metadata": {
        "id": "3bxytMDpXPXE"
      },
      "source": [
        "## Algebra Lineal\n",
        "Concatenación de funciones"
      ]
    },
    {
      "cell_type": "markdown",
      "metadata": {
        "id": "jDZCvhzTXPXE"
      },
      "source": [
        "### Ejercicio 1\n",
        "\n",
        "Demostrar que: $A² − A − 2I = 0$, siendo:\n",
        "\\begin{equation*}\n",
        "\\mathbf{A}  =  \\begin{pmatrix}\n",
        "\\mathbf{0} & \\mathbf{1} & \\mathbf{1} \\\\\n",
        "\\mathbf{1} & \\mathbf{0} & \\mathbf{1} \\\\\n",
        "\\mathbf{1} & \\mathbf{1} & \\mathbf{0}\n",
        "\\end{pmatrix}\n",
        "\\end{equation*}\n"
      ]
    },
    {
      "cell_type": "code",
      "metadata": {
        "id": "3kSs6pOLXPXE",
        "outputId": "555d0925-aed9-446d-985f-f0e98d835abe"
      },
      "source": [
        "#Creamos la matriz y la guardamos en la variable \"A\"\n",
        "A= np.matrix([[0,1,1],[1,0,1],[1,1,0]])\n",
        "\n",
        "#Obtenemos la dimensión de la matriz y la guardamos en la variable \"dim\"\n",
        "dim = A.ndim + 1 #se suma 1 ya que python cuentas desde 0\n",
        "\n",
        "#Numpy nos provee de la función identity() que nos genera una matriz identidad \"I\" de la dimensión que le pasemos\n",
        "#Aplicamos la formula\n",
        "R = A*A - A - 2 * np.identity(dim)\n",
        "#Mostramos el resultado\n",
        "R"
      ],
      "execution_count": null,
      "outputs": [
        {
          "output_type": "execute_result",
          "data": {
            "text/plain": [
              "matrix([[0., 0., 0.],\n",
              "        [0., 0., 0.],\n",
              "        [0., 0., 0.]])"
            ]
          },
          "metadata": {
            "tags": []
          },
          "execution_count": 17
        }
      ]
    },
    {
      "cell_type": "markdown",
      "metadata": {
        "id": "AZPCtn6qXPXF"
      },
      "source": [
        "### Ejercicio 2\n",
        "\n",
        "Dadas las matrices A y B, obtenga los determinantes de:\n",
        "\n",
        "1. $A^{-3}$\n",
        "2. $A*B$\n",
        "3. $B^{T}$$-A$\n",
        "\n",
        "\\begin{equation*}\n",
        "\\mathbf{A} =  \\begin{pmatrix}\n",
        "\\mathbf{10} & \\mathbf{3} & \\mathbf{5} \\\\\n",
        "\\frac{\\ 1}{\\ 4} &  \\frac{\\ 3}{\\ 5} & 0 \\\\\n",
        "\\frac{\\ 9}{\\ 4} &  \\frac{\\ 12}{\\ 7} & -1\n",
        "\\end{pmatrix}\n",
        "\\end{equation*}\n",
        "\n",
        "\\begin{equation*}\n",
        "\\mathbf{B} =  \\begin{pmatrix}\n",
        "\\mathbf{0} & \\mathbf{1} & \\mathbf{0} \\\\\n",
        "\\frac{\\ 2}{\\ 3} &  \\mathbf{-1} & 3 \\\\\n",
        "\\frac{\\ 4}{\\ 6} &  \\mathbf{-1} & -1\n",
        "\\end{pmatrix}\n",
        "\\end{equation*}"
      ]
    },
    {
      "cell_type": "code",
      "metadata": {
        "id": "61Fhg5aWXPXF",
        "outputId": "36add124-42c6-443d-a054-cc5b3535f977"
      },
      "source": [
        "#Creamos la matriz A y la guardamos en la variable \"A\"\n",
        "A= np.matrix([[10,3,5],[1/4,3/5,0],[9/4,12/7,-1]])\n",
        "\n",
        "#Creamos la matriz B y la guardamos en la variable \"B\"\n",
        "B= np.matrix([[0,1,0],[2/3,-1,3],[4/6,-1,-1]])\n",
        "\n",
        "#Numpy cuenta con la función det() que nos devuelve el valor del determinante de la matriz que le pasamos\n",
        "#Asimismo cuenta con la función matrix_power() que nos eleva una matriz(\"A\") a la potencia que necesitemos(-3)\n",
        "print(\"1. La respuesta es \"+str(np.linalg.det(np.linalg.matrix_power(A,-3))))\n",
        "print(\"2. La respuesta es \"+str(np.linalg.det(A*B)))\n",
        "#Asi como la inversa es un atributo de una matriz, tambien lo es su transpuesta <matriz>.T\n",
        "print(\"3. La respuesta es \"+str(np.linalg.det(B.T-A)))\n"
      ],
      "execution_count": null,
      "outputs": [
        {
          "output_type": "stream",
          "text": [
            "1. La respuesta es -0.0010441114246489604\n",
            "2. La respuesta es -26.28571428571429\n",
            "3. La respuesta es -6.685714285714289\n"
          ],
          "name": "stdout"
        }
      ]
    },
    {
      "cell_type": "markdown",
      "metadata": {
        "id": "j7YVqjadXPXG"
      },
      "source": [
        "#### Bonus Track\n",
        "Numpy nos permite saber distintas propiedades de las matrices\n",
        "\n",
        "###### Atributos:\n",
        "- Dimensión de la matriz - Ejemplo: M.ndim\n",
        "- Cantidad de filas y columnas - Ejemplo: M.shape\n",
        "- Cantidad de elementos en la matriz - Ejemplo: M.size\n",
        "\n",
        "###### Métodos<font color=red>*</font>:\n",
        "- El valor más alto de la matriz - Ejemplo: M.max()\n",
        "- El valor más chico de la matriz - Ejemplo: M.min()\n",
        "- El promedio de los elementos de la matriz - Ejemplo: M.mean()\n",
        "\n",
        "<font color=red>*</font>Los métodos a diferencia de los atributos pueden aceptar parametros de entrada que determinaran la respuesta que se obtendrá. Los metodos estan asociados a un objeto (matriz en este caso) a diferencia de las funciones.\n",
        "\n",
        "###### _Más información Atributos y Métodos:_ https://docs.scipy.org/doc/numpy/reference/generated/numpy.matrix.html\n",
        "\n",
        "_<font color=blue>Nota:</font>_ una función recibe determinados objetos de entrada para devolver un determinado objeto de salida.\n",
        "\n",
        "## Markov\n",
        "Visualizando datos"
      ]
    },
    {
      "cell_type": "markdown",
      "metadata": {
        "id": "HrKkQGFRXPXG"
      },
      "source": [
        "### Ejercicio 1 (No es parte de la guía)\n",
        "En una ciudad hay tres empresas de telefonía celular (A, B y C) que controlan el mercado.\n",
        "\n",
        "Inicialmente cada empresa tiene una fracción de la clientela\n",
        "- a0=15%\n",
        "- b0=45%\n",
        "- c0=40%\n",
        "\n",
        "La figura resume el porcentaje de clientes que cambian de empresa durante un período de seis meses.\n",
        "<img src=\"https://docs.google.com/drawings/d/e/2PACX-1vTYeetoeTLuE_HbIpWzMci2wURv__8GM1pcA_4_OU317_xgKdi5z_jIeHIQUxM1o_TvY_e3ZeCPmXUl/pub?w=647&h=555\"\n",
        "     alt=\"Estados del sistema\"\n",
        "    /><br>\n",
        "\n",
        "\n",
        "Este modelo matemático se basa en los siguientes supuestos:\n",
        "\n",
        "– El porcentaje de cambio entre las empresas se mantiene constante con el tiempo.\n",
        "\n",
        "– Los clientes seguirán siendo consumidores de una de estas tres empresas.\n",
        "\n",
        "– No se incorporan nuevos clientes al sistema.\n",
        "\n",
        "Al cabo de 6 meses, qué empresa tendrá mayor fracción de la clientela? Y en 3 años?"
      ]
    },
    {
      "cell_type": "code",
      "metadata": {
        "id": "SIwpLrz1XPXH",
        "outputId": "ab883f0b-e836-4064-b0bd-fb78b4652244"
      },
      "source": [
        "estado_inicial = np.array([0.15, 0.45, 0.40]) #[a0, b0, c0]\n",
        "\n",
        "# Armo la matriz de trancisión\n",
        "T = np.array([[0.8, 0.1, 0.1],\n",
        "              [0.1, 0.7, 0.2],\n",
        "              [0.2, 0.2, 0.6]])\n",
        "\n",
        "# Calculo el estado dentro de 6 meses\n",
        "estado_1_semestre =  np.dot(estado_inicial, T)\n",
        "\n",
        "# La funcion de numpy around nos permite redondear los resultados\n",
        "resultado1=np.around(estado_1_semestre, decimals=1)\n",
        "\n",
        "# \\n nos permite bajar una linea en la respuesta\n",
        "# \\ nos permite que el interpretador sepa que la linea siguiente es parte del mismo comando\n",
        "print(f'La empresa A al cabo de 1 semestre tendrá {resultado1[0]} del mercado \\n\\\n",
        "La empresa A al cabo de 1 semestre tendrá {resultado1[1]} del mercado \\n\\\n",
        "La empresa A al cabo de 1 semestre tendrá {resultado1[2]} del mercado')\n",
        "\n",
        "# Armo una matriz donde cada fila es un estado del sistema\n",
        "evol_estado_mercado = np.array([estado_inicial, estado_1_semestre])\n",
        "x = np.arange(2)\n",
        "y1 = evol_estado_mercado[:,0]\n",
        "y2 = evol_estado_mercado[:,1]\n",
        "y3 = evol_estado_mercado[:,2]\n",
        "width = 0.2\n",
        "\n",
        "# Labels van a ser las etiquetas del eje X y Legends los nombres de cada uno de los y\n",
        "# IMPORTANTE: la cantidad de elementos debe coincidir con la data\n",
        "labels = ['S0', 'S1']\n",
        "legends = ['A', 'B', 'C']  \n",
        "\n",
        "# Al objeto plt(grafico) le instruyo que grafique columnas y le paso la data de cada una\n",
        "plt.bar(x-0.2, y1, width, color='cyan')\n",
        "plt.bar(x, y2, width, color='orange')\n",
        "plt.bar(x+0.2, y3, width, color='green')\n",
        "\n",
        "# Le indico al objeto plt(grafico) que agregue a cada x su label, y los labels de cada eje\n",
        "plt.xticks(x, labels)\n",
        "plt.xlabel(\"Semestre\")\n",
        "plt.ylabel(\"%\")\n",
        "\n",
        "# Le digo al objeto plt(grafico) que agregue las legends\n",
        "plt.legend(legends)\n",
        "\n",
        "# Hago que me muestre la imagen\n",
        "plt.show()"
      ],
      "execution_count": null,
      "outputs": [
        {
          "output_type": "stream",
          "text": [
            "La empresa A al cabo de 1 semestre tendrá 0.2 del mercado \n",
            "La empresa A al cabo de 1 semestre tendrá 0.4 del mercado \n",
            "La empresa A al cabo de 1 semestre tendrá 0.3 del mercado\n"
          ],
          "name": "stdout"
        },
        {
          "output_type": "display_data",
          "data": {
            "text/plain": [
              "<Figure size 432x288 with 1 Axes>"
            ],
            "image/svg+xml": "<?xml version=\"1.0\" encoding=\"utf-8\" standalone=\"no\"?>\n<!DOCTYPE svg PUBLIC \"-//W3C//DTD SVG 1.1//EN\"\n  \"http://www.w3.org/Graphics/SVG/1.1/DTD/svg11.dtd\">\n<svg height=\"262.19625pt\" version=\"1.1\" viewBox=\"0 0 385.78125 262.19625\" width=\"385.78125pt\" xmlns=\"http://www.w3.org/2000/svg\" xmlns:xlink=\"http://www.w3.org/1999/xlink\">\n <metadata>\n  <rdf:RDF xmlns:cc=\"http://creativecommons.org/ns#\" xmlns:dc=\"http://purl.org/dc/elements/1.1/\" xmlns:rdf=\"http://www.w3.org/1999/02/22-rdf-syntax-ns#\">\n   <cc:Work>\n    <dc:type rdf:resource=\"http://purl.org/dc/dcmitype/StillImage\"/>\n    <dc:date>2021-04-27T21:16:18.268881</dc:date>\n    <dc:format>image/svg+xml</dc:format>\n    <dc:creator>\n     <cc:Agent>\n      <dc:title>Matplotlib v3.4.1, https://matplotlib.org/</dc:title>\n     </cc:Agent>\n    </dc:creator>\n   </cc:Work>\n  </rdf:RDF>\n </metadata>\n <defs>\n  <style type=\"text/css\">*{stroke-linecap:butt;stroke-linejoin:round;}</style>\n </defs>\n <g id=\"figure_1\">\n  <g id=\"patch_1\">\n   <path d=\"M 0 262.19625 \nL 385.78125 262.19625 \nL 385.78125 0 \nL 0 0 \nz\n\" style=\"fill:none;\"/>\n  </g>\n  <g id=\"axes_1\">\n   <g id=\"patch_2\">\n    <path d=\"M 43.78125 224.64 \nL 378.58125 224.64 \nL 378.58125 7.2 \nL 43.78125 7.2 \nz\n\" style=\"fill:#ffffff;\"/>\n   </g>\n   <g id=\"patch_3\">\n    <path clip-path=\"url(#pa36301e829)\" d=\"M 58.999432 224.64 \nL 97.044886 224.64 \nL 97.044886 155.611429 \nL 58.999432 155.611429 \nz\n\" style=\"fill:#00ffff;\"/>\n   </g>\n   <g id=\"patch_4\">\n    <path clip-path=\"url(#pa36301e829)\" d=\"M 249.226705 224.64 \nL 287.272159 224.64 \nL 287.272159 111.893333 \nL 249.226705 111.893333 \nz\n\" style=\"fill:#00ffff;\"/>\n   </g>\n   <g id=\"patch_5\">\n    <path clip-path=\"url(#pa36301e829)\" d=\"M 97.044886 224.64 \nL 135.090341 224.64 \nL 135.090341 17.554286 \nL 97.044886 17.554286 \nz\n\" style=\"fill:#ffa500;\"/>\n   </g>\n   <g id=\"patch_6\">\n    <path clip-path=\"url(#pa36301e829)\" d=\"M 287.272159 224.64 \nL 325.317614 224.64 \nL 325.317614 35.961905 \nL 287.272159 35.961905 \nz\n\" style=\"fill:#ffa500;\"/>\n   </g>\n   <g id=\"patch_7\">\n    <path clip-path=\"url(#pa36301e829)\" d=\"M 135.090341 224.64 \nL 173.135795 224.64 \nL 173.135795 40.56381 \nL 135.090341 40.56381 \nz\n\" style=\"fill:#008000;\"/>\n   </g>\n   <g id=\"patch_8\">\n    <path clip-path=\"url(#pa36301e829)\" d=\"M 325.317614 224.64 \nL 363.363068 224.64 \nL 363.363068 65.874286 \nL 325.317614 65.874286 \nz\n\" style=\"fill:#008000;\"/>\n   </g>\n   <g id=\"matplotlib.axis_1\">\n    <g id=\"xtick_1\">\n     <g id=\"line2d_1\">\n      <defs>\n       <path d=\"M 0 0 \nL 0 3.5 \n\" id=\"m17e5c43343\" style=\"stroke:#000000;stroke-width:0.8;\"/>\n      </defs>\n      <g>\n       <use style=\"stroke:#000000;stroke-width:0.8;\" x=\"116.067614\" xlink:href=\"#m17e5c43343\" y=\"224.64\"/>\n      </g>\n     </g>\n     <g id=\"text_1\">\n      <!-- S0 -->\n      <g transform=\"translate(109.712145 239.238437)scale(0.1 -0.1)\">\n       <defs>\n        <path d=\"M 3425 4513 \nL 3425 3897 \nQ 3066 4069 2747 4153 \nQ 2428 4238 2131 4238 \nQ 1616 4238 1336 4038 \nQ 1056 3838 1056 3469 \nQ 1056 3159 1242 3001 \nQ 1428 2844 1947 2747 \nL 2328 2669 \nQ 3034 2534 3370 2195 \nQ 3706 1856 3706 1288 \nQ 3706 609 3251 259 \nQ 2797 -91 1919 -91 \nQ 1588 -91 1214 -16 \nQ 841 59 441 206 \nL 441 856 \nQ 825 641 1194 531 \nQ 1563 422 1919 422 \nQ 2459 422 2753 634 \nQ 3047 847 3047 1241 \nQ 3047 1584 2836 1778 \nQ 2625 1972 2144 2069 \nL 1759 2144 \nQ 1053 2284 737 2584 \nQ 422 2884 422 3419 \nQ 422 4038 858 4394 \nQ 1294 4750 2059 4750 \nQ 2388 4750 2728 4690 \nQ 3069 4631 3425 4513 \nz\n\" id=\"DejaVuSans-53\" transform=\"scale(0.015625)\"/>\n        <path d=\"M 2034 4250 \nQ 1547 4250 1301 3770 \nQ 1056 3291 1056 2328 \nQ 1056 1369 1301 889 \nQ 1547 409 2034 409 \nQ 2525 409 2770 889 \nQ 3016 1369 3016 2328 \nQ 3016 3291 2770 3770 \nQ 2525 4250 2034 4250 \nz\nM 2034 4750 \nQ 2819 4750 3233 4129 \nQ 3647 3509 3647 2328 \nQ 3647 1150 3233 529 \nQ 2819 -91 2034 -91 \nQ 1250 -91 836 529 \nQ 422 1150 422 2328 \nQ 422 3509 836 4129 \nQ 1250 4750 2034 4750 \nz\n\" id=\"DejaVuSans-30\" transform=\"scale(0.015625)\"/>\n       </defs>\n       <use xlink:href=\"#DejaVuSans-53\"/>\n       <use x=\"63.476562\" xlink:href=\"#DejaVuSans-30\"/>\n      </g>\n     </g>\n    </g>\n    <g id=\"xtick_2\">\n     <g id=\"line2d_2\">\n      <g>\n       <use style=\"stroke:#000000;stroke-width:0.8;\" x=\"306.294886\" xlink:href=\"#m17e5c43343\" y=\"224.64\"/>\n      </g>\n     </g>\n     <g id=\"text_2\">\n      <!-- S1 -->\n      <g transform=\"translate(299.939418 239.238437)scale(0.1 -0.1)\">\n       <defs>\n        <path d=\"M 794 531 \nL 1825 531 \nL 1825 4091 \nL 703 3866 \nL 703 4441 \nL 1819 4666 \nL 2450 4666 \nL 2450 531 \nL 3481 531 \nL 3481 0 \nL 794 0 \nL 794 531 \nz\n\" id=\"DejaVuSans-31\" transform=\"scale(0.015625)\"/>\n       </defs>\n       <use xlink:href=\"#DejaVuSans-53\"/>\n       <use x=\"63.476562\" xlink:href=\"#DejaVuSans-31\"/>\n      </g>\n     </g>\n    </g>\n    <g id=\"text_3\">\n     <!-- Semestre -->\n     <g transform=\"translate(187.399219 252.916562)scale(0.1 -0.1)\">\n      <defs>\n       <path d=\"M 3597 1894 \nL 3597 1613 \nL 953 1613 \nQ 991 1019 1311 708 \nQ 1631 397 2203 397 \nQ 2534 397 2845 478 \nQ 3156 559 3463 722 \nL 3463 178 \nQ 3153 47 2828 -22 \nQ 2503 -91 2169 -91 \nQ 1331 -91 842 396 \nQ 353 884 353 1716 \nQ 353 2575 817 3079 \nQ 1281 3584 2069 3584 \nQ 2775 3584 3186 3129 \nQ 3597 2675 3597 1894 \nz\nM 3022 2063 \nQ 3016 2534 2758 2815 \nQ 2500 3097 2075 3097 \nQ 1594 3097 1305 2825 \nQ 1016 2553 972 2059 \nL 3022 2063 \nz\n\" id=\"DejaVuSans-65\" transform=\"scale(0.015625)\"/>\n       <path d=\"M 3328 2828 \nQ 3544 3216 3844 3400 \nQ 4144 3584 4550 3584 \nQ 5097 3584 5394 3201 \nQ 5691 2819 5691 2113 \nL 5691 0 \nL 5113 0 \nL 5113 2094 \nQ 5113 2597 4934 2840 \nQ 4756 3084 4391 3084 \nQ 3944 3084 3684 2787 \nQ 3425 2491 3425 1978 \nL 3425 0 \nL 2847 0 \nL 2847 2094 \nQ 2847 2600 2669 2842 \nQ 2491 3084 2119 3084 \nQ 1678 3084 1418 2786 \nQ 1159 2488 1159 1978 \nL 1159 0 \nL 581 0 \nL 581 3500 \nL 1159 3500 \nL 1159 2956 \nQ 1356 3278 1631 3431 \nQ 1906 3584 2284 3584 \nQ 2666 3584 2933 3390 \nQ 3200 3197 3328 2828 \nz\n\" id=\"DejaVuSans-6d\" transform=\"scale(0.015625)\"/>\n       <path d=\"M 2834 3397 \nL 2834 2853 \nQ 2591 2978 2328 3040 \nQ 2066 3103 1784 3103 \nQ 1356 3103 1142 2972 \nQ 928 2841 928 2578 \nQ 928 2378 1081 2264 \nQ 1234 2150 1697 2047 \nL 1894 2003 \nQ 2506 1872 2764 1633 \nQ 3022 1394 3022 966 \nQ 3022 478 2636 193 \nQ 2250 -91 1575 -91 \nQ 1294 -91 989 -36 \nQ 684 19 347 128 \nL 347 722 \nQ 666 556 975 473 \nQ 1284 391 1588 391 \nQ 1994 391 2212 530 \nQ 2431 669 2431 922 \nQ 2431 1156 2273 1281 \nQ 2116 1406 1581 1522 \nL 1381 1569 \nQ 847 1681 609 1914 \nQ 372 2147 372 2553 \nQ 372 3047 722 3315 \nQ 1072 3584 1716 3584 \nQ 2034 3584 2315 3537 \nQ 2597 3491 2834 3397 \nz\n\" id=\"DejaVuSans-73\" transform=\"scale(0.015625)\"/>\n       <path d=\"M 1172 4494 \nL 1172 3500 \nL 2356 3500 \nL 2356 3053 \nL 1172 3053 \nL 1172 1153 \nQ 1172 725 1289 603 \nQ 1406 481 1766 481 \nL 2356 481 \nL 2356 0 \nL 1766 0 \nQ 1100 0 847 248 \nQ 594 497 594 1153 \nL 594 3053 \nL 172 3053 \nL 172 3500 \nL 594 3500 \nL 594 4494 \nL 1172 4494 \nz\n\" id=\"DejaVuSans-74\" transform=\"scale(0.015625)\"/>\n       <path d=\"M 2631 2963 \nQ 2534 3019 2420 3045 \nQ 2306 3072 2169 3072 \nQ 1681 3072 1420 2755 \nQ 1159 2438 1159 1844 \nL 1159 0 \nL 581 0 \nL 581 3500 \nL 1159 3500 \nL 1159 2956 \nQ 1341 3275 1631 3429 \nQ 1922 3584 2338 3584 \nQ 2397 3584 2469 3576 \nQ 2541 3569 2628 3553 \nL 2631 2963 \nz\n\" id=\"DejaVuSans-72\" transform=\"scale(0.015625)\"/>\n      </defs>\n      <use xlink:href=\"#DejaVuSans-53\"/>\n      <use x=\"63.476562\" xlink:href=\"#DejaVuSans-65\"/>\n      <use x=\"125\" xlink:href=\"#DejaVuSans-6d\"/>\n      <use x=\"222.412109\" xlink:href=\"#DejaVuSans-65\"/>\n      <use x=\"283.935547\" xlink:href=\"#DejaVuSans-73\"/>\n      <use x=\"336.035156\" xlink:href=\"#DejaVuSans-74\"/>\n      <use x=\"375.244141\" xlink:href=\"#DejaVuSans-72\"/>\n      <use x=\"414.107422\" xlink:href=\"#DejaVuSans-65\"/>\n     </g>\n    </g>\n   </g>\n   <g id=\"matplotlib.axis_2\">\n    <g id=\"ytick_1\">\n     <g id=\"line2d_3\">\n      <defs>\n       <path d=\"M 0 0 \nL -3.5 0 \n\" id=\"m2da53fe9ad\" style=\"stroke:#000000;stroke-width:0.8;\"/>\n      </defs>\n      <g>\n       <use style=\"stroke:#000000;stroke-width:0.8;\" x=\"43.78125\" xlink:href=\"#m2da53fe9ad\" y=\"224.64\"/>\n      </g>\n     </g>\n     <g id=\"text_4\">\n      <!-- 0.0 -->\n      <g transform=\"translate(20.878125 228.439219)scale(0.1 -0.1)\">\n       <defs>\n        <path d=\"M 684 794 \nL 1344 794 \nL 1344 0 \nL 684 0 \nL 684 794 \nz\n\" id=\"DejaVuSans-2e\" transform=\"scale(0.015625)\"/>\n       </defs>\n       <use xlink:href=\"#DejaVuSans-30\"/>\n       <use x=\"63.623047\" xlink:href=\"#DejaVuSans-2e\"/>\n       <use x=\"95.410156\" xlink:href=\"#DejaVuSans-30\"/>\n      </g>\n     </g>\n    </g>\n    <g id=\"ytick_2\">\n     <g id=\"line2d_4\">\n      <g>\n       <use style=\"stroke:#000000;stroke-width:0.8;\" x=\"43.78125\" xlink:href=\"#m2da53fe9ad\" y=\"178.620952\"/>\n      </g>\n     </g>\n     <g id=\"text_5\">\n      <!-- 0.1 -->\n      <g transform=\"translate(20.878125 182.420171)scale(0.1 -0.1)\">\n       <use xlink:href=\"#DejaVuSans-30\"/>\n       <use x=\"63.623047\" xlink:href=\"#DejaVuSans-2e\"/>\n       <use x=\"95.410156\" xlink:href=\"#DejaVuSans-31\"/>\n      </g>\n     </g>\n    </g>\n    <g id=\"ytick_3\">\n     <g id=\"line2d_5\">\n      <g>\n       <use style=\"stroke:#000000;stroke-width:0.8;\" x=\"43.78125\" xlink:href=\"#m2da53fe9ad\" y=\"132.601905\"/>\n      </g>\n     </g>\n     <g id=\"text_6\">\n      <!-- 0.2 -->\n      <g transform=\"translate(20.878125 136.401124)scale(0.1 -0.1)\">\n       <defs>\n        <path d=\"M 1228 531 \nL 3431 531 \nL 3431 0 \nL 469 0 \nL 469 531 \nQ 828 903 1448 1529 \nQ 2069 2156 2228 2338 \nQ 2531 2678 2651 2914 \nQ 2772 3150 2772 3378 \nQ 2772 3750 2511 3984 \nQ 2250 4219 1831 4219 \nQ 1534 4219 1204 4116 \nQ 875 4013 500 3803 \nL 500 4441 \nQ 881 4594 1212 4672 \nQ 1544 4750 1819 4750 \nQ 2544 4750 2975 4387 \nQ 3406 4025 3406 3419 \nQ 3406 3131 3298 2873 \nQ 3191 2616 2906 2266 \nQ 2828 2175 2409 1742 \nQ 1991 1309 1228 531 \nz\n\" id=\"DejaVuSans-32\" transform=\"scale(0.015625)\"/>\n       </defs>\n       <use xlink:href=\"#DejaVuSans-30\"/>\n       <use x=\"63.623047\" xlink:href=\"#DejaVuSans-2e\"/>\n       <use x=\"95.410156\" xlink:href=\"#DejaVuSans-32\"/>\n      </g>\n     </g>\n    </g>\n    <g id=\"ytick_4\">\n     <g id=\"line2d_6\">\n      <g>\n       <use style=\"stroke:#000000;stroke-width:0.8;\" x=\"43.78125\" xlink:href=\"#m2da53fe9ad\" y=\"86.582857\"/>\n      </g>\n     </g>\n     <g id=\"text_7\">\n      <!-- 0.3 -->\n      <g transform=\"translate(20.878125 90.382076)scale(0.1 -0.1)\">\n       <defs>\n        <path d=\"M 2597 2516 \nQ 3050 2419 3304 2112 \nQ 3559 1806 3559 1356 \nQ 3559 666 3084 287 \nQ 2609 -91 1734 -91 \nQ 1441 -91 1130 -33 \nQ 819 25 488 141 \nL 488 750 \nQ 750 597 1062 519 \nQ 1375 441 1716 441 \nQ 2309 441 2620 675 \nQ 2931 909 2931 1356 \nQ 2931 1769 2642 2001 \nQ 2353 2234 1838 2234 \nL 1294 2234 \nL 1294 2753 \nL 1863 2753 \nQ 2328 2753 2575 2939 \nQ 2822 3125 2822 3475 \nQ 2822 3834 2567 4026 \nQ 2313 4219 1838 4219 \nQ 1578 4219 1281 4162 \nQ 984 4106 628 3988 \nL 628 4550 \nQ 988 4650 1302 4700 \nQ 1616 4750 1894 4750 \nQ 2613 4750 3031 4423 \nQ 3450 4097 3450 3541 \nQ 3450 3153 3228 2886 \nQ 3006 2619 2597 2516 \nz\n\" id=\"DejaVuSans-33\" transform=\"scale(0.015625)\"/>\n       </defs>\n       <use xlink:href=\"#DejaVuSans-30\"/>\n       <use x=\"63.623047\" xlink:href=\"#DejaVuSans-2e\"/>\n       <use x=\"95.410156\" xlink:href=\"#DejaVuSans-33\"/>\n      </g>\n     </g>\n    </g>\n    <g id=\"ytick_5\">\n     <g id=\"line2d_7\">\n      <g>\n       <use style=\"stroke:#000000;stroke-width:0.8;\" x=\"43.78125\" xlink:href=\"#m2da53fe9ad\" y=\"40.56381\"/>\n      </g>\n     </g>\n     <g id=\"text_8\">\n      <!-- 0.4 -->\n      <g transform=\"translate(20.878125 44.363028)scale(0.1 -0.1)\">\n       <defs>\n        <path d=\"M 2419 4116 \nL 825 1625 \nL 2419 1625 \nL 2419 4116 \nz\nM 2253 4666 \nL 3047 4666 \nL 3047 1625 \nL 3713 1625 \nL 3713 1100 \nL 3047 1100 \nL 3047 0 \nL 2419 0 \nL 2419 1100 \nL 313 1100 \nL 313 1709 \nL 2253 4666 \nz\n\" id=\"DejaVuSans-34\" transform=\"scale(0.015625)\"/>\n       </defs>\n       <use xlink:href=\"#DejaVuSans-30\"/>\n       <use x=\"63.623047\" xlink:href=\"#DejaVuSans-2e\"/>\n       <use x=\"95.410156\" xlink:href=\"#DejaVuSans-34\"/>\n      </g>\n     </g>\n    </g>\n    <g id=\"text_9\">\n     <!-- % -->\n     <g transform=\"translate(14.798438 120.670781)rotate(-90)scale(0.1 -0.1)\">\n      <defs>\n       <path d=\"M 4653 2053 \nQ 4381 2053 4226 1822 \nQ 4072 1591 4072 1178 \nQ 4072 772 4226 539 \nQ 4381 306 4653 306 \nQ 4919 306 5073 539 \nQ 5228 772 5228 1178 \nQ 5228 1588 5073 1820 \nQ 4919 2053 4653 2053 \nz\nM 4653 2450 \nQ 5147 2450 5437 2106 \nQ 5728 1763 5728 1178 \nQ 5728 594 5436 251 \nQ 5144 -91 4653 -91 \nQ 4153 -91 3862 251 \nQ 3572 594 3572 1178 \nQ 3572 1766 3864 2108 \nQ 4156 2450 4653 2450 \nz\nM 1428 4353 \nQ 1159 4353 1004 4120 \nQ 850 3888 850 3481 \nQ 850 3069 1003 2837 \nQ 1156 2606 1428 2606 \nQ 1700 2606 1854 2837 \nQ 2009 3069 2009 3481 \nQ 2009 3884 1853 4118 \nQ 1697 4353 1428 4353 \nz\nM 4250 4750 \nL 4750 4750 \nL 1831 -91 \nL 1331 -91 \nL 4250 4750 \nz\nM 1428 4750 \nQ 1922 4750 2215 4408 \nQ 2509 4066 2509 3481 \nQ 2509 2891 2217 2550 \nQ 1925 2209 1428 2209 \nQ 931 2209 642 2551 \nQ 353 2894 353 3481 \nQ 353 4063 643 4406 \nQ 934 4750 1428 4750 \nz\n\" id=\"DejaVuSans-25\" transform=\"scale(0.015625)\"/>\n      </defs>\n      <use xlink:href=\"#DejaVuSans-25\"/>\n     </g>\n    </g>\n   </g>\n   <g id=\"patch_9\">\n    <path d=\"M 43.78125 224.64 \nL 43.78125 7.2 \n\" style=\"fill:none;stroke:#000000;stroke-linecap:square;stroke-linejoin:miter;stroke-width:0.8;\"/>\n   </g>\n   <g id=\"patch_10\">\n    <path d=\"M 378.58125 224.64 \nL 378.58125 7.2 \n\" style=\"fill:none;stroke:#000000;stroke-linecap:square;stroke-linejoin:miter;stroke-width:0.8;\"/>\n   </g>\n   <g id=\"patch_11\">\n    <path d=\"M 43.78125 224.64 \nL 378.58125 224.64 \n\" style=\"fill:none;stroke:#000000;stroke-linecap:square;stroke-linejoin:miter;stroke-width:0.8;\"/>\n   </g>\n   <g id=\"patch_12\">\n    <path d=\"M 43.78125 7.2 \nL 378.58125 7.2 \n\" style=\"fill:none;stroke:#000000;stroke-linecap:square;stroke-linejoin:miter;stroke-width:0.8;\"/>\n   </g>\n   <g id=\"legend_1\">\n    <g id=\"patch_13\">\n     <path d=\"M 332.598437 59.234375 \nL 371.58125 59.234375 \nQ 373.58125 59.234375 373.58125 57.234375 \nL 373.58125 14.2 \nQ 373.58125 12.2 371.58125 12.2 \nL 332.598437 12.2 \nQ 330.598437 12.2 330.598437 14.2 \nL 330.598437 57.234375 \nQ 330.598437 59.234375 332.598437 59.234375 \nz\n\" style=\"fill:#ffffff;opacity:0.8;stroke:#cccccc;stroke-linejoin:miter;\"/>\n    </g>\n    <g id=\"patch_14\">\n     <path d=\"M 334.598437 23.798437 \nL 354.598437 23.798437 \nL 354.598437 16.798437 \nL 334.598437 16.798437 \nz\n\" style=\"fill:#00ffff;\"/>\n    </g>\n    <g id=\"text_10\">\n     <!-- A -->\n     <g transform=\"translate(362.598437 23.798437)scale(0.1 -0.1)\">\n      <defs>\n       <path d=\"M 2188 4044 \nL 1331 1722 \nL 3047 1722 \nL 2188 4044 \nz\nM 1831 4666 \nL 2547 4666 \nL 4325 0 \nL 3669 0 \nL 3244 1197 \nL 1141 1197 \nL 716 0 \nL 50 0 \nL 1831 4666 \nz\n\" id=\"DejaVuSans-41\" transform=\"scale(0.015625)\"/>\n      </defs>\n      <use xlink:href=\"#DejaVuSans-41\"/>\n     </g>\n    </g>\n    <g id=\"patch_15\">\n     <path d=\"M 334.598437 38.476562 \nL 354.598437 38.476562 \nL 354.598437 31.476562 \nL 334.598437 31.476562 \nz\n\" style=\"fill:#ffa500;\"/>\n    </g>\n    <g id=\"text_11\">\n     <!-- B -->\n     <g transform=\"translate(362.598437 38.476562)scale(0.1 -0.1)\">\n      <defs>\n       <path d=\"M 1259 2228 \nL 1259 519 \nL 2272 519 \nQ 2781 519 3026 730 \nQ 3272 941 3272 1375 \nQ 3272 1813 3026 2020 \nQ 2781 2228 2272 2228 \nL 1259 2228 \nz\nM 1259 4147 \nL 1259 2741 \nL 2194 2741 \nQ 2656 2741 2882 2914 \nQ 3109 3088 3109 3444 \nQ 3109 3797 2882 3972 \nQ 2656 4147 2194 4147 \nL 1259 4147 \nz\nM 628 4666 \nL 2241 4666 \nQ 2963 4666 3353 4366 \nQ 3744 4066 3744 3513 \nQ 3744 3084 3544 2831 \nQ 3344 2578 2956 2516 \nQ 3422 2416 3680 2098 \nQ 3938 1781 3938 1306 \nQ 3938 681 3513 340 \nQ 3088 0 2303 0 \nL 628 0 \nL 628 4666 \nz\n\" id=\"DejaVuSans-42\" transform=\"scale(0.015625)\"/>\n      </defs>\n      <use xlink:href=\"#DejaVuSans-42\"/>\n     </g>\n    </g>\n    <g id=\"patch_16\">\n     <path d=\"M 334.598437 53.154687 \nL 354.598437 53.154687 \nL 354.598437 46.154687 \nL 334.598437 46.154687 \nz\n\" style=\"fill:#008000;\"/>\n    </g>\n    <g id=\"text_12\">\n     <!-- C -->\n     <g transform=\"translate(362.598437 53.154687)scale(0.1 -0.1)\">\n      <defs>\n       <path d=\"M 4122 4306 \nL 4122 3641 \nQ 3803 3938 3442 4084 \nQ 3081 4231 2675 4231 \nQ 1875 4231 1450 3742 \nQ 1025 3253 1025 2328 \nQ 1025 1406 1450 917 \nQ 1875 428 2675 428 \nQ 3081 428 3442 575 \nQ 3803 722 4122 1019 \nL 4122 359 \nQ 3791 134 3420 21 \nQ 3050 -91 2638 -91 \nQ 1578 -91 968 557 \nQ 359 1206 359 2328 \nQ 359 3453 968 4101 \nQ 1578 4750 2638 4750 \nQ 3056 4750 3426 4639 \nQ 3797 4528 4122 4306 \nz\n\" id=\"DejaVuSans-43\" transform=\"scale(0.015625)\"/>\n      </defs>\n      <use xlink:href=\"#DejaVuSans-43\"/>\n     </g>\n    </g>\n   </g>\n  </g>\n </g>\n <defs>\n  <clipPath id=\"pa36301e829\">\n   <rect height=\"217.44\" width=\"334.8\" x=\"43.78125\" y=\"7.2\"/>\n  </clipPath>\n </defs>\n</svg>\n",
            "image/png": "[encoded data removed]"
          },
          "metadata": {
            "tags": [],
            "needs_background": "light"
          }
        }
      ]
    },
    {
      "cell_type": "code",
      "metadata": {
        "id": "X70PE74mXPXH",
        "outputId": "adc76c87-3344-40ae-c57b-c8ee019625e2"
      },
      "source": [
        "T6 = np.linalg.matrix_power(T, 6) # 3 años = 6 semestres\n",
        "estado_6_semestres =  np.dot(estado_inicial, T6)\n",
        "\n",
        "resultado2=np.around(estado_6_semestres, decimals=1)\n",
        "\n",
        "print(f'La empresa A al cabo de 1 semestre tendrá {resultado2[0]} del mercado \\n\\\n",
        "La empresa A al cabo de 1 semestre tendrá {resultado2[1]} del mercado \\n\\\n",
        "La empresa A al cabo de 1 semestre tendrá {resultado2[2]} del mercado')\n",
        "\n",
        "evol_estado_mercado = np.array([estado_inicial, estado_1_semestre,estado_6_semestres])\n",
        "x = np.arange(3) # Cambie de 2 a 3 ya que hay un valor más\n",
        "y1 = evol_estado_mercado[:,0]\n",
        "y2 = evol_estado_mercado[:,1]\n",
        "y3 = evol_estado_mercado[:,2]\n",
        "width = 0.2\n",
        "\n",
        "labels = ['S0', 'S1','S6'] #Agregue S6\n",
        "legends = ['A', 'B', 'C']  \n",
        "\n",
        "# Al objeto plt(grafico) le instruyo que grafique columnas y le paso la data de cada una\n",
        "plt.bar(x-0.2, y1, width, color='cyan')\n",
        "plt.bar(x, y2, width, color='orange')\n",
        "plt.bar(x+0.2, y3, width, color='green')\n",
        "\n",
        "# Le indico al objeto plt(grafico) que agregue a cada x su label, y los labels de cada eje\n",
        "plt.xticks(x, labels)\n",
        "plt.xlabel(\"Semestre\")\n",
        "plt.ylabel(\"%\")\n",
        "\n",
        "# Le digo al objeto plt(grafico) que agregue las legends\n",
        "plt.legend(legends)\n",
        "\n",
        "# Hago que me muestre la imagen\n",
        "plt.show()"
      ],
      "execution_count": null,
      "outputs": [
        {
          "output_type": "stream",
          "text": [
            "La empresa A al cabo de 1 semestre tendrá 0.4 del mercado \n",
            "La empresa A al cabo de 1 semestre tendrá 0.3 del mercado \n",
            "La empresa A al cabo de 1 semestre tendrá 0.3 del mercado\n"
          ],
          "name": "stdout"
        },
        {
          "output_type": "display_data",
          "data": {
            "text/plain": [
              "<Figure size 432x288 with 1 Axes>"
            ],
            "image/svg+xml": "<?xml version=\"1.0\" encoding=\"utf-8\" standalone=\"no\"?>\n<!DOCTYPE svg PUBLIC \"-//W3C//DTD SVG 1.1//EN\"\n  \"http://www.w3.org/Graphics/SVG/1.1/DTD/svg11.dtd\">\n<svg height=\"262.19625pt\" version=\"1.1\" viewBox=\"0 0 385.78125 262.19625\" width=\"385.78125pt\" xmlns=\"http://www.w3.org/2000/svg\" xmlns:xlink=\"http://www.w3.org/1999/xlink\">\n <metadata>\n  <rdf:RDF xmlns:cc=\"http://creativecommons.org/ns#\" xmlns:dc=\"http://purl.org/dc/elements/1.1/\" xmlns:rdf=\"http://www.w3.org/1999/02/22-rdf-syntax-ns#\">\n   <cc:Work>\n    <dc:type rdf:resource=\"http://purl.org/dc/dcmitype/StillImage\"/>\n    <dc:date>2021-04-27T21:30:33.476517</dc:date>\n    <dc:format>image/svg+xml</dc:format>\n    <dc:creator>\n     <cc:Agent>\n      <dc:title>Matplotlib v3.4.1, https://matplotlib.org/</dc:title>\n     </cc:Agent>\n    </dc:creator>\n   </cc:Work>\n  </rdf:RDF>\n </metadata>\n <defs>\n  <style type=\"text/css\">*{stroke-linecap:butt;stroke-linejoin:round;}</style>\n </defs>\n <g id=\"figure_1\">\n  <g id=\"patch_1\">\n   <path d=\"M 0 262.19625 \nL 385.78125 262.19625 \nL 385.78125 0 \nL 0 0 \nz\n\" style=\"fill:none;\"/>\n  </g>\n  <g id=\"axes_1\">\n   <g id=\"patch_2\">\n    <path d=\"M 43.78125 224.64 \nL 378.58125 224.64 \nL 378.58125 7.2 \nL 43.78125 7.2 \nz\n\" style=\"fill:#ffffff;\"/>\n   </g>\n   <g id=\"patch_3\">\n    <path clip-path=\"url(#p145129ec1e)\" d=\"M 58.999432 224.64 \nL 82.412019 224.64 \nL 82.412019 155.611429 \nL 58.999432 155.611429 \nz\n\" style=\"fill:#00ffff;\"/>\n   </g>\n   <g id=\"patch_4\">\n    <path clip-path=\"url(#p145129ec1e)\" d=\"M 176.062369 224.64 \nL 199.474956 224.64 \nL 199.474956 111.893333 \nL 176.062369 111.893333 \nz\n\" style=\"fill:#00ffff;\"/>\n   </g>\n   <g id=\"patch_5\">\n    <path clip-path=\"url(#p145129ec1e)\" d=\"M 293.125306 224.64 \nL 316.537893 224.64 \nL 316.537893 40.828258 \nL 293.125306 40.828258 \nz\n\" style=\"fill:#00ffff;\"/>\n   </g>\n   <g id=\"patch_6\">\n    <path clip-path=\"url(#p145129ec1e)\" d=\"M 82.412019 224.64 \nL 105.824607 224.64 \nL 105.824607 17.554286 \nL 82.412019 17.554286 \nz\n\" style=\"fill:#ffa500;\"/>\n   </g>\n   <g id=\"patch_7\">\n    <path clip-path=\"url(#p145129ec1e)\" d=\"M 199.474956 224.64 \nL 222.887544 224.64 \nL 222.887544 35.961905 \nL 199.474956 35.961905 \nz\n\" style=\"fill:#ffa500;\"/>\n   </g>\n   <g id=\"patch_8\">\n    <path clip-path=\"url(#p145129ec1e)\" d=\"M 316.537893 224.64 \nL 339.950481 224.64 \nL 339.950481 73.274126 \nL 316.537893 73.274126 \nz\n\" style=\"fill:#ffa500;\"/>\n   </g>\n   <g id=\"patch_9\">\n    <path clip-path=\"url(#p145129ec1e)\" d=\"M 105.824607 224.64 \nL 129.237194 224.64 \nL 129.237194 40.56381 \nL 105.824607 40.56381 \nz\n\" style=\"fill:#008000;\"/>\n   </g>\n   <g id=\"patch_10\">\n    <path clip-path=\"url(#p145129ec1e)\" d=\"M 222.887544 224.64 \nL 246.300131 224.64 \nL 246.300131 65.874286 \nL 222.887544 65.874286 \nz\n\" style=\"fill:#008000;\"/>\n   </g>\n   <g id=\"patch_11\">\n    <path clip-path=\"url(#p145129ec1e)\" d=\"M 339.950481 224.64 \nL 363.363068 224.64 \nL 363.363068 99.62714 \nL 339.950481 99.62714 \nz\n\" style=\"fill:#008000;\"/>\n   </g>\n   <g id=\"matplotlib.axis_1\">\n    <g id=\"xtick_1\">\n     <g id=\"line2d_1\">\n      <defs>\n       <path d=\"M 0 0 \nL 0 3.5 \n\" id=\"ma3044b0962\" style=\"stroke:#000000;stroke-width:0.8;\"/>\n      </defs>\n      <g>\n       <use style=\"stroke:#000000;stroke-width:0.8;\" x=\"94.118313\" xlink:href=\"#ma3044b0962\" y=\"224.64\"/>\n      </g>\n     </g>\n     <g id=\"text_1\">\n      <!-- S0 -->\n      <g transform=\"translate(87.762844 239.238437)scale(0.1 -0.1)\">\n       <defs>\n        <path d=\"M 3425 4513 \nL 3425 3897 \nQ 3066 4069 2747 4153 \nQ 2428 4238 2131 4238 \nQ 1616 4238 1336 4038 \nQ 1056 3838 1056 3469 \nQ 1056 3159 1242 3001 \nQ 1428 2844 1947 2747 \nL 2328 2669 \nQ 3034 2534 3370 2195 \nQ 3706 1856 3706 1288 \nQ 3706 609 3251 259 \nQ 2797 -91 1919 -91 \nQ 1588 -91 1214 -16 \nQ 841 59 441 206 \nL 441 856 \nQ 825 641 1194 531 \nQ 1563 422 1919 422 \nQ 2459 422 2753 634 \nQ 3047 847 3047 1241 \nQ 3047 1584 2836 1778 \nQ 2625 1972 2144 2069 \nL 1759 2144 \nQ 1053 2284 737 2584 \nQ 422 2884 422 3419 \nQ 422 4038 858 4394 \nQ 1294 4750 2059 4750 \nQ 2388 4750 2728 4690 \nQ 3069 4631 3425 4513 \nz\n\" id=\"DejaVuSans-53\" transform=\"scale(0.015625)\"/>\n        <path d=\"M 2034 4250 \nQ 1547 4250 1301 3770 \nQ 1056 3291 1056 2328 \nQ 1056 1369 1301 889 \nQ 1547 409 2034 409 \nQ 2525 409 2770 889 \nQ 3016 1369 3016 2328 \nQ 3016 3291 2770 3770 \nQ 2525 4250 2034 4250 \nz\nM 2034 4750 \nQ 2819 4750 3233 4129 \nQ 3647 3509 3647 2328 \nQ 3647 1150 3233 529 \nQ 2819 -91 2034 -91 \nQ 1250 -91 836 529 \nQ 422 1150 422 2328 \nQ 422 3509 836 4129 \nQ 1250 4750 2034 4750 \nz\n\" id=\"DejaVuSans-30\" transform=\"scale(0.015625)\"/>\n       </defs>\n       <use xlink:href=\"#DejaVuSans-53\"/>\n       <use x=\"63.476562\" xlink:href=\"#DejaVuSans-30\"/>\n      </g>\n     </g>\n    </g>\n    <g id=\"xtick_2\">\n     <g id=\"line2d_2\">\n      <g>\n       <use style=\"stroke:#000000;stroke-width:0.8;\" x=\"211.18125\" xlink:href=\"#ma3044b0962\" y=\"224.64\"/>\n      </g>\n     </g>\n     <g id=\"text_2\">\n      <!-- S1 -->\n      <g transform=\"translate(204.825781 239.238437)scale(0.1 -0.1)\">\n       <defs>\n        <path d=\"M 794 531 \nL 1825 531 \nL 1825 4091 \nL 703 3866 \nL 703 4441 \nL 1819 4666 \nL 2450 4666 \nL 2450 531 \nL 3481 531 \nL 3481 0 \nL 794 0 \nL 794 531 \nz\n\" id=\"DejaVuSans-31\" transform=\"scale(0.015625)\"/>\n       </defs>\n       <use xlink:href=\"#DejaVuSans-53\"/>\n       <use x=\"63.476562\" xlink:href=\"#DejaVuSans-31\"/>\n      </g>\n     </g>\n    </g>\n    <g id=\"xtick_3\">\n     <g id=\"line2d_3\">\n      <g>\n       <use style=\"stroke:#000000;stroke-width:0.8;\" x=\"328.244187\" xlink:href=\"#ma3044b0962\" y=\"224.64\"/>\n      </g>\n     </g>\n     <g id=\"text_3\">\n      <!-- S6 -->\n      <g transform=\"translate(321.888718 239.238437)scale(0.1 -0.1)\">\n       <defs>\n        <path d=\"M 2113 2584 \nQ 1688 2584 1439 2293 \nQ 1191 2003 1191 1497 \nQ 1191 994 1439 701 \nQ 1688 409 2113 409 \nQ 2538 409 2786 701 \nQ 3034 994 3034 1497 \nQ 3034 2003 2786 2293 \nQ 2538 2584 2113 2584 \nz\nM 3366 4563 \nL 3366 3988 \nQ 3128 4100 2886 4159 \nQ 2644 4219 2406 4219 \nQ 1781 4219 1451 3797 \nQ 1122 3375 1075 2522 \nQ 1259 2794 1537 2939 \nQ 1816 3084 2150 3084 \nQ 2853 3084 3261 2657 \nQ 3669 2231 3669 1497 \nQ 3669 778 3244 343 \nQ 2819 -91 2113 -91 \nQ 1303 -91 875 529 \nQ 447 1150 447 2328 \nQ 447 3434 972 4092 \nQ 1497 4750 2381 4750 \nQ 2619 4750 2861 4703 \nQ 3103 4656 3366 4563 \nz\n\" id=\"DejaVuSans-36\" transform=\"scale(0.015625)\"/>\n       </defs>\n       <use xlink:href=\"#DejaVuSans-53\"/>\n       <use x=\"63.476562\" xlink:href=\"#DejaVuSans-36\"/>\n      </g>\n     </g>\n    </g>\n    <g id=\"text_4\">\n     <!-- Semestre -->\n     <g transform=\"translate(187.399219 252.916562)scale(0.1 -0.1)\">\n      <defs>\n       <path d=\"M 3597 1894 \nL 3597 1613 \nL 953 1613 \nQ 991 1019 1311 708 \nQ 1631 397 2203 397 \nQ 2534 397 2845 478 \nQ 3156 559 3463 722 \nL 3463 178 \nQ 3153 47 2828 -22 \nQ 2503 -91 2169 -91 \nQ 1331 -91 842 396 \nQ 353 884 353 1716 \nQ 353 2575 817 3079 \nQ 1281 3584 2069 3584 \nQ 2775 3584 3186 3129 \nQ 3597 2675 3597 1894 \nz\nM 3022 2063 \nQ 3016 2534 2758 2815 \nQ 2500 3097 2075 3097 \nQ 1594 3097 1305 2825 \nQ 1016 2553 972 2059 \nL 3022 2063 \nz\n\" id=\"DejaVuSans-65\" transform=\"scale(0.015625)\"/>\n       <path d=\"M 3328 2828 \nQ 3544 3216 3844 3400 \nQ 4144 3584 4550 3584 \nQ 5097 3584 5394 3201 \nQ 5691 2819 5691 2113 \nL 5691 0 \nL 5113 0 \nL 5113 2094 \nQ 5113 2597 4934 2840 \nQ 4756 3084 4391 3084 \nQ 3944 3084 3684 2787 \nQ 3425 2491 3425 1978 \nL 3425 0 \nL 2847 0 \nL 2847 2094 \nQ 2847 2600 2669 2842 \nQ 2491 3084 2119 3084 \nQ 1678 3084 1418 2786 \nQ 1159 2488 1159 1978 \nL 1159 0 \nL 581 0 \nL 581 3500 \nL 1159 3500 \nL 1159 2956 \nQ 1356 3278 1631 3431 \nQ 1906 3584 2284 3584 \nQ 2666 3584 2933 3390 \nQ 3200 3197 3328 2828 \nz\n\" id=\"DejaVuSans-6d\" transform=\"scale(0.015625)\"/>\n       <path d=\"M 2834 3397 \nL 2834 2853 \nQ 2591 2978 2328 3040 \nQ 2066 3103 1784 3103 \nQ 1356 3103 1142 2972 \nQ 928 2841 928 2578 \nQ 928 2378 1081 2264 \nQ 1234 2150 1697 2047 \nL 1894 2003 \nQ 2506 1872 2764 1633 \nQ 3022 1394 3022 966 \nQ 3022 478 2636 193 \nQ 2250 -91 1575 -91 \nQ 1294 -91 989 -36 \nQ 684 19 347 128 \nL 347 722 \nQ 666 556 975 473 \nQ 1284 391 1588 391 \nQ 1994 391 2212 530 \nQ 2431 669 2431 922 \nQ 2431 1156 2273 1281 \nQ 2116 1406 1581 1522 \nL 1381 1569 \nQ 847 1681 609 1914 \nQ 372 2147 372 2553 \nQ 372 3047 722 3315 \nQ 1072 3584 1716 3584 \nQ 2034 3584 2315 3537 \nQ 2597 3491 2834 3397 \nz\n\" id=\"DejaVuSans-73\" transform=\"scale(0.015625)\"/>\n       <path d=\"M 1172 4494 \nL 1172 3500 \nL 2356 3500 \nL 2356 3053 \nL 1172 3053 \nL 1172 1153 \nQ 1172 725 1289 603 \nQ 1406 481 1766 481 \nL 2356 481 \nL 2356 0 \nL 1766 0 \nQ 1100 0 847 248 \nQ 594 497 594 1153 \nL 594 3053 \nL 172 3053 \nL 172 3500 \nL 594 3500 \nL 594 4494 \nL 1172 4494 \nz\n\" id=\"DejaVuSans-74\" transform=\"scale(0.015625)\"/>\n       <path d=\"M 2631 2963 \nQ 2534 3019 2420 3045 \nQ 2306 3072 2169 3072 \nQ 1681 3072 1420 2755 \nQ 1159 2438 1159 1844 \nL 1159 0 \nL 581 0 \nL 581 3500 \nL 1159 3500 \nL 1159 2956 \nQ 1341 3275 1631 3429 \nQ 1922 3584 2338 3584 \nQ 2397 3584 2469 3576 \nQ 2541 3569 2628 3553 \nL 2631 2963 \nz\n\" id=\"DejaVuSans-72\" transform=\"scale(0.015625)\"/>\n      </defs>\n      <use xlink:href=\"#DejaVuSans-53\"/>\n      <use x=\"63.476562\" xlink:href=\"#DejaVuSans-65\"/>\n      <use x=\"125\" xlink:href=\"#DejaVuSans-6d\"/>\n      <use x=\"222.412109\" xlink:href=\"#DejaVuSans-65\"/>\n      <use x=\"283.935547\" xlink:href=\"#DejaVuSans-73\"/>\n      <use x=\"336.035156\" xlink:href=\"#DejaVuSans-74\"/>\n      <use x=\"375.244141\" xlink:href=\"#DejaVuSans-72\"/>\n      <use x=\"414.107422\" xlink:href=\"#DejaVuSans-65\"/>\n     </g>\n    </g>\n   </g>\n   <g id=\"matplotlib.axis_2\">\n    <g id=\"ytick_1\">\n     <g id=\"line2d_4\">\n      <defs>\n       <path d=\"M 0 0 \nL -3.5 0 \n\" id=\"mac682fa465\" style=\"stroke:#000000;stroke-width:0.8;\"/>\n      </defs>\n      <g>\n       <use style=\"stroke:#000000;stroke-width:0.8;\" x=\"43.78125\" xlink:href=\"#mac682fa465\" y=\"224.64\"/>\n      </g>\n     </g>\n     <g id=\"text_5\">\n      <!-- 0.0 -->\n      <g transform=\"translate(20.878125 228.439219)scale(0.1 -0.1)\">\n       <defs>\n        <path d=\"M 684 794 \nL 1344 794 \nL 1344 0 \nL 684 0 \nL 684 794 \nz\n\" id=\"DejaVuSans-2e\" transform=\"scale(0.015625)\"/>\n       </defs>\n       <use xlink:href=\"#DejaVuSans-30\"/>\n       <use x=\"63.623047\" xlink:href=\"#DejaVuSans-2e\"/>\n       <use x=\"95.410156\" xlink:href=\"#DejaVuSans-30\"/>\n      </g>\n     </g>\n    </g>\n    <g id=\"ytick_2\">\n     <g id=\"line2d_5\">\n      <g>\n       <use style=\"stroke:#000000;stroke-width:0.8;\" x=\"43.78125\" xlink:href=\"#mac682fa465\" y=\"178.620952\"/>\n      </g>\n     </g>\n     <g id=\"text_6\">\n      <!-- 0.1 -->\n      <g transform=\"translate(20.878125 182.420171)scale(0.1 -0.1)\">\n       <use xlink:href=\"#DejaVuSans-30\"/>\n       <use x=\"63.623047\" xlink:href=\"#DejaVuSans-2e\"/>\n       <use x=\"95.410156\" xlink:href=\"#DejaVuSans-31\"/>\n      </g>\n     </g>\n    </g>\n    <g id=\"ytick_3\">\n     <g id=\"line2d_6\">\n      <g>\n       <use style=\"stroke:#000000;stroke-width:0.8;\" x=\"43.78125\" xlink:href=\"#mac682fa465\" y=\"132.601905\"/>\n      </g>\n     </g>\n     <g id=\"text_7\">\n      <!-- 0.2 -->\n      <g transform=\"translate(20.878125 136.401124)scale(0.1 -0.1)\">\n       <defs>\n        <path d=\"M 1228 531 \nL 3431 531 \nL 3431 0 \nL 469 0 \nL 469 531 \nQ 828 903 1448 1529 \nQ 2069 2156 2228 2338 \nQ 2531 2678 2651 2914 \nQ 2772 3150 2772 3378 \nQ 2772 3750 2511 3984 \nQ 2250 4219 1831 4219 \nQ 1534 4219 1204 4116 \nQ 875 4013 500 3803 \nL 500 4441 \nQ 881 4594 1212 4672 \nQ 1544 4750 1819 4750 \nQ 2544 4750 2975 4387 \nQ 3406 4025 3406 3419 \nQ 3406 3131 3298 2873 \nQ 3191 2616 2906 2266 \nQ 2828 2175 2409 1742 \nQ 1991 1309 1228 531 \nz\n\" id=\"DejaVuSans-32\" transform=\"scale(0.015625)\"/>\n       </defs>\n       <use xlink:href=\"#DejaVuSans-30\"/>\n       <use x=\"63.623047\" xlink:href=\"#DejaVuSans-2e\"/>\n       <use x=\"95.410156\" xlink:href=\"#DejaVuSans-32\"/>\n      </g>\n     </g>\n    </g>\n    <g id=\"ytick_4\">\n     <g id=\"line2d_7\">\n      <g>\n       <use style=\"stroke:#000000;stroke-width:0.8;\" x=\"43.78125\" xlink:href=\"#mac682fa465\" y=\"86.582857\"/>\n      </g>\n     </g>\n     <g id=\"text_8\">\n      <!-- 0.3 -->\n      <g transform=\"translate(20.878125 90.382076)scale(0.1 -0.1)\">\n       <defs>\n        <path d=\"M 2597 2516 \nQ 3050 2419 3304 2112 \nQ 3559 1806 3559 1356 \nQ 3559 666 3084 287 \nQ 2609 -91 1734 -91 \nQ 1441 -91 1130 -33 \nQ 819 25 488 141 \nL 488 750 \nQ 750 597 1062 519 \nQ 1375 441 1716 441 \nQ 2309 441 2620 675 \nQ 2931 909 2931 1356 \nQ 2931 1769 2642 2001 \nQ 2353 2234 1838 2234 \nL 1294 2234 \nL 1294 2753 \nL 1863 2753 \nQ 2328 2753 2575 2939 \nQ 2822 3125 2822 3475 \nQ 2822 3834 2567 4026 \nQ 2313 4219 1838 4219 \nQ 1578 4219 1281 4162 \nQ 984 4106 628 3988 \nL 628 4550 \nQ 988 4650 1302 4700 \nQ 1616 4750 1894 4750 \nQ 2613 4750 3031 4423 \nQ 3450 4097 3450 3541 \nQ 3450 3153 3228 2886 \nQ 3006 2619 2597 2516 \nz\n\" id=\"DejaVuSans-33\" transform=\"scale(0.015625)\"/>\n       </defs>\n       <use xlink:href=\"#DejaVuSans-30\"/>\n       <use x=\"63.623047\" xlink:href=\"#DejaVuSans-2e\"/>\n       <use x=\"95.410156\" xlink:href=\"#DejaVuSans-33\"/>\n      </g>\n     </g>\n    </g>\n    <g id=\"ytick_5\">\n     <g id=\"line2d_8\">\n      <g>\n       <use style=\"stroke:#000000;stroke-width:0.8;\" x=\"43.78125\" xlink:href=\"#mac682fa465\" y=\"40.56381\"/>\n      </g>\n     </g>\n     <g id=\"text_9\">\n      <!-- 0.4 -->\n      <g transform=\"translate(20.878125 44.363028)scale(0.1 -0.1)\">\n       <defs>\n        <path d=\"M 2419 4116 \nL 825 1625 \nL 2419 1625 \nL 2419 4116 \nz\nM 2253 4666 \nL 3047 4666 \nL 3047 1625 \nL 3713 1625 \nL 3713 1100 \nL 3047 1100 \nL 3047 0 \nL 2419 0 \nL 2419 1100 \nL 313 1100 \nL 313 1709 \nL 2253 4666 \nz\n\" id=\"DejaVuSans-34\" transform=\"scale(0.015625)\"/>\n       </defs>\n       <use xlink:href=\"#DejaVuSans-30\"/>\n       <use x=\"63.623047\" xlink:href=\"#DejaVuSans-2e\"/>\n       <use x=\"95.410156\" xlink:href=\"#DejaVuSans-34\"/>\n      </g>\n     </g>\n    </g>\n    <g id=\"text_10\">\n     <!-- % -->\n     <g transform=\"translate(14.798438 120.670781)rotate(-90)scale(0.1 -0.1)\">\n      <defs>\n       <path d=\"M 4653 2053 \nQ 4381 2053 4226 1822 \nQ 4072 1591 4072 1178 \nQ 4072 772 4226 539 \nQ 4381 306 4653 306 \nQ 4919 306 5073 539 \nQ 5228 772 5228 1178 \nQ 5228 1588 5073 1820 \nQ 4919 2053 4653 2053 \nz\nM 4653 2450 \nQ 5147 2450 5437 2106 \nQ 5728 1763 5728 1178 \nQ 5728 594 5436 251 \nQ 5144 -91 4653 -91 \nQ 4153 -91 3862 251 \nQ 3572 594 3572 1178 \nQ 3572 1766 3864 2108 \nQ 4156 2450 4653 2450 \nz\nM 1428 4353 \nQ 1159 4353 1004 4120 \nQ 850 3888 850 3481 \nQ 850 3069 1003 2837 \nQ 1156 2606 1428 2606 \nQ 1700 2606 1854 2837 \nQ 2009 3069 2009 3481 \nQ 2009 3884 1853 4118 \nQ 1697 4353 1428 4353 \nz\nM 4250 4750 \nL 4750 4750 \nL 1831 -91 \nL 1331 -91 \nL 4250 4750 \nz\nM 1428 4750 \nQ 1922 4750 2215 4408 \nQ 2509 4066 2509 3481 \nQ 2509 2891 2217 2550 \nQ 1925 2209 1428 2209 \nQ 931 2209 642 2551 \nQ 353 2894 353 3481 \nQ 353 4063 643 4406 \nQ 934 4750 1428 4750 \nz\n\" id=\"DejaVuSans-25\" transform=\"scale(0.015625)\"/>\n      </defs>\n      <use xlink:href=\"#DejaVuSans-25\"/>\n     </g>\n    </g>\n   </g>\n   <g id=\"patch_12\">\n    <path d=\"M 43.78125 224.64 \nL 43.78125 7.2 \n\" style=\"fill:none;stroke:#000000;stroke-linecap:square;stroke-linejoin:miter;stroke-width:0.8;\"/>\n   </g>\n   <g id=\"patch_13\">\n    <path d=\"M 378.58125 224.64 \nL 378.58125 7.2 \n\" style=\"fill:none;stroke:#000000;stroke-linecap:square;stroke-linejoin:miter;stroke-width:0.8;\"/>\n   </g>\n   <g id=\"patch_14\">\n    <path d=\"M 43.78125 224.64 \nL 378.58125 224.64 \n\" style=\"fill:none;stroke:#000000;stroke-linecap:square;stroke-linejoin:miter;stroke-width:0.8;\"/>\n   </g>\n   <g id=\"patch_15\">\n    <path d=\"M 43.78125 7.2 \nL 378.58125 7.2 \n\" style=\"fill:none;stroke:#000000;stroke-linecap:square;stroke-linejoin:miter;stroke-width:0.8;\"/>\n   </g>\n   <g id=\"legend_1\">\n    <g id=\"patch_16\">\n     <path d=\"M 332.598437 59.234375 \nL 371.58125 59.234375 \nQ 373.58125 59.234375 373.58125 57.234375 \nL 373.58125 14.2 \nQ 373.58125 12.2 371.58125 12.2 \nL 332.598437 12.2 \nQ 330.598437 12.2 330.598437 14.2 \nL 330.598437 57.234375 \nQ 330.598437 59.234375 332.598437 59.234375 \nz\n\" style=\"fill:#ffffff;opacity:0.8;stroke:#cccccc;stroke-linejoin:miter;\"/>\n    </g>\n    <g id=\"patch_17\">\n     <path d=\"M 334.598437 23.798437 \nL 354.598437 23.798437 \nL 354.598437 16.798437 \nL 334.598437 16.798437 \nz\n\" style=\"fill:#00ffff;\"/>\n    </g>\n    <g id=\"text_11\">\n     <!-- A -->\n     <g transform=\"translate(362.598437 23.798437)scale(0.1 -0.1)\">\n      <defs>\n       <path d=\"M 2188 4044 \nL 1331 1722 \nL 3047 1722 \nL 2188 4044 \nz\nM 1831 4666 \nL 2547 4666 \nL 4325 0 \nL 3669 0 \nL 3244 1197 \nL 1141 1197 \nL 716 0 \nL 50 0 \nL 1831 4666 \nz\n\" id=\"DejaVuSans-41\" transform=\"scale(0.015625)\"/>\n      </defs>\n      <use xlink:href=\"#DejaVuSans-41\"/>\n     </g>\n    </g>\n    <g id=\"patch_18\">\n     <path d=\"M 334.598437 38.476562 \nL 354.598437 38.476562 \nL 354.598437 31.476562 \nL 334.598437 31.476562 \nz\n\" style=\"fill:#ffa500;\"/>\n    </g>\n    <g id=\"text_12\">\n     <!-- B -->\n     <g transform=\"translate(362.598437 38.476562)scale(0.1 -0.1)\">\n      <defs>\n       <path d=\"M 1259 2228 \nL 1259 519 \nL 2272 519 \nQ 2781 519 3026 730 \nQ 3272 941 3272 1375 \nQ 3272 1813 3026 2020 \nQ 2781 2228 2272 2228 \nL 1259 2228 \nz\nM 1259 4147 \nL 1259 2741 \nL 2194 2741 \nQ 2656 2741 2882 2914 \nQ 3109 3088 3109 3444 \nQ 3109 3797 2882 3972 \nQ 2656 4147 2194 4147 \nL 1259 4147 \nz\nM 628 4666 \nL 2241 4666 \nQ 2963 4666 3353 4366 \nQ 3744 4066 3744 3513 \nQ 3744 3084 3544 2831 \nQ 3344 2578 2956 2516 \nQ 3422 2416 3680 2098 \nQ 3938 1781 3938 1306 \nQ 3938 681 3513 340 \nQ 3088 0 2303 0 \nL 628 0 \nL 628 4666 \nz\n\" id=\"DejaVuSans-42\" transform=\"scale(0.015625)\"/>\n      </defs>\n      <use xlink:href=\"#DejaVuSans-42\"/>\n     </g>\n    </g>\n    <g id=\"patch_19\">\n     <path d=\"M 334.598437 53.154687 \nL 354.598437 53.154687 \nL 354.598437 46.154687 \nL 334.598437 46.154687 \nz\n\" style=\"fill:#008000;\"/>\n    </g>\n    <g id=\"text_13\">\n     <!-- C -->\n     <g transform=\"translate(362.598437 53.154687)scale(0.1 -0.1)\">\n      <defs>\n       <path d=\"M 4122 4306 \nL 4122 3641 \nQ 3803 3938 3442 4084 \nQ 3081 4231 2675 4231 \nQ 1875 4231 1450 3742 \nQ 1025 3253 1025 2328 \nQ 1025 1406 1450 917 \nQ 1875 428 2675 428 \nQ 3081 428 3442 575 \nQ 3803 722 4122 1019 \nL 4122 359 \nQ 3791 134 3420 21 \nQ 3050 -91 2638 -91 \nQ 1578 -91 968 557 \nQ 359 1206 359 2328 \nQ 359 3453 968 4101 \nQ 1578 4750 2638 4750 \nQ 3056 4750 3426 4639 \nQ 3797 4528 4122 4306 \nz\n\" id=\"DejaVuSans-43\" transform=\"scale(0.015625)\"/>\n      </defs>\n      <use xlink:href=\"#DejaVuSans-43\"/>\n     </g>\n    </g>\n   </g>\n  </g>\n </g>\n <defs>\n  <clipPath id=\"p145129ec1e\">\n   <rect height=\"217.44\" width=\"334.8\" x=\"43.78125\" y=\"7.2\"/>\n  </clipPath>\n </defs>\n</svg>\n",
            "image/png": "[encoded data removed]"
          },
          "metadata": {
            "tags": [],
            "needs_background": "light"
          }
        }
      ]
    },
    {
      "cell_type": "markdown",
      "metadata": {
        "id": "hEYCZkM_XPXI"
      },
      "source": [
        "Ahora que tenemos el modelo, podríamos ver como evoluciona en el tiempo, para lo cual haremos un grafico de linea parametrizado por la cantidad de semestres que queremos mostrar"
      ]
    },
    {
      "cell_type": "code",
      "metadata": {
        "id": "BELPAT42XPXI",
        "outputId": "1e7ba58f-7a85-4f9f-cc5f-a701d988df02"
      },
      "source": [
        "# Encapsular codigo para no repetirlo - Grafico de Barras \n",
        "def grafico_barras_estados_markov(estado_inicial: np.array, T: np.array, n: int)->plt:\n",
        "    \"\"\"Devuelve un grafico de barras para una cadena de markov dado un estado inicial, su matriz de transición y las cantidad de transiciones que quiero graficar\n",
        "\n",
        "    Args(input/entradas):\n",
        "        estado_inicial (np.array): vector del estado inicial [1xn]\n",
        "        T (np.array): matriz de transicion [nxn]\n",
        "        n (int): cantidad de transciones que quiero aplicar\n",
        "\n",
        "    Returns(output/salida):\n",
        "        plt: Grafico de barras\n",
        "    \"\"\"\n",
        "    # Se usa List Comprehension [func(x) for x in iterable]- Intestigar diferencia con for loop\n",
        "    # Armo una matriz con los estados de cada transicion - S0,S1....Sn\n",
        "    evol_estado_mercado=np.array([np.dot(estado_inicial, np.linalg.matrix_power(T, periodo)) for periodo in range(n+1)])\n",
        "    # Obtengo dimensiones de la matriz resultante\n",
        "    num_rows, num_cols = evol_estado_mercado.shape\n",
        "\n",
        "    # Populo x e y\n",
        "    x = np.arange(n+1)\n",
        "    y = [evol_estado_mercado[:,col] for col in range(num_cols)]\n",
        "\n",
        "    width = 0.2\n",
        "\n",
        "    labels = ['S'+str(periodo)  for periodo in range(n+1)]\n",
        "    legends = ['A', 'B', 'C']  # Mala practica - Deberia venir en un parametro (Qué pasa si la cantidad de compañias cambia? O cambian sus nombres?)\n",
        "\n",
        "    # Al objeto plt(grafico) le instruyo que grafique columnas y le paso la data de cada una\n",
        "    for pos,val in enumerate(y):\n",
        "        plt.bar(x+pos*width, y[pos], width)\n",
        "\n",
        "    # Le indico al objeto plt(grafico) que agregue a cada x su label, y los labels de cada eje\n",
        "    plt.xticks(x, labels)\n",
        "    plt.xlabel(\"Semestre\")\n",
        "    plt.ylabel(\"%\")\n",
        "\n",
        "    # Le digo al objeto plt(grafico) que agregue las legends\n",
        "    plt.legend(legends)\n",
        "\n",
        "    # Hago que me muestre la imagen\n",
        "    plt.show()    \n",
        "\n",
        "# Line chart\n",
        "\n",
        "def grafico_linea_estados_markov(estado_inicial: np.array, T: np.array, n: int)->plt:\n",
        "    \"\"\"\n",
        "    Devuelve un grafico de Lineas para una cadena de markov dado un estado inicial, su matriz de transición y las cantidad de transiciones que quiero graficar\n",
        "\n",
        "    Args(input/entradas):\n",
        "        estado_inicial (np.array): vector del estado inicial [1xn]\n",
        "        T (np.array): matriz de transicion [nxn]\n",
        "        n (int): cantidad de transciones que quiero aplicar\n",
        "\n",
        "    Returns(output/salida):\n",
        "        plt: Grafico de barras\n",
        "    \"\"\"\n",
        "    # Se usa List Comprehension [func(x) for x in iterable]- Intestigar diferencia con for loop\n",
        "    # Armo una matriz con los estados de cada transicion - S0,S1....Sn\n",
        "    evol_estado_mercado=np.array([np.dot(estado_inicial, np.linalg.matrix_power(T, periodo)) for periodo in range(n+1)])\n",
        "    # Obtengo dimensiones de la matriz resultante\n",
        "    num_rows, num_cols = evol_estado_mercado.shape\n",
        "\n",
        "    # Populo x e y\n",
        "    x = np.arange(n+1)\n",
        "    y = [evol_estado_mercado[:,col] for col in range(num_cols)]\n",
        "\n",
        "    width = 0.2\n",
        "\n",
        "    labels = ['S'+str(periodo)  for periodo in range(n+1)]\n",
        "    legends = ['A', 'B', 'C']  # Mala practica - Deberia venir en un parametro (Qué pasa si la cantidad de compañias cambia? O cambian sus nombres?)\n",
        "\n",
        "    # Al objeto plt(grafico) le instruyo que grafique columnas y le paso la data de cada una\n",
        "    for pos,val in enumerate(y):\n",
        "        plt.plot(x+pos*width, y[pos], width)\n",
        "\n",
        "    # Le indico al objeto plt(grafico) que agregue a cada x su label, y los labels de cada eje\n",
        "    plt.xticks(x, labels)\n",
        "    plt.xlabel(\"Semestre\")\n",
        "    plt.ylabel(\"%\")\n",
        "\n",
        "    # Le digo al objeto plt(grafico) que agregue las legends\n",
        "    plt.legend(legends)\n",
        "\n",
        "    # Hago que me muestre la imagen\n",
        "    plt.show()    \n",
        "\n",
        "grafico_barras_estados_markov(estado_inicial=estado_inicial,T=T,n=12)\n",
        "grafico_linea_estados_markov(estado_inicial=estado_inicial,T=T,n=12)\n",
        "\n"
      ],
      "execution_count": null,
      "outputs": [
        {
          "output_type": "display_data",
          "data": {
            "text/plain": [
              "<Figure size 432x288 with 1 Axes>"
            ],
            "image/svg+xml": "<?xml version=\"1.0\" encoding=\"utf-8\" standalone=\"no\"?>\n<!DOCTYPE svg PUBLIC \"-//W3C//DTD SVG 1.1//EN\"\n  \"http://www.w3.org/Graphics/SVG/1.1/DTD/svg11.dtd\">\n<svg height=\"262.19625pt\" version=\"1.1\" viewBox=\"0 0 385.78125 262.19625\" width=\"385.78125pt\" xmlns=\"http://www.w3.org/2000/svg\" xmlns:xlink=\"http://www.w3.org/1999/xlink\">\n <metadata>\n  <rdf:RDF xmlns:cc=\"http://creativecommons.org/ns#\" xmlns:dc=\"http://purl.org/dc/elements/1.1/\" xmlns:rdf=\"http://www.w3.org/1999/02/22-rdf-syntax-ns#\">\n   <cc:Work>\n    <dc:type rdf:resource=\"http://purl.org/dc/dcmitype/StillImage\"/>\n    <dc:date>2021-04-27T22:28:01.835268</dc:date>\n    <dc:format>image/svg+xml</dc:format>\n    <dc:creator>\n     <cc:Agent>\n      <dc:title>Matplotlib v3.4.1, https://matplotlib.org/</dc:title>\n     </cc:Agent>\n    </dc:creator>\n   </cc:Work>\n  </rdf:RDF>\n </metadata>\n <defs>\n  <style type=\"text/css\">*{stroke-linecap:butt;stroke-linejoin:round;}</style>\n </defs>\n <g id=\"figure_1\">\n  <g id=\"patch_1\">\n   <path d=\"M 0 262.19625 \nL 385.78125 262.19625 \nL 385.78125 0 \nL 0 0 \nz\n\" style=\"fill:none;\"/>\n  </g>\n  <g id=\"axes_1\">\n   <g id=\"patch_2\">\n    <path d=\"M 43.78125 224.64 \nL 378.58125 224.64 \nL 378.58125 7.2 \nL 43.78125 7.2 \nz\n\" style=\"fill:#ffffff;\"/>\n   </g>\n   <g id=\"patch_3\">\n    <path clip-path=\"url(#pddc366a7c4)\" d=\"M 58.999432 224.64 \nL 63.830601 224.64 \nL 63.830601 155.611429 \nL 58.999432 155.611429 \nz\n\" style=\"fill:#1f77b4;\"/>\n   </g>\n   <g id=\"patch_4\">\n    <path clip-path=\"url(#pddc366a7c4)\" d=\"M 83.155276 224.64 \nL 87.986445 224.64 \nL 87.986445 111.893333 \nL 83.155276 111.893333 \nz\n\" style=\"fill:#1f77b4;\"/>\n   </g>\n   <g id=\"patch_5\">\n    <path clip-path=\"url(#pddc366a7c4)\" d=\"M 107.31112 224.64 \nL 112.142289 224.64 \nL 112.142289 83.821714 \nL 107.31112 83.821714 \nz\n\" style=\"fill:#1f77b4;\"/>\n   </g>\n   <g id=\"patch_6\">\n    <path clip-path=\"url(#pddc366a7c4)\" d=\"M 131.466964 224.64 \nL 136.298133 224.64 \nL 136.298133 65.621181 \nL 131.466964 65.621181 \nz\n\" style=\"fill:#1f77b4;\"/>\n   </g>\n   <g id=\"patch_7\">\n    <path clip-path=\"url(#pddc366a7c4)\" d=\"M 155.622808 224.64 \nL 160.453977 224.64 \nL 160.453977 53.741364 \nL 155.622808 53.741364 \nz\n\" style=\"fill:#1f77b4;\"/>\n   </g>\n   <g id=\"patch_8\">\n    <path clip-path=\"url(#pddc366a7c4)\" d=\"M 179.778653 224.64 \nL 184.609821 224.64 \nL 184.609821 45.95172 \nL 179.778653 45.95172 \nz\n\" style=\"fill:#1f77b4;\"/>\n   </g>\n   <g id=\"patch_9\">\n    <path clip-path=\"url(#pddc366a7c4)\" d=\"M 203.934497 224.64 \nL 208.765666 224.64 \nL 208.765666 40.828258 \nL 203.934497 40.828258 \nz\n\" style=\"fill:#1f77b4;\"/>\n   </g>\n   <g id=\"patch_10\">\n    <path clip-path=\"url(#pddc366a7c4)\" d=\"M 228.090341 224.64 \nL 232.92151 224.64 \nL 232.92151 37.451447 \nL 228.090341 37.451447 \nz\n\" style=\"fill:#1f77b4;\"/>\n   </g>\n   <g id=\"patch_11\">\n    <path clip-path=\"url(#pddc366a7c4)\" d=\"M 252.246185 224.64 \nL 257.077354 224.64 \nL 257.077354 35.222759 \nL 252.246185 35.222759 \nz\n\" style=\"fill:#1f77b4;\"/>\n   </g>\n   <g id=\"patch_12\">\n    <path clip-path=\"url(#pddc366a7c4)\" d=\"M 276.402029 224.64 \nL 281.233198 224.64 \nL 281.233198 33.750477 \nL 276.402029 33.750477 \nz\n\" style=\"fill:#1f77b4;\"/>\n   </g>\n   <g id=\"patch_13\">\n    <path clip-path=\"url(#pddc366a7c4)\" d=\"M 300.557873 224.64 \nL 305.389042 224.64 \nL 305.389042 32.777286 \nL 300.557873 32.777286 \nz\n\" style=\"fill:#1f77b4;\"/>\n   </g>\n   <g id=\"patch_14\">\n    <path clip-path=\"url(#pddc366a7c4)\" d=\"M 324.713718 224.64 \nL 329.544886 224.64 \nL 329.544886 32.133739 \nL 324.713718 32.133739 \nz\n\" style=\"fill:#1f77b4;\"/>\n   </g>\n   <g id=\"patch_15\">\n    <path clip-path=\"url(#pddc366a7c4)\" d=\"M 348.869562 224.64 \nL 353.700731 224.64 \nL 353.700731 31.708061 \nL 348.869562 31.708061 \nz\n\" style=\"fill:#1f77b4;\"/>\n   </g>\n   <g id=\"patch_16\">\n    <path clip-path=\"url(#pddc366a7c4)\" d=\"M 63.830601 224.64 \nL 68.661769 224.64 \nL 68.661769 17.554286 \nL 63.830601 17.554286 \nz\n\" style=\"fill:#ff7f0e;\"/>\n   </g>\n   <g id=\"patch_17\">\n    <path clip-path=\"url(#pddc366a7c4)\" d=\"M 87.986445 224.64 \nL 92.817614 224.64 \nL 92.817614 35.961905 \nL 87.986445 35.961905 \nz\n\" style=\"fill:#ff7f0e;\"/>\n   </g>\n   <g id=\"patch_18\">\n    <path clip-path=\"url(#pddc366a7c4)\" d=\"M 112.142289 224.64 \nL 116.973458 224.64 \nL 116.973458 49.537524 \nL 112.142289 49.537524 \nz\n\" style=\"fill:#ff7f0e;\"/>\n   </g>\n   <g id=\"patch_19\">\n    <path clip-path=\"url(#pddc366a7c4)\" d=\"M 136.298133 224.64 \nL 141.129302 224.64 \nL 141.129302 59.132495 \nL 136.298133 59.132495 \nz\n\" style=\"fill:#ff7f0e;\"/>\n   </g>\n   <g id=\"patch_20\">\n    <path clip-path=\"url(#pddc366a7c4)\" d=\"M 160.453977 224.64 \nL 165.285146 224.64 \nL 165.285146 65.750034 \nL 160.453977 65.750034 \nz\n\" style=\"fill:#ff7f0e;\"/>\n   </g>\n   <g id=\"patch_21\">\n    <path clip-path=\"url(#pddc366a7c4)\" d=\"M 184.609821 224.64 \nL 189.44099 224.64 \nL 189.44099 70.246786 \nL 184.609821 70.246786 \nz\n\" style=\"fill:#ff7f0e;\"/>\n   </g>\n   <g id=\"patch_22\">\n    <path clip-path=\"url(#pddc366a7c4)\" d=\"M 208.765666 224.64 \nL 213.596834 224.64 \nL 213.596834 73.274126 \nL 208.765666 73.274126 \nz\n\" style=\"fill:#ff7f0e;\"/>\n   </g>\n   <g id=\"patch_23\">\n    <path clip-path=\"url(#pddc366a7c4)\" d=\"M 232.92151 224.64 \nL 237.752679 224.64 \nL 237.752679 75.300142 \nL 232.92151 75.300142 \nz\n\" style=\"fill:#ff7f0e;\"/>\n   </g>\n   <g id=\"patch_24\">\n    <path clip-path=\"url(#pddc366a7c4)\" d=\"M 257.077354 224.64 \nL 261.908523 224.64 \nL 261.908523 76.650831 \nL 257.077354 76.650831 \nz\n\" style=\"fill:#ff7f0e;\"/>\n   </g>\n   <g id=\"patch_25\">\n    <path clip-path=\"url(#pddc366a7c4)\" d=\"M 281.233198 224.64 \nL 286.064367 224.64 \nL 286.064367 77.549044 \nL 281.233198 77.549044 \nz\n\" style=\"fill:#ff7f0e;\"/>\n   </g>\n   <g id=\"patch_26\">\n    <path clip-path=\"url(#pddc366a7c4)\" d=\"M 305.389042 224.64 \nL 310.220211 224.64 \nL 310.220211 78.145379 \nL 305.389042 78.145379 \nz\n\" style=\"fill:#ff7f0e;\"/>\n   </g>\n   <g id=\"patch_27\">\n    <path clip-path=\"url(#pddc366a7c4)\" d=\"M 329.544886 224.64 \nL 334.376055 224.64 \nL 334.376055 78.540866 \nL 329.544886 78.540866 \nz\n\" style=\"fill:#ff7f0e;\"/>\n   </g>\n   <g id=\"patch_28\">\n    <path clip-path=\"url(#pddc366a7c4)\" d=\"M 353.700731 224.64 \nL 358.531899 224.64 \nL 358.531899 78.802964 \nL 353.700731 78.802964 \nz\n\" style=\"fill:#ff7f0e;\"/>\n   </g>\n   <g id=\"patch_29\">\n    <path clip-path=\"url(#pddc366a7c4)\" d=\"M 68.661769 224.64 \nL 73.492938 224.64 \nL 73.492938 40.56381 \nL 68.661769 40.56381 \nz\n\" style=\"fill:#2ca02c;\"/>\n   </g>\n   <g id=\"patch_30\">\n    <path clip-path=\"url(#pddc366a7c4)\" d=\"M 92.817614 224.64 \nL 97.648782 224.64 \nL 97.648782 65.874286 \nL 92.817614 65.874286 \nz\n\" style=\"fill:#2ca02c;\"/>\n   </g>\n   <g id=\"patch_31\">\n    <path clip-path=\"url(#pddc366a7c4)\" d=\"M 116.973458 224.64 \nL 121.804627 224.64 \nL 121.804627 80.370286 \nL 116.973458 80.370286 \nz\n\" style=\"fill:#2ca02c;\"/>\n   </g>\n   <g id=\"patch_32\">\n    <path clip-path=\"url(#pddc366a7c4)\" d=\"M 141.129302 224.64 \nL 145.960471 224.64 \nL 145.960471 88.975848 \nL 141.129302 88.975848 \nz\n\" style=\"fill:#2ca02c;\"/>\n   </g>\n   <g id=\"patch_33\">\n    <path clip-path=\"url(#pddc366a7c4)\" d=\"M 165.285146 224.64 \nL 170.116315 224.64 \nL 170.116315 94.238126 \nL 165.285146 94.238126 \nz\n\" style=\"fill:#2ca02c;\"/>\n   </g>\n   <g id=\"patch_34\">\n    <path clip-path=\"url(#pddc366a7c4)\" d=\"M 189.44099 224.64 \nL 194.272159 224.64 \nL 194.272159 97.531019 \nL 189.44099 97.531019 \nz\n\" style=\"fill:#2ca02c;\"/>\n   </g>\n   <g id=\"patch_35\">\n    <path clip-path=\"url(#pddc366a7c4)\" d=\"M 213.596834 224.64 \nL 218.428003 224.64 \nL 218.428003 99.62714 \nL 213.596834 99.62714 \nz\n\" style=\"fill:#2ca02c;\"/>\n   </g>\n   <g id=\"patch_36\">\n    <path clip-path=\"url(#pddc366a7c4)\" d=\"M 237.752679 224.64 \nL 242.583847 224.64 \nL 242.583847 100.977935 \nL 237.752679 100.977935 \nz\n\" style=\"fill:#2ca02c;\"/>\n   </g>\n   <g id=\"patch_37\">\n    <path clip-path=\"url(#pddc366a7c4)\" d=\"M 261.908523 224.64 \nL 266.739692 224.64 \nL 266.739692 101.855934 \nL 261.908523 101.855934 \nz\n\" style=\"fill:#2ca02c;\"/>\n   </g>\n   <g id=\"patch_38\">\n    <path clip-path=\"url(#pddc366a7c4)\" d=\"M 286.064367 224.64 \nL 290.895536 224.64 \nL 290.895536 102.430003 \nL 286.064367 102.430003 \nz\n\" style=\"fill:#2ca02c;\"/>\n   </g>\n   <g id=\"patch_39\">\n    <path clip-path=\"url(#pddc366a7c4)\" d=\"M 310.220211 224.64 \nL 315.05138 224.64 \nL 315.05138 102.806858 \nL 310.220211 102.806858 \nz\n\" style=\"fill:#2ca02c;\"/>\n   </g>\n   <g id=\"patch_40\">\n    <path clip-path=\"url(#pddc366a7c4)\" d=\"M 334.376055 224.64 \nL 339.207224 224.64 \nL 339.207224 103.054919 \nL 334.376055 103.054919 \nz\n\" style=\"fill:#2ca02c;\"/>\n   </g>\n   <g id=\"patch_41\">\n    <path clip-path=\"url(#pddc366a7c4)\" d=\"M 358.531899 224.64 \nL 363.363068 224.64 \nL 363.363068 103.218499 \nL 358.531899 103.218499 \nz\n\" style=\"fill:#2ca02c;\"/>\n   </g>\n   <g id=\"matplotlib.axis_1\">\n    <g id=\"xtick_1\">\n     <g id=\"line2d_1\">\n      <defs>\n       <path d=\"M 0 0 \nL 0 3.5 \n\" id=\"m2f5946e8a3\" style=\"stroke:#000000;stroke-width:0.8;\"/>\n      </defs>\n      <g>\n       <use style=\"stroke:#000000;stroke-width:0.8;\" x=\"61.415016\" xlink:href=\"#m2f5946e8a3\" y=\"224.64\"/>\n      </g>\n     </g>\n     <g id=\"text_1\">\n      <!-- S0 -->\n      <g transform=\"translate(55.059547 239.238437)scale(0.1 -0.1)\">\n       <defs>\n        <path d=\"M 3425 4513 \nL 3425 3897 \nQ 3066 4069 2747 4153 \nQ 2428 4238 2131 4238 \nQ 1616 4238 1336 4038 \nQ 1056 3838 1056 3469 \nQ 1056 3159 1242 3001 \nQ 1428 2844 1947 2747 \nL 2328 2669 \nQ 3034 2534 3370 2195 \nQ 3706 1856 3706 1288 \nQ 3706 609 3251 259 \nQ 2797 -91 1919 -91 \nQ 1588 -91 1214 -16 \nQ 841 59 441 206 \nL 441 856 \nQ 825 641 1194 531 \nQ 1563 422 1919 422 \nQ 2459 422 2753 634 \nQ 3047 847 3047 1241 \nQ 3047 1584 2836 1778 \nQ 2625 1972 2144 2069 \nL 1759 2144 \nQ 1053 2284 737 2584 \nQ 422 2884 422 3419 \nQ 422 4038 858 4394 \nQ 1294 4750 2059 4750 \nQ 2388 4750 2728 4690 \nQ 3069 4631 3425 4513 \nz\n\" id=\"DejaVuSans-53\" transform=\"scale(0.015625)\"/>\n        <path d=\"M 2034 4250 \nQ 1547 4250 1301 3770 \nQ 1056 3291 1056 2328 \nQ 1056 1369 1301 889 \nQ 1547 409 2034 409 \nQ 2525 409 2770 889 \nQ 3016 1369 3016 2328 \nQ 3016 3291 2770 3770 \nQ 2525 4250 2034 4250 \nz\nM 2034 4750 \nQ 2819 4750 3233 4129 \nQ 3647 3509 3647 2328 \nQ 3647 1150 3233 529 \nQ 2819 -91 2034 -91 \nQ 1250 -91 836 529 \nQ 422 1150 422 2328 \nQ 422 3509 836 4129 \nQ 1250 4750 2034 4750 \nz\n\" id=\"DejaVuSans-30\" transform=\"scale(0.015625)\"/>\n       </defs>\n       <use xlink:href=\"#DejaVuSans-53\"/>\n       <use x=\"63.476562\" xlink:href=\"#DejaVuSans-30\"/>\n      </g>\n     </g>\n    </g>\n    <g id=\"xtick_2\">\n     <g id=\"line2d_2\">\n      <g>\n       <use style=\"stroke:#000000;stroke-width:0.8;\" x=\"85.57086\" xlink:href=\"#m2f5946e8a3\" y=\"224.64\"/>\n      </g>\n     </g>\n     <g id=\"text_2\">\n      <!-- S1 -->\n      <g transform=\"translate(79.215392 239.238437)scale(0.1 -0.1)\">\n       <defs>\n        <path d=\"M 794 531 \nL 1825 531 \nL 1825 4091 \nL 703 3866 \nL 703 4441 \nL 1819 4666 \nL 2450 4666 \nL 2450 531 \nL 3481 531 \nL 3481 0 \nL 794 0 \nL 794 531 \nz\n\" id=\"DejaVuSans-31\" transform=\"scale(0.015625)\"/>\n       </defs>\n       <use xlink:href=\"#DejaVuSans-53\"/>\n       <use x=\"63.476562\" xlink:href=\"#DejaVuSans-31\"/>\n      </g>\n     </g>\n    </g>\n    <g id=\"xtick_3\">\n     <g id=\"line2d_3\">\n      <g>\n       <use style=\"stroke:#000000;stroke-width:0.8;\" x=\"109.726705\" xlink:href=\"#m2f5946e8a3\" y=\"224.64\"/>\n      </g>\n     </g>\n     <g id=\"text_3\">\n      <!-- S2 -->\n      <g transform=\"translate(103.371236 239.238437)scale(0.1 -0.1)\">\n       <defs>\n        <path d=\"M 1228 531 \nL 3431 531 \nL 3431 0 \nL 469 0 \nL 469 531 \nQ 828 903 1448 1529 \nQ 2069 2156 2228 2338 \nQ 2531 2678 2651 2914 \nQ 2772 3150 2772 3378 \nQ 2772 3750 2511 3984 \nQ 2250 4219 1831 4219 \nQ 1534 4219 1204 4116 \nQ 875 4013 500 3803 \nL 500 4441 \nQ 881 4594 1212 4672 \nQ 1544 4750 1819 4750 \nQ 2544 4750 2975 4387 \nQ 3406 4025 3406 3419 \nQ 3406 3131 3298 2873 \nQ 3191 2616 2906 2266 \nQ 2828 2175 2409 1742 \nQ 1991 1309 1228 531 \nz\n\" id=\"DejaVuSans-32\" transform=\"scale(0.015625)\"/>\n       </defs>\n       <use xlink:href=\"#DejaVuSans-53\"/>\n       <use x=\"63.476562\" xlink:href=\"#DejaVuSans-32\"/>\n      </g>\n     </g>\n    </g>\n    <g id=\"xtick_4\">\n     <g id=\"line2d_4\">\n      <g>\n       <use style=\"stroke:#000000;stroke-width:0.8;\" x=\"133.882549\" xlink:href=\"#m2f5946e8a3\" y=\"224.64\"/>\n      </g>\n     </g>\n     <g id=\"text_4\">\n      <!-- S3 -->\n      <g transform=\"translate(127.52708 239.238437)scale(0.1 -0.1)\">\n       <defs>\n        <path d=\"M 2597 2516 \nQ 3050 2419 3304 2112 \nQ 3559 1806 3559 1356 \nQ 3559 666 3084 287 \nQ 2609 -91 1734 -91 \nQ 1441 -91 1130 -33 \nQ 819 25 488 141 \nL 488 750 \nQ 750 597 1062 519 \nQ 1375 441 1716 441 \nQ 2309 441 2620 675 \nQ 2931 909 2931 1356 \nQ 2931 1769 2642 2001 \nQ 2353 2234 1838 2234 \nL 1294 2234 \nL 1294 2753 \nL 1863 2753 \nQ 2328 2753 2575 2939 \nQ 2822 3125 2822 3475 \nQ 2822 3834 2567 4026 \nQ 2313 4219 1838 4219 \nQ 1578 4219 1281 4162 \nQ 984 4106 628 3988 \nL 628 4550 \nQ 988 4650 1302 4700 \nQ 1616 4750 1894 4750 \nQ 2613 4750 3031 4423 \nQ 3450 4097 3450 3541 \nQ 3450 3153 3228 2886 \nQ 3006 2619 2597 2516 \nz\n\" id=\"DejaVuSans-33\" transform=\"scale(0.015625)\"/>\n       </defs>\n       <use xlink:href=\"#DejaVuSans-53\"/>\n       <use x=\"63.476562\" xlink:href=\"#DejaVuSans-33\"/>\n      </g>\n     </g>\n    </g>\n    <g id=\"xtick_5\">\n     <g id=\"line2d_5\">\n      <g>\n       <use style=\"stroke:#000000;stroke-width:0.8;\" x=\"158.038393\" xlink:href=\"#m2f5946e8a3\" y=\"224.64\"/>\n      </g>\n     </g>\n     <g id=\"text_5\">\n      <!-- S4 -->\n      <g transform=\"translate(151.682924 239.238437)scale(0.1 -0.1)\">\n       <defs>\n        <path d=\"M 2419 4116 \nL 825 1625 \nL 2419 1625 \nL 2419 4116 \nz\nM 2253 4666 \nL 3047 4666 \nL 3047 1625 \nL 3713 1625 \nL 3713 1100 \nL 3047 1100 \nL 3047 0 \nL 2419 0 \nL 2419 1100 \nL 313 1100 \nL 313 1709 \nL 2253 4666 \nz\n\" id=\"DejaVuSans-34\" transform=\"scale(0.015625)\"/>\n       </defs>\n       <use xlink:href=\"#DejaVuSans-53\"/>\n       <use x=\"63.476562\" xlink:href=\"#DejaVuSans-34\"/>\n      </g>\n     </g>\n    </g>\n    <g id=\"xtick_6\">\n     <g id=\"line2d_6\">\n      <g>\n       <use style=\"stroke:#000000;stroke-width:0.8;\" x=\"182.194237\" xlink:href=\"#m2f5946e8a3\" y=\"224.64\"/>\n      </g>\n     </g>\n     <g id=\"text_6\">\n      <!-- S5 -->\n      <g transform=\"translate(175.838768 239.238437)scale(0.1 -0.1)\">\n       <defs>\n        <path d=\"M 691 4666 \nL 3169 4666 \nL 3169 4134 \nL 1269 4134 \nL 1269 2991 \nQ 1406 3038 1543 3061 \nQ 1681 3084 1819 3084 \nQ 2600 3084 3056 2656 \nQ 3513 2228 3513 1497 \nQ 3513 744 3044 326 \nQ 2575 -91 1722 -91 \nQ 1428 -91 1123 -41 \nQ 819 9 494 109 \nL 494 744 \nQ 775 591 1075 516 \nQ 1375 441 1709 441 \nQ 2250 441 2565 725 \nQ 2881 1009 2881 1497 \nQ 2881 1984 2565 2268 \nQ 2250 2553 1709 2553 \nQ 1456 2553 1204 2497 \nQ 953 2441 691 2322 \nL 691 4666 \nz\n\" id=\"DejaVuSans-35\" transform=\"scale(0.015625)\"/>\n       </defs>\n       <use xlink:href=\"#DejaVuSans-53\"/>\n       <use x=\"63.476562\" xlink:href=\"#DejaVuSans-35\"/>\n      </g>\n     </g>\n    </g>\n    <g id=\"xtick_7\">\n     <g id=\"line2d_7\">\n      <g>\n       <use style=\"stroke:#000000;stroke-width:0.8;\" x=\"206.350081\" xlink:href=\"#m2f5946e8a3\" y=\"224.64\"/>\n      </g>\n     </g>\n     <g id=\"text_7\">\n      <!-- S6 -->\n      <g transform=\"translate(199.994612 239.238437)scale(0.1 -0.1)\">\n       <defs>\n        <path d=\"M 2113 2584 \nQ 1688 2584 1439 2293 \nQ 1191 2003 1191 1497 \nQ 1191 994 1439 701 \nQ 1688 409 2113 409 \nQ 2538 409 2786 701 \nQ 3034 994 3034 1497 \nQ 3034 2003 2786 2293 \nQ 2538 2584 2113 2584 \nz\nM 3366 4563 \nL 3366 3988 \nQ 3128 4100 2886 4159 \nQ 2644 4219 2406 4219 \nQ 1781 4219 1451 3797 \nQ 1122 3375 1075 2522 \nQ 1259 2794 1537 2939 \nQ 1816 3084 2150 3084 \nQ 2853 3084 3261 2657 \nQ 3669 2231 3669 1497 \nQ 3669 778 3244 343 \nQ 2819 -91 2113 -91 \nQ 1303 -91 875 529 \nQ 447 1150 447 2328 \nQ 447 3434 972 4092 \nQ 1497 4750 2381 4750 \nQ 2619 4750 2861 4703 \nQ 3103 4656 3366 4563 \nz\n\" id=\"DejaVuSans-36\" transform=\"scale(0.015625)\"/>\n       </defs>\n       <use xlink:href=\"#DejaVuSans-53\"/>\n       <use x=\"63.476562\" xlink:href=\"#DejaVuSans-36\"/>\n      </g>\n     </g>\n    </g>\n    <g id=\"xtick_8\">\n     <g id=\"line2d_8\">\n      <g>\n       <use style=\"stroke:#000000;stroke-width:0.8;\" x=\"230.505925\" xlink:href=\"#m2f5946e8a3\" y=\"224.64\"/>\n      </g>\n     </g>\n     <g id=\"text_8\">\n      <!-- S7 -->\n      <g transform=\"translate(224.150457 239.238437)scale(0.1 -0.1)\">\n       <defs>\n        <path d=\"M 525 4666 \nL 3525 4666 \nL 3525 4397 \nL 1831 0 \nL 1172 0 \nL 2766 4134 \nL 525 4134 \nL 525 4666 \nz\n\" id=\"DejaVuSans-37\" transform=\"scale(0.015625)\"/>\n       </defs>\n       <use xlink:href=\"#DejaVuSans-53\"/>\n       <use x=\"63.476562\" xlink:href=\"#DejaVuSans-37\"/>\n      </g>\n     </g>\n    </g>\n    <g id=\"xtick_9\">\n     <g id=\"line2d_9\">\n      <g>\n       <use style=\"stroke:#000000;stroke-width:0.8;\" x=\"254.661769\" xlink:href=\"#m2f5946e8a3\" y=\"224.64\"/>\n      </g>\n     </g>\n     <g id=\"text_9\">\n      <!-- S8 -->\n      <g transform=\"translate(248.306301 239.238437)scale(0.1 -0.1)\">\n       <defs>\n        <path d=\"M 2034 2216 \nQ 1584 2216 1326 1975 \nQ 1069 1734 1069 1313 \nQ 1069 891 1326 650 \nQ 1584 409 2034 409 \nQ 2484 409 2743 651 \nQ 3003 894 3003 1313 \nQ 3003 1734 2745 1975 \nQ 2488 2216 2034 2216 \nz\nM 1403 2484 \nQ 997 2584 770 2862 \nQ 544 3141 544 3541 \nQ 544 4100 942 4425 \nQ 1341 4750 2034 4750 \nQ 2731 4750 3128 4425 \nQ 3525 4100 3525 3541 \nQ 3525 3141 3298 2862 \nQ 3072 2584 2669 2484 \nQ 3125 2378 3379 2068 \nQ 3634 1759 3634 1313 \nQ 3634 634 3220 271 \nQ 2806 -91 2034 -91 \nQ 1263 -91 848 271 \nQ 434 634 434 1313 \nQ 434 1759 690 2068 \nQ 947 2378 1403 2484 \nz\nM 1172 3481 \nQ 1172 3119 1398 2916 \nQ 1625 2713 2034 2713 \nQ 2441 2713 2670 2916 \nQ 2900 3119 2900 3481 \nQ 2900 3844 2670 4047 \nQ 2441 4250 2034 4250 \nQ 1625 4250 1398 4047 \nQ 1172 3844 1172 3481 \nz\n\" id=\"DejaVuSans-38\" transform=\"scale(0.015625)\"/>\n       </defs>\n       <use xlink:href=\"#DejaVuSans-53\"/>\n       <use x=\"63.476562\" xlink:href=\"#DejaVuSans-38\"/>\n      </g>\n     </g>\n    </g>\n    <g id=\"xtick_10\">\n     <g id=\"line2d_10\">\n      <g>\n       <use style=\"stroke:#000000;stroke-width:0.8;\" x=\"278.817614\" xlink:href=\"#m2f5946e8a3\" y=\"224.64\"/>\n      </g>\n     </g>\n     <g id=\"text_10\">\n      <!-- S9 -->\n      <g transform=\"translate(272.462145 239.238437)scale(0.1 -0.1)\">\n       <defs>\n        <path d=\"M 703 97 \nL 703 672 \nQ 941 559 1184 500 \nQ 1428 441 1663 441 \nQ 2288 441 2617 861 \nQ 2947 1281 2994 2138 \nQ 2813 1869 2534 1725 \nQ 2256 1581 1919 1581 \nQ 1219 1581 811 2004 \nQ 403 2428 403 3163 \nQ 403 3881 828 4315 \nQ 1253 4750 1959 4750 \nQ 2769 4750 3195 4129 \nQ 3622 3509 3622 2328 \nQ 3622 1225 3098 567 \nQ 2575 -91 1691 -91 \nQ 1453 -91 1209 -44 \nQ 966 3 703 97 \nz\nM 1959 2075 \nQ 2384 2075 2632 2365 \nQ 2881 2656 2881 3163 \nQ 2881 3666 2632 3958 \nQ 2384 4250 1959 4250 \nQ 1534 4250 1286 3958 \nQ 1038 3666 1038 3163 \nQ 1038 2656 1286 2365 \nQ 1534 2075 1959 2075 \nz\n\" id=\"DejaVuSans-39\" transform=\"scale(0.015625)\"/>\n       </defs>\n       <use xlink:href=\"#DejaVuSans-53\"/>\n       <use x=\"63.476562\" xlink:href=\"#DejaVuSans-39\"/>\n      </g>\n     </g>\n    </g>\n    <g id=\"xtick_11\">\n     <g id=\"line2d_11\">\n      <g>\n       <use style=\"stroke:#000000;stroke-width:0.8;\" x=\"302.973458\" xlink:href=\"#m2f5946e8a3\" y=\"224.64\"/>\n      </g>\n     </g>\n     <g id=\"text_11\">\n      <!-- S10 -->\n      <g transform=\"translate(293.436739 239.238437)scale(0.1 -0.1)\">\n       <use xlink:href=\"#DejaVuSans-53\"/>\n       <use x=\"63.476562\" xlink:href=\"#DejaVuSans-31\"/>\n       <use x=\"127.099609\" xlink:href=\"#DejaVuSans-30\"/>\n      </g>\n     </g>\n    </g>\n    <g id=\"xtick_12\">\n     <g id=\"line2d_12\">\n      <g>\n       <use style=\"stroke:#000000;stroke-width:0.8;\" x=\"327.129302\" xlink:href=\"#m2f5946e8a3\" y=\"224.64\"/>\n      </g>\n     </g>\n     <g id=\"text_12\">\n      <!-- S11 -->\n      <g transform=\"translate(317.592583 239.238437)scale(0.1 -0.1)\">\n       <use xlink:href=\"#DejaVuSans-53\"/>\n       <use x=\"63.476562\" xlink:href=\"#DejaVuSans-31\"/>\n       <use x=\"127.099609\" xlink:href=\"#DejaVuSans-31\"/>\n      </g>\n     </g>\n    </g>\n    <g id=\"xtick_13\">\n     <g id=\"line2d_13\">\n      <g>\n       <use style=\"stroke:#000000;stroke-width:0.8;\" x=\"351.285146\" xlink:href=\"#m2f5946e8a3\" y=\"224.64\"/>\n      </g>\n     </g>\n     <g id=\"text_13\">\n      <!-- S12 -->\n      <g transform=\"translate(341.748427 239.238437)scale(0.1 -0.1)\">\n       <use xlink:href=\"#DejaVuSans-53\"/>\n       <use x=\"63.476562\" xlink:href=\"#DejaVuSans-31\"/>\n       <use x=\"127.099609\" xlink:href=\"#DejaVuSans-32\"/>\n      </g>\n     </g>\n    </g>\n    <g id=\"text_14\">\n     <!-- Semestre -->\n     <g transform=\"translate(187.399219 252.916562)scale(0.1 -0.1)\">\n      <defs>\n       <path d=\"M 3597 1894 \nL 3597 1613 \nL 953 1613 \nQ 991 1019 1311 708 \nQ 1631 397 2203 397 \nQ 2534 397 2845 478 \nQ 3156 559 3463 722 \nL 3463 178 \nQ 3153 47 2828 -22 \nQ 2503 -91 2169 -91 \nQ 1331 -91 842 396 \nQ 353 884 353 1716 \nQ 353 2575 817 3079 \nQ 1281 3584 2069 3584 \nQ 2775 3584 3186 3129 \nQ 3597 2675 3597 1894 \nz\nM 3022 2063 \nQ 3016 2534 2758 2815 \nQ 2500 3097 2075 3097 \nQ 1594 3097 1305 2825 \nQ 1016 2553 972 2059 \nL 3022 2063 \nz\n\" id=\"DejaVuSans-65\" transform=\"scale(0.015625)\"/>\n       <path d=\"M 3328 2828 \nQ 3544 3216 3844 3400 \nQ 4144 3584 4550 3584 \nQ 5097 3584 5394 3201 \nQ 5691 2819 5691 2113 \nL 5691 0 \nL 5113 0 \nL 5113 2094 \nQ 5113 2597 4934 2840 \nQ 4756 3084 4391 3084 \nQ 3944 3084 3684 2787 \nQ 3425 2491 3425 1978 \nL 3425 0 \nL 2847 0 \nL 2847 2094 \nQ 2847 2600 2669 2842 \nQ 2491 3084 2119 3084 \nQ 1678 3084 1418 2786 \nQ 1159 2488 1159 1978 \nL 1159 0 \nL 581 0 \nL 581 3500 \nL 1159 3500 \nL 1159 2956 \nQ 1356 3278 1631 3431 \nQ 1906 3584 2284 3584 \nQ 2666 3584 2933 3390 \nQ 3200 3197 3328 2828 \nz\n\" id=\"DejaVuSans-6d\" transform=\"scale(0.015625)\"/>\n       <path d=\"M 2834 3397 \nL 2834 2853 \nQ 2591 2978 2328 3040 \nQ 2066 3103 1784 3103 \nQ 1356 3103 1142 2972 \nQ 928 2841 928 2578 \nQ 928 2378 1081 2264 \nQ 1234 2150 1697 2047 \nL 1894 2003 \nQ 2506 1872 2764 1633 \nQ 3022 1394 3022 966 \nQ 3022 478 2636 193 \nQ 2250 -91 1575 -91 \nQ 1294 -91 989 -36 \nQ 684 19 347 128 \nL 347 722 \nQ 666 556 975 473 \nQ 1284 391 1588 391 \nQ 1994 391 2212 530 \nQ 2431 669 2431 922 \nQ 2431 1156 2273 1281 \nQ 2116 1406 1581 1522 \nL 1381 1569 \nQ 847 1681 609 1914 \nQ 372 2147 372 2553 \nQ 372 3047 722 3315 \nQ 1072 3584 1716 3584 \nQ 2034 3584 2315 3537 \nQ 2597 3491 2834 3397 \nz\n\" id=\"DejaVuSans-73\" transform=\"scale(0.015625)\"/>\n       <path d=\"M 1172 4494 \nL 1172 3500 \nL 2356 3500 \nL 2356 3053 \nL 1172 3053 \nL 1172 1153 \nQ 1172 725 1289 603 \nQ 1406 481 1766 481 \nL 2356 481 \nL 2356 0 \nL 1766 0 \nQ 1100 0 847 248 \nQ 594 497 594 1153 \nL 594 3053 \nL 172 3053 \nL 172 3500 \nL 594 3500 \nL 594 4494 \nL 1172 4494 \nz\n\" id=\"DejaVuSans-74\" transform=\"scale(0.015625)\"/>\n       <path d=\"M 2631 2963 \nQ 2534 3019 2420 3045 \nQ 2306 3072 2169 3072 \nQ 1681 3072 1420 2755 \nQ 1159 2438 1159 1844 \nL 1159 0 \nL 581 0 \nL 581 3500 \nL 1159 3500 \nL 1159 2956 \nQ 1341 3275 1631 3429 \nQ 1922 3584 2338 3584 \nQ 2397 3584 2469 3576 \nQ 2541 3569 2628 3553 \nL 2631 2963 \nz\n\" id=\"DejaVuSans-72\" transform=\"scale(0.015625)\"/>\n      </defs>\n      <use xlink:href=\"#DejaVuSans-53\"/>\n      <use x=\"63.476562\" xlink:href=\"#DejaVuSans-65\"/>\n      <use x=\"125\" xlink:href=\"#DejaVuSans-6d\"/>\n      <use x=\"222.412109\" xlink:href=\"#DejaVuSans-65\"/>\n      <use x=\"283.935547\" xlink:href=\"#DejaVuSans-73\"/>\n      <use x=\"336.035156\" xlink:href=\"#DejaVuSans-74\"/>\n      <use x=\"375.244141\" xlink:href=\"#DejaVuSans-72\"/>\n      <use x=\"414.107422\" xlink:href=\"#DejaVuSans-65\"/>\n     </g>\n    </g>\n   </g>\n   <g id=\"matplotlib.axis_2\">\n    <g id=\"ytick_1\">\n     <g id=\"line2d_14\">\n      <defs>\n       <path d=\"M 0 0 \nL -3.5 0 \n\" id=\"m08dbc24b8b\" style=\"stroke:#000000;stroke-width:0.8;\"/>\n      </defs>\n      <g>\n       <use style=\"stroke:#000000;stroke-width:0.8;\" x=\"43.78125\" xlink:href=\"#m08dbc24b8b\" y=\"224.64\"/>\n      </g>\n     </g>\n     <g id=\"text_15\">\n      <!-- 0.0 -->\n      <g transform=\"translate(20.878125 228.439219)scale(0.1 -0.1)\">\n       <defs>\n        <path d=\"M 684 794 \nL 1344 794 \nL 1344 0 \nL 684 0 \nL 684 794 \nz\n\" id=\"DejaVuSans-2e\" transform=\"scale(0.015625)\"/>\n       </defs>\n       <use xlink:href=\"#DejaVuSans-30\"/>\n       <use x=\"63.623047\" xlink:href=\"#DejaVuSans-2e\"/>\n       <use x=\"95.410156\" xlink:href=\"#DejaVuSans-30\"/>\n      </g>\n     </g>\n    </g>\n    <g id=\"ytick_2\">\n     <g id=\"line2d_15\">\n      <g>\n       <use style=\"stroke:#000000;stroke-width:0.8;\" x=\"43.78125\" xlink:href=\"#m08dbc24b8b\" y=\"178.620952\"/>\n      </g>\n     </g>\n     <g id=\"text_16\">\n      <!-- 0.1 -->\n      <g transform=\"translate(20.878125 182.420171)scale(0.1 -0.1)\">\n       <use xlink:href=\"#DejaVuSans-30\"/>\n       <use x=\"63.623047\" xlink:href=\"#DejaVuSans-2e\"/>\n       <use x=\"95.410156\" xlink:href=\"#DejaVuSans-31\"/>\n      </g>\n     </g>\n    </g>\n    <g id=\"ytick_3\">\n     <g id=\"line2d_16\">\n      <g>\n       <use style=\"stroke:#000000;stroke-width:0.8;\" x=\"43.78125\" xlink:href=\"#m08dbc24b8b\" y=\"132.601905\"/>\n      </g>\n     </g>\n     <g id=\"text_17\">\n      <!-- 0.2 -->\n      <g transform=\"translate(20.878125 136.401124)scale(0.1 -0.1)\">\n       <use xlink:href=\"#DejaVuSans-30\"/>\n       <use x=\"63.623047\" xlink:href=\"#DejaVuSans-2e\"/>\n       <use x=\"95.410156\" xlink:href=\"#DejaVuSans-32\"/>\n      </g>\n     </g>\n    </g>\n    <g id=\"ytick_4\">\n     <g id=\"line2d_17\">\n      <g>\n       <use style=\"stroke:#000000;stroke-width:0.8;\" x=\"43.78125\" xlink:href=\"#m08dbc24b8b\" y=\"86.582857\"/>\n      </g>\n     </g>\n     <g id=\"text_18\">\n      <!-- 0.3 -->\n      <g transform=\"translate(20.878125 90.382076)scale(0.1 -0.1)\">\n       <use xlink:href=\"#DejaVuSans-30\"/>\n       <use x=\"63.623047\" xlink:href=\"#DejaVuSans-2e\"/>\n       <use x=\"95.410156\" xlink:href=\"#DejaVuSans-33\"/>\n      </g>\n     </g>\n    </g>\n    <g id=\"ytick_5\">\n     <g id=\"line2d_18\">\n      <g>\n       <use style=\"stroke:#000000;stroke-width:0.8;\" x=\"43.78125\" xlink:href=\"#m08dbc24b8b\" y=\"40.56381\"/>\n      </g>\n     </g>\n     <g id=\"text_19\">\n      <!-- 0.4 -->\n      <g transform=\"translate(20.878125 44.363028)scale(0.1 -0.1)\">\n       <use xlink:href=\"#DejaVuSans-30\"/>\n       <use x=\"63.623047\" xlink:href=\"#DejaVuSans-2e\"/>\n       <use x=\"95.410156\" xlink:href=\"#DejaVuSans-34\"/>\n      </g>\n     </g>\n    </g>\n    <g id=\"text_20\">\n     <!-- % -->\n     <g transform=\"translate(14.798438 120.670781)rotate(-90)scale(0.1 -0.1)\">\n      <defs>\n       <path d=\"M 4653 2053 \nQ 4381 2053 4226 1822 \nQ 4072 1591 4072 1178 \nQ 4072 772 4226 539 \nQ 4381 306 4653 306 \nQ 4919 306 5073 539 \nQ 5228 772 5228 1178 \nQ 5228 1588 5073 1820 \nQ 4919 2053 4653 2053 \nz\nM 4653 2450 \nQ 5147 2450 5437 2106 \nQ 5728 1763 5728 1178 \nQ 5728 594 5436 251 \nQ 5144 -91 4653 -91 \nQ 4153 -91 3862 251 \nQ 3572 594 3572 1178 \nQ 3572 1766 3864 2108 \nQ 4156 2450 4653 2450 \nz\nM 1428 4353 \nQ 1159 4353 1004 4120 \nQ 850 3888 850 3481 \nQ 850 3069 1003 2837 \nQ 1156 2606 1428 2606 \nQ 1700 2606 1854 2837 \nQ 2009 3069 2009 3481 \nQ 2009 3884 1853 4118 \nQ 1697 4353 1428 4353 \nz\nM 4250 4750 \nL 4750 4750 \nL 1831 -91 \nL 1331 -91 \nL 4250 4750 \nz\nM 1428 4750 \nQ 1922 4750 2215 4408 \nQ 2509 4066 2509 3481 \nQ 2509 2891 2217 2550 \nQ 1925 2209 1428 2209 \nQ 931 2209 642 2551 \nQ 353 2894 353 3481 \nQ 353 4063 643 4406 \nQ 934 4750 1428 4750 \nz\n\" id=\"DejaVuSans-25\" transform=\"scale(0.015625)\"/>\n      </defs>\n      <use xlink:href=\"#DejaVuSans-25\"/>\n     </g>\n    </g>\n   </g>\n   <g id=\"patch_42\">\n    <path d=\"M 43.78125 224.64 \nL 43.78125 7.2 \n\" style=\"fill:none;stroke:#000000;stroke-linecap:square;stroke-linejoin:miter;stroke-width:0.8;\"/>\n   </g>\n   <g id=\"patch_43\">\n    <path d=\"M 378.58125 224.64 \nL 378.58125 7.2 \n\" style=\"fill:none;stroke:#000000;stroke-linecap:square;stroke-linejoin:miter;stroke-width:0.8;\"/>\n   </g>\n   <g id=\"patch_44\">\n    <path d=\"M 43.78125 224.64 \nL 378.58125 224.64 \n\" style=\"fill:none;stroke:#000000;stroke-linecap:square;stroke-linejoin:miter;stroke-width:0.8;\"/>\n   </g>\n   <g id=\"patch_45\">\n    <path d=\"M 43.78125 7.2 \nL 378.58125 7.2 \n\" style=\"fill:none;stroke:#000000;stroke-linecap:square;stroke-linejoin:miter;stroke-width:0.8;\"/>\n   </g>\n   <g id=\"legend_1\">\n    <g id=\"patch_46\">\n     <path d=\"M 332.598437 59.234375 \nL 371.58125 59.234375 \nQ 373.58125 59.234375 373.58125 57.234375 \nL 373.58125 14.2 \nQ 373.58125 12.2 371.58125 12.2 \nL 332.598437 12.2 \nQ 330.598437 12.2 330.598437 14.2 \nL 330.598437 57.234375 \nQ 330.598437 59.234375 332.598437 59.234375 \nz\n\" style=\"fill:#ffffff;opacity:0.8;stroke:#cccccc;stroke-linejoin:miter;\"/>\n    </g>\n    <g id=\"patch_47\">\n     <path d=\"M 334.598437 23.798437 \nL 354.598437 23.798437 \nL 354.598437 16.798437 \nL 334.598437 16.798437 \nz\n\" style=\"fill:#1f77b4;\"/>\n    </g>\n    <g id=\"text_21\">\n     <!-- A -->\n     <g transform=\"translate(362.598437 23.798437)scale(0.1 -0.1)\">\n      <defs>\n       <path d=\"M 2188 4044 \nL 1331 1722 \nL 3047 1722 \nL 2188 4044 \nz\nM 1831 4666 \nL 2547 4666 \nL 4325 0 \nL 3669 0 \nL 3244 1197 \nL 1141 1197 \nL 716 0 \nL 50 0 \nL 1831 4666 \nz\n\" id=\"DejaVuSans-41\" transform=\"scale(0.015625)\"/>\n      </defs>\n      <use xlink:href=\"#DejaVuSans-41\"/>\n     </g>\n    </g>\n    <g id=\"patch_48\">\n     <path d=\"M 334.598437 38.476562 \nL 354.598437 38.476562 \nL 354.598437 31.476562 \nL 334.598437 31.476562 \nz\n\" style=\"fill:#ff7f0e;\"/>\n    </g>\n    <g id=\"text_22\">\n     <!-- B -->\n     <g transform=\"translate(362.598437 38.476562)scale(0.1 -0.1)\">\n      <defs>\n       <path d=\"M 1259 2228 \nL 1259 519 \nL 2272 519 \nQ 2781 519 3026 730 \nQ 3272 941 3272 1375 \nQ 3272 1813 3026 2020 \nQ 2781 2228 2272 2228 \nL 1259 2228 \nz\nM 1259 4147 \nL 1259 2741 \nL 2194 2741 \nQ 2656 2741 2882 2914 \nQ 3109 3088 3109 3444 \nQ 3109 3797 2882 3972 \nQ 2656 4147 2194 4147 \nL 1259 4147 \nz\nM 628 4666 \nL 2241 4666 \nQ 2963 4666 3353 4366 \nQ 3744 4066 3744 3513 \nQ 3744 3084 3544 2831 \nQ 3344 2578 2956 2516 \nQ 3422 2416 3680 2098 \nQ 3938 1781 3938 1306 \nQ 3938 681 3513 340 \nQ 3088 0 2303 0 \nL 628 0 \nL 628 4666 \nz\n\" id=\"DejaVuSans-42\" transform=\"scale(0.015625)\"/>\n      </defs>\n      <use xlink:href=\"#DejaVuSans-42\"/>\n     </g>\n    </g>\n    <g id=\"patch_49\">\n     <path d=\"M 334.598437 53.154687 \nL 354.598437 53.154687 \nL 354.598437 46.154687 \nL 334.598437 46.154687 \nz\n\" style=\"fill:#2ca02c;\"/>\n    </g>\n    <g id=\"text_23\">\n     <!-- C -->\n     <g transform=\"translate(362.598437 53.154687)scale(0.1 -0.1)\">\n      <defs>\n       <path d=\"M 4122 4306 \nL 4122 3641 \nQ 3803 3938 3442 4084 \nQ 3081 4231 2675 4231 \nQ 1875 4231 1450 3742 \nQ 1025 3253 1025 2328 \nQ 1025 1406 1450 917 \nQ 1875 428 2675 428 \nQ 3081 428 3442 575 \nQ 3803 722 4122 1019 \nL 4122 359 \nQ 3791 134 3420 21 \nQ 3050 -91 2638 -91 \nQ 1578 -91 968 557 \nQ 359 1206 359 2328 \nQ 359 3453 968 4101 \nQ 1578 4750 2638 4750 \nQ 3056 4750 3426 4639 \nQ 3797 4528 4122 4306 \nz\n\" id=\"DejaVuSans-43\" transform=\"scale(0.015625)\"/>\n      </defs>\n      <use xlink:href=\"#DejaVuSans-43\"/>\n     </g>\n    </g>\n   </g>\n  </g>\n </g>\n <defs>\n  <clipPath id=\"pddc366a7c4\">\n   <rect height=\"217.44\" width=\"334.8\" x=\"43.78125\" y=\"7.2\"/>\n  </clipPath>\n </defs>\n</svg>\n",
            "image/png": "[encoded data removed]"
          },
          "metadata": {
            "tags": [],
            "needs_background": "light"
          }
        },
        {
          "output_type": "display_data",
          "data": {
            "text/plain": [
              "<Figure size 432x288 with 1 Axes>"
            ],
            "image/svg+xml": "<?xml version=\"1.0\" encoding=\"utf-8\" standalone=\"no\"?>\n<!DOCTYPE svg PUBLIC \"-//W3C//DTD SVG 1.1//EN\"\n  \"http://www.w3.org/Graphics/SVG/1.1/DTD/svg11.dtd\">\n<svg height=\"262.19625pt\" version=\"1.1\" viewBox=\"0 0 392.14375 262.19625\" width=\"392.14375pt\" xmlns=\"http://www.w3.org/2000/svg\" xmlns:xlink=\"http://www.w3.org/1999/xlink\">\n <metadata>\n  <rdf:RDF xmlns:cc=\"http://creativecommons.org/ns#\" xmlns:dc=\"http://purl.org/dc/elements/1.1/\" xmlns:rdf=\"http://www.w3.org/1999/02/22-rdf-syntax-ns#\">\n   <cc:Work>\n    <dc:type rdf:resource=\"http://purl.org/dc/dcmitype/StillImage\"/>\n    <dc:date>2021-04-27T22:28:02.202282</dc:date>\n    <dc:format>image/svg+xml</dc:format>\n    <dc:creator>\n     <cc:Agent>\n      <dc:title>Matplotlib v3.4.1, https://matplotlib.org/</dc:title>\n     </cc:Agent>\n    </dc:creator>\n   </cc:Work>\n  </rdf:RDF>\n </metadata>\n <defs>\n  <style type=\"text/css\">*{stroke-linecap:butt;stroke-linejoin:round;}</style>\n </defs>\n <g id=\"figure_1\">\n  <g id=\"patch_1\">\n   <path d=\"M 0 262.19625 \nL 392.14375 262.19625 \nL 392.14375 0 \nL 0 0 \nz\n\" style=\"fill:none;\"/>\n  </g>\n  <g id=\"axes_1\">\n   <g id=\"patch_2\">\n    <path d=\"M 50.14375 224.64 \nL 384.94375 224.64 \nL 384.94375 7.2 \nL 50.14375 7.2 \nz\n\" style=\"fill:#ffffff;\"/>\n   </g>\n   <g id=\"matplotlib.axis_1\">\n    <g id=\"xtick_1\">\n     <g id=\"line2d_1\">\n      <defs>\n       <path d=\"M 0 0 \nL 0 3.5 \n\" id=\"md68c993999\" style=\"stroke:#000000;stroke-width:0.8;\"/>\n      </defs>\n      <g>\n       <use style=\"stroke:#000000;stroke-width:0.8;\" x=\"65.361932\" xlink:href=\"#md68c993999\" y=\"224.64\"/>\n      </g>\n     </g>\n     <g id=\"text_1\">\n      <!-- S0 -->\n      <g transform=\"translate(59.006463 239.238437)scale(0.1 -0.1)\">\n       <defs>\n        <path d=\"M 3425 4513 \nL 3425 3897 \nQ 3066 4069 2747 4153 \nQ 2428 4238 2131 4238 \nQ 1616 4238 1336 4038 \nQ 1056 3838 1056 3469 \nQ 1056 3159 1242 3001 \nQ 1428 2844 1947 2747 \nL 2328 2669 \nQ 3034 2534 3370 2195 \nQ 3706 1856 3706 1288 \nQ 3706 609 3251 259 \nQ 2797 -91 1919 -91 \nQ 1588 -91 1214 -16 \nQ 841 59 441 206 \nL 441 856 \nQ 825 641 1194 531 \nQ 1563 422 1919 422 \nQ 2459 422 2753 634 \nQ 3047 847 3047 1241 \nQ 3047 1584 2836 1778 \nQ 2625 1972 2144 2069 \nL 1759 2144 \nQ 1053 2284 737 2584 \nQ 422 2884 422 3419 \nQ 422 4038 858 4394 \nQ 1294 4750 2059 4750 \nQ 2388 4750 2728 4690 \nQ 3069 4631 3425 4513 \nz\n\" id=\"DejaVuSans-53\" transform=\"scale(0.015625)\"/>\n        <path d=\"M 2034 4250 \nQ 1547 4250 1301 3770 \nQ 1056 3291 1056 2328 \nQ 1056 1369 1301 889 \nQ 1547 409 2034 409 \nQ 2525 409 2770 889 \nQ 3016 1369 3016 2328 \nQ 3016 3291 2770 3770 \nQ 2525 4250 2034 4250 \nz\nM 2034 4750 \nQ 2819 4750 3233 4129 \nQ 3647 3509 3647 2328 \nQ 3647 1150 3233 529 \nQ 2819 -91 2034 -91 \nQ 1250 -91 836 529 \nQ 422 1150 422 2328 \nQ 422 3509 836 4129 \nQ 1250 4750 2034 4750 \nz\n\" id=\"DejaVuSans-30\" transform=\"scale(0.015625)\"/>\n       </defs>\n       <use xlink:href=\"#DejaVuSans-53\"/>\n       <use x=\"63.476562\" xlink:href=\"#DejaVuSans-30\"/>\n      </g>\n     </g>\n    </g>\n    <g id=\"xtick_2\">\n     <g id=\"line2d_2\">\n      <g>\n       <use style=\"stroke:#000000;stroke-width:0.8;\" x=\"89.907386\" xlink:href=\"#md68c993999\" y=\"224.64\"/>\n      </g>\n     </g>\n     <g id=\"text_2\">\n      <!-- S1 -->\n      <g transform=\"translate(83.551918 239.238437)scale(0.1 -0.1)\">\n       <defs>\n        <path d=\"M 794 531 \nL 1825 531 \nL 1825 4091 \nL 703 3866 \nL 703 4441 \nL 1819 4666 \nL 2450 4666 \nL 2450 531 \nL 3481 531 \nL 3481 0 \nL 794 0 \nL 794 531 \nz\n\" id=\"DejaVuSans-31\" transform=\"scale(0.015625)\"/>\n       </defs>\n       <use xlink:href=\"#DejaVuSans-53\"/>\n       <use x=\"63.476562\" xlink:href=\"#DejaVuSans-31\"/>\n      </g>\n     </g>\n    </g>\n    <g id=\"xtick_3\">\n     <g id=\"line2d_3\">\n      <g>\n       <use style=\"stroke:#000000;stroke-width:0.8;\" x=\"114.452841\" xlink:href=\"#md68c993999\" y=\"224.64\"/>\n      </g>\n     </g>\n     <g id=\"text_3\">\n      <!-- S2 -->\n      <g transform=\"translate(108.097372 239.238437)scale(0.1 -0.1)\">\n       <defs>\n        <path d=\"M 1228 531 \nL 3431 531 \nL 3431 0 \nL 469 0 \nL 469 531 \nQ 828 903 1448 1529 \nQ 2069 2156 2228 2338 \nQ 2531 2678 2651 2914 \nQ 2772 3150 2772 3378 \nQ 2772 3750 2511 3984 \nQ 2250 4219 1831 4219 \nQ 1534 4219 1204 4116 \nQ 875 4013 500 3803 \nL 500 4441 \nQ 881 4594 1212 4672 \nQ 1544 4750 1819 4750 \nQ 2544 4750 2975 4387 \nQ 3406 4025 3406 3419 \nQ 3406 3131 3298 2873 \nQ 3191 2616 2906 2266 \nQ 2828 2175 2409 1742 \nQ 1991 1309 1228 531 \nz\n\" id=\"DejaVuSans-32\" transform=\"scale(0.015625)\"/>\n       </defs>\n       <use xlink:href=\"#DejaVuSans-53\"/>\n       <use x=\"63.476562\" xlink:href=\"#DejaVuSans-32\"/>\n      </g>\n     </g>\n    </g>\n    <g id=\"xtick_4\">\n     <g id=\"line2d_4\">\n      <g>\n       <use style=\"stroke:#000000;stroke-width:0.8;\" x=\"138.998295\" xlink:href=\"#md68c993999\" y=\"224.64\"/>\n      </g>\n     </g>\n     <g id=\"text_4\">\n      <!-- S3 -->\n      <g transform=\"translate(132.642827 239.238437)scale(0.1 -0.1)\">\n       <defs>\n        <path d=\"M 2597 2516 \nQ 3050 2419 3304 2112 \nQ 3559 1806 3559 1356 \nQ 3559 666 3084 287 \nQ 2609 -91 1734 -91 \nQ 1441 -91 1130 -33 \nQ 819 25 488 141 \nL 488 750 \nQ 750 597 1062 519 \nQ 1375 441 1716 441 \nQ 2309 441 2620 675 \nQ 2931 909 2931 1356 \nQ 2931 1769 2642 2001 \nQ 2353 2234 1838 2234 \nL 1294 2234 \nL 1294 2753 \nL 1863 2753 \nQ 2328 2753 2575 2939 \nQ 2822 3125 2822 3475 \nQ 2822 3834 2567 4026 \nQ 2313 4219 1838 4219 \nQ 1578 4219 1281 4162 \nQ 984 4106 628 3988 \nL 628 4550 \nQ 988 4650 1302 4700 \nQ 1616 4750 1894 4750 \nQ 2613 4750 3031 4423 \nQ 3450 4097 3450 3541 \nQ 3450 3153 3228 2886 \nQ 3006 2619 2597 2516 \nz\n\" id=\"DejaVuSans-33\" transform=\"scale(0.015625)\"/>\n       </defs>\n       <use xlink:href=\"#DejaVuSans-53\"/>\n       <use x=\"63.476562\" xlink:href=\"#DejaVuSans-33\"/>\n      </g>\n     </g>\n    </g>\n    <g id=\"xtick_5\">\n     <g id=\"line2d_5\">\n      <g>\n       <use style=\"stroke:#000000;stroke-width:0.8;\" x=\"163.54375\" xlink:href=\"#md68c993999\" y=\"224.64\"/>\n      </g>\n     </g>\n     <g id=\"text_5\">\n      <!-- S4 -->\n      <g transform=\"translate(157.188281 239.238437)scale(0.1 -0.1)\">\n       <defs>\n        <path d=\"M 2419 4116 \nL 825 1625 \nL 2419 1625 \nL 2419 4116 \nz\nM 2253 4666 \nL 3047 4666 \nL 3047 1625 \nL 3713 1625 \nL 3713 1100 \nL 3047 1100 \nL 3047 0 \nL 2419 0 \nL 2419 1100 \nL 313 1100 \nL 313 1709 \nL 2253 4666 \nz\n\" id=\"DejaVuSans-34\" transform=\"scale(0.015625)\"/>\n       </defs>\n       <use xlink:href=\"#DejaVuSans-53\"/>\n       <use x=\"63.476562\" xlink:href=\"#DejaVuSans-34\"/>\n      </g>\n     </g>\n    </g>\n    <g id=\"xtick_6\">\n     <g id=\"line2d_6\">\n      <g>\n       <use style=\"stroke:#000000;stroke-width:0.8;\" x=\"188.089205\" xlink:href=\"#md68c993999\" y=\"224.64\"/>\n      </g>\n     </g>\n     <g id=\"text_6\">\n      <!-- S5 -->\n      <g transform=\"translate(181.733736 239.238437)scale(0.1 -0.1)\">\n       <defs>\n        <path d=\"M 691 4666 \nL 3169 4666 \nL 3169 4134 \nL 1269 4134 \nL 1269 2991 \nQ 1406 3038 1543 3061 \nQ 1681 3084 1819 3084 \nQ 2600 3084 3056 2656 \nQ 3513 2228 3513 1497 \nQ 3513 744 3044 326 \nQ 2575 -91 1722 -91 \nQ 1428 -91 1123 -41 \nQ 819 9 494 109 \nL 494 744 \nQ 775 591 1075 516 \nQ 1375 441 1709 441 \nQ 2250 441 2565 725 \nQ 2881 1009 2881 1497 \nQ 2881 1984 2565 2268 \nQ 2250 2553 1709 2553 \nQ 1456 2553 1204 2497 \nQ 953 2441 691 2322 \nL 691 4666 \nz\n\" id=\"DejaVuSans-35\" transform=\"scale(0.015625)\"/>\n       </defs>\n       <use xlink:href=\"#DejaVuSans-53\"/>\n       <use x=\"63.476562\" xlink:href=\"#DejaVuSans-35\"/>\n      </g>\n     </g>\n    </g>\n    <g id=\"xtick_7\">\n     <g id=\"line2d_7\">\n      <g>\n       <use style=\"stroke:#000000;stroke-width:0.8;\" x=\"212.634659\" xlink:href=\"#md68c993999\" y=\"224.64\"/>\n      </g>\n     </g>\n     <g id=\"text_7\">\n      <!-- S6 -->\n      <g transform=\"translate(206.27919 239.238437)scale(0.1 -0.1)\">\n       <defs>\n        <path d=\"M 2113 2584 \nQ 1688 2584 1439 2293 \nQ 1191 2003 1191 1497 \nQ 1191 994 1439 701 \nQ 1688 409 2113 409 \nQ 2538 409 2786 701 \nQ 3034 994 3034 1497 \nQ 3034 2003 2786 2293 \nQ 2538 2584 2113 2584 \nz\nM 3366 4563 \nL 3366 3988 \nQ 3128 4100 2886 4159 \nQ 2644 4219 2406 4219 \nQ 1781 4219 1451 3797 \nQ 1122 3375 1075 2522 \nQ 1259 2794 1537 2939 \nQ 1816 3084 2150 3084 \nQ 2853 3084 3261 2657 \nQ 3669 2231 3669 1497 \nQ 3669 778 3244 343 \nQ 2819 -91 2113 -91 \nQ 1303 -91 875 529 \nQ 447 1150 447 2328 \nQ 447 3434 972 4092 \nQ 1497 4750 2381 4750 \nQ 2619 4750 2861 4703 \nQ 3103 4656 3366 4563 \nz\n\" id=\"DejaVuSans-36\" transform=\"scale(0.015625)\"/>\n       </defs>\n       <use xlink:href=\"#DejaVuSans-53\"/>\n       <use x=\"63.476562\" xlink:href=\"#DejaVuSans-36\"/>\n      </g>\n     </g>\n    </g>\n    <g id=\"xtick_8\">\n     <g id=\"line2d_8\">\n      <g>\n       <use style=\"stroke:#000000;stroke-width:0.8;\" x=\"237.180114\" xlink:href=\"#md68c993999\" y=\"224.64\"/>\n      </g>\n     </g>\n     <g id=\"text_8\">\n      <!-- S7 -->\n      <g transform=\"translate(230.824645 239.238437)scale(0.1 -0.1)\">\n       <defs>\n        <path d=\"M 525 4666 \nL 3525 4666 \nL 3525 4397 \nL 1831 0 \nL 1172 0 \nL 2766 4134 \nL 525 4134 \nL 525 4666 \nz\n\" id=\"DejaVuSans-37\" transform=\"scale(0.015625)\"/>\n       </defs>\n       <use xlink:href=\"#DejaVuSans-53\"/>\n       <use x=\"63.476562\" xlink:href=\"#DejaVuSans-37\"/>\n      </g>\n     </g>\n    </g>\n    <g id=\"xtick_9\">\n     <g id=\"line2d_9\">\n      <g>\n       <use style=\"stroke:#000000;stroke-width:0.8;\" x=\"261.725568\" xlink:href=\"#md68c993999\" y=\"224.64\"/>\n      </g>\n     </g>\n     <g id=\"text_9\">\n      <!-- S8 -->\n      <g transform=\"translate(255.370099 239.238437)scale(0.1 -0.1)\">\n       <defs>\n        <path d=\"M 2034 2216 \nQ 1584 2216 1326 1975 \nQ 1069 1734 1069 1313 \nQ 1069 891 1326 650 \nQ 1584 409 2034 409 \nQ 2484 409 2743 651 \nQ 3003 894 3003 1313 \nQ 3003 1734 2745 1975 \nQ 2488 2216 2034 2216 \nz\nM 1403 2484 \nQ 997 2584 770 2862 \nQ 544 3141 544 3541 \nQ 544 4100 942 4425 \nQ 1341 4750 2034 4750 \nQ 2731 4750 3128 4425 \nQ 3525 4100 3525 3541 \nQ 3525 3141 3298 2862 \nQ 3072 2584 2669 2484 \nQ 3125 2378 3379 2068 \nQ 3634 1759 3634 1313 \nQ 3634 634 3220 271 \nQ 2806 -91 2034 -91 \nQ 1263 -91 848 271 \nQ 434 634 434 1313 \nQ 434 1759 690 2068 \nQ 947 2378 1403 2484 \nz\nM 1172 3481 \nQ 1172 3119 1398 2916 \nQ 1625 2713 2034 2713 \nQ 2441 2713 2670 2916 \nQ 2900 3119 2900 3481 \nQ 2900 3844 2670 4047 \nQ 2441 4250 2034 4250 \nQ 1625 4250 1398 4047 \nQ 1172 3844 1172 3481 \nz\n\" id=\"DejaVuSans-38\" transform=\"scale(0.015625)\"/>\n       </defs>\n       <use xlink:href=\"#DejaVuSans-53\"/>\n       <use x=\"63.476562\" xlink:href=\"#DejaVuSans-38\"/>\n      </g>\n     </g>\n    </g>\n    <g id=\"xtick_10\">\n     <g id=\"line2d_10\">\n      <g>\n       <use style=\"stroke:#000000;stroke-width:0.8;\" x=\"286.271023\" xlink:href=\"#md68c993999\" y=\"224.64\"/>\n      </g>\n     </g>\n     <g id=\"text_10\">\n      <!-- S9 -->\n      <g transform=\"translate(279.915554 239.238437)scale(0.1 -0.1)\">\n       <defs>\n        <path d=\"M 703 97 \nL 703 672 \nQ 941 559 1184 500 \nQ 1428 441 1663 441 \nQ 2288 441 2617 861 \nQ 2947 1281 2994 2138 \nQ 2813 1869 2534 1725 \nQ 2256 1581 1919 1581 \nQ 1219 1581 811 2004 \nQ 403 2428 403 3163 \nQ 403 3881 828 4315 \nQ 1253 4750 1959 4750 \nQ 2769 4750 3195 4129 \nQ 3622 3509 3622 2328 \nQ 3622 1225 3098 567 \nQ 2575 -91 1691 -91 \nQ 1453 -91 1209 -44 \nQ 966 3 703 97 \nz\nM 1959 2075 \nQ 2384 2075 2632 2365 \nQ 2881 2656 2881 3163 \nQ 2881 3666 2632 3958 \nQ 2384 4250 1959 4250 \nQ 1534 4250 1286 3958 \nQ 1038 3666 1038 3163 \nQ 1038 2656 1286 2365 \nQ 1534 2075 1959 2075 \nz\n\" id=\"DejaVuSans-39\" transform=\"scale(0.015625)\"/>\n       </defs>\n       <use xlink:href=\"#DejaVuSans-53\"/>\n       <use x=\"63.476562\" xlink:href=\"#DejaVuSans-39\"/>\n      </g>\n     </g>\n    </g>\n    <g id=\"xtick_11\">\n     <g id=\"line2d_11\">\n      <g>\n       <use style=\"stroke:#000000;stroke-width:0.8;\" x=\"310.816477\" xlink:href=\"#md68c993999\" y=\"224.64\"/>\n      </g>\n     </g>\n     <g id=\"text_11\">\n      <!-- S10 -->\n      <g transform=\"translate(301.279759 239.238437)scale(0.1 -0.1)\">\n       <use xlink:href=\"#DejaVuSans-53\"/>\n       <use x=\"63.476562\" xlink:href=\"#DejaVuSans-31\"/>\n       <use x=\"127.099609\" xlink:href=\"#DejaVuSans-30\"/>\n      </g>\n     </g>\n    </g>\n    <g id=\"xtick_12\">\n     <g id=\"line2d_12\">\n      <g>\n       <use style=\"stroke:#000000;stroke-width:0.8;\" x=\"335.361932\" xlink:href=\"#md68c993999\" y=\"224.64\"/>\n      </g>\n     </g>\n     <g id=\"text_12\">\n      <!-- S11 -->\n      <g transform=\"translate(325.825213 239.238437)scale(0.1 -0.1)\">\n       <use xlink:href=\"#DejaVuSans-53\"/>\n       <use x=\"63.476562\" xlink:href=\"#DejaVuSans-31\"/>\n       <use x=\"127.099609\" xlink:href=\"#DejaVuSans-31\"/>\n      </g>\n     </g>\n    </g>\n    <g id=\"xtick_13\">\n     <g id=\"line2d_13\">\n      <g>\n       <use style=\"stroke:#000000;stroke-width:0.8;\" x=\"359.907386\" xlink:href=\"#md68c993999\" y=\"224.64\"/>\n      </g>\n     </g>\n     <g id=\"text_13\">\n      <!-- S12 -->\n      <g transform=\"translate(350.370668 239.238437)scale(0.1 -0.1)\">\n       <use xlink:href=\"#DejaVuSans-53\"/>\n       <use x=\"63.476562\" xlink:href=\"#DejaVuSans-31\"/>\n       <use x=\"127.099609\" xlink:href=\"#DejaVuSans-32\"/>\n      </g>\n     </g>\n    </g>\n    <g id=\"text_14\">\n     <!-- Semestre -->\n     <g transform=\"translate(193.761719 252.916562)scale(0.1 -0.1)\">\n      <defs>\n       <path d=\"M 3597 1894 \nL 3597 1613 \nL 953 1613 \nQ 991 1019 1311 708 \nQ 1631 397 2203 397 \nQ 2534 397 2845 478 \nQ 3156 559 3463 722 \nL 3463 178 \nQ 3153 47 2828 -22 \nQ 2503 -91 2169 -91 \nQ 1331 -91 842 396 \nQ 353 884 353 1716 \nQ 353 2575 817 3079 \nQ 1281 3584 2069 3584 \nQ 2775 3584 3186 3129 \nQ 3597 2675 3597 1894 \nz\nM 3022 2063 \nQ 3016 2534 2758 2815 \nQ 2500 3097 2075 3097 \nQ 1594 3097 1305 2825 \nQ 1016 2553 972 2059 \nL 3022 2063 \nz\n\" id=\"DejaVuSans-65\" transform=\"scale(0.015625)\"/>\n       <path d=\"M 3328 2828 \nQ 3544 3216 3844 3400 \nQ 4144 3584 4550 3584 \nQ 5097 3584 5394 3201 \nQ 5691 2819 5691 2113 \nL 5691 0 \nL 5113 0 \nL 5113 2094 \nQ 5113 2597 4934 2840 \nQ 4756 3084 4391 3084 \nQ 3944 3084 3684 2787 \nQ 3425 2491 3425 1978 \nL 3425 0 \nL 2847 0 \nL 2847 2094 \nQ 2847 2600 2669 2842 \nQ 2491 3084 2119 3084 \nQ 1678 3084 1418 2786 \nQ 1159 2488 1159 1978 \nL 1159 0 \nL 581 0 \nL 581 3500 \nL 1159 3500 \nL 1159 2956 \nQ 1356 3278 1631 3431 \nQ 1906 3584 2284 3584 \nQ 2666 3584 2933 3390 \nQ 3200 3197 3328 2828 \nz\n\" id=\"DejaVuSans-6d\" transform=\"scale(0.015625)\"/>\n       <path d=\"M 2834 3397 \nL 2834 2853 \nQ 2591 2978 2328 3040 \nQ 2066 3103 1784 3103 \nQ 1356 3103 1142 2972 \nQ 928 2841 928 2578 \nQ 928 2378 1081 2264 \nQ 1234 2150 1697 2047 \nL 1894 2003 \nQ 2506 1872 2764 1633 \nQ 3022 1394 3022 966 \nQ 3022 478 2636 193 \nQ 2250 -91 1575 -91 \nQ 1294 -91 989 -36 \nQ 684 19 347 128 \nL 347 722 \nQ 666 556 975 473 \nQ 1284 391 1588 391 \nQ 1994 391 2212 530 \nQ 2431 669 2431 922 \nQ 2431 1156 2273 1281 \nQ 2116 1406 1581 1522 \nL 1381 1569 \nQ 847 1681 609 1914 \nQ 372 2147 372 2553 \nQ 372 3047 722 3315 \nQ 1072 3584 1716 3584 \nQ 2034 3584 2315 3537 \nQ 2597 3491 2834 3397 \nz\n\" id=\"DejaVuSans-73\" transform=\"scale(0.015625)\"/>\n       <path d=\"M 1172 4494 \nL 1172 3500 \nL 2356 3500 \nL 2356 3053 \nL 1172 3053 \nL 1172 1153 \nQ 1172 725 1289 603 \nQ 1406 481 1766 481 \nL 2356 481 \nL 2356 0 \nL 1766 0 \nQ 1100 0 847 248 \nQ 594 497 594 1153 \nL 594 3053 \nL 172 3053 \nL 172 3500 \nL 594 3500 \nL 594 4494 \nL 1172 4494 \nz\n\" id=\"DejaVuSans-74\" transform=\"scale(0.015625)\"/>\n       <path d=\"M 2631 2963 \nQ 2534 3019 2420 3045 \nQ 2306 3072 2169 3072 \nQ 1681 3072 1420 2755 \nQ 1159 2438 1159 1844 \nL 1159 0 \nL 581 0 \nL 581 3500 \nL 1159 3500 \nL 1159 2956 \nQ 1341 3275 1631 3429 \nQ 1922 3584 2338 3584 \nQ 2397 3584 2469 3576 \nQ 2541 3569 2628 3553 \nL 2631 2963 \nz\n\" id=\"DejaVuSans-72\" transform=\"scale(0.015625)\"/>\n      </defs>\n      <use xlink:href=\"#DejaVuSans-53\"/>\n      <use x=\"63.476562\" xlink:href=\"#DejaVuSans-65\"/>\n      <use x=\"125\" xlink:href=\"#DejaVuSans-6d\"/>\n      <use x=\"222.412109\" xlink:href=\"#DejaVuSans-65\"/>\n      <use x=\"283.935547\" xlink:href=\"#DejaVuSans-73\"/>\n      <use x=\"336.035156\" xlink:href=\"#DejaVuSans-74\"/>\n      <use x=\"375.244141\" xlink:href=\"#DejaVuSans-72\"/>\n      <use x=\"414.107422\" xlink:href=\"#DejaVuSans-65\"/>\n     </g>\n    </g>\n   </g>\n   <g id=\"matplotlib.axis_2\">\n    <g id=\"ytick_1\">\n     <g id=\"line2d_14\">\n      <defs>\n       <path d=\"M 0 0 \nL -3.5 0 \n\" id=\"mceb465a91d\" style=\"stroke:#000000;stroke-width:0.8;\"/>\n      </defs>\n      <g>\n       <use style=\"stroke:#000000;stroke-width:0.8;\" x=\"50.14375\" xlink:href=\"#mceb465a91d\" y=\"214.756364\"/>\n      </g>\n     </g>\n     <g id=\"text_15\">\n      <!-- 0.15 -->\n      <g transform=\"translate(20.878125 218.555582)scale(0.1 -0.1)\">\n       <defs>\n        <path d=\"M 684 794 \nL 1344 794 \nL 1344 0 \nL 684 0 \nL 684 794 \nz\n\" id=\"DejaVuSans-2e\" transform=\"scale(0.015625)\"/>\n       </defs>\n       <use xlink:href=\"#DejaVuSans-30\"/>\n       <use x=\"63.623047\" xlink:href=\"#DejaVuSans-2e\"/>\n       <use x=\"95.410156\" xlink:href=\"#DejaVuSans-31\"/>\n       <use x=\"159.033203\" xlink:href=\"#DejaVuSans-35\"/>\n      </g>\n     </g>\n    </g>\n    <g id=\"ytick_2\">\n     <g id=\"line2d_15\">\n      <g>\n       <use style=\"stroke:#000000;stroke-width:0.8;\" x=\"50.14375\" xlink:href=\"#mceb465a91d\" y=\"181.810909\"/>\n      </g>\n     </g>\n     <g id=\"text_16\">\n      <!-- 0.20 -->\n      <g transform=\"translate(20.878125 185.610128)scale(0.1 -0.1)\">\n       <use xlink:href=\"#DejaVuSans-30\"/>\n       <use x=\"63.623047\" xlink:href=\"#DejaVuSans-2e\"/>\n       <use x=\"95.410156\" xlink:href=\"#DejaVuSans-32\"/>\n       <use x=\"159.033203\" xlink:href=\"#DejaVuSans-30\"/>\n      </g>\n     </g>\n    </g>\n    <g id=\"ytick_3\">\n     <g id=\"line2d_16\">\n      <g>\n       <use style=\"stroke:#000000;stroke-width:0.8;\" x=\"50.14375\" xlink:href=\"#mceb465a91d\" y=\"148.865455\"/>\n      </g>\n     </g>\n     <g id=\"text_17\">\n      <!-- 0.25 -->\n      <g transform=\"translate(20.878125 152.664673)scale(0.1 -0.1)\">\n       <use xlink:href=\"#DejaVuSans-30\"/>\n       <use x=\"63.623047\" xlink:href=\"#DejaVuSans-2e\"/>\n       <use x=\"95.410156\" xlink:href=\"#DejaVuSans-32\"/>\n       <use x=\"159.033203\" xlink:href=\"#DejaVuSans-35\"/>\n      </g>\n     </g>\n    </g>\n    <g id=\"ytick_4\">\n     <g id=\"line2d_17\">\n      <g>\n       <use style=\"stroke:#000000;stroke-width:0.8;\" x=\"50.14375\" xlink:href=\"#mceb465a91d\" y=\"115.92\"/>\n      </g>\n     </g>\n     <g id=\"text_18\">\n      <!-- 0.30 -->\n      <g transform=\"translate(20.878125 119.719219)scale(0.1 -0.1)\">\n       <use xlink:href=\"#DejaVuSans-30\"/>\n       <use x=\"63.623047\" xlink:href=\"#DejaVuSans-2e\"/>\n       <use x=\"95.410156\" xlink:href=\"#DejaVuSans-33\"/>\n       <use x=\"159.033203\" xlink:href=\"#DejaVuSans-30\"/>\n      </g>\n     </g>\n    </g>\n    <g id=\"ytick_5\">\n     <g id=\"line2d_18\">\n      <g>\n       <use style=\"stroke:#000000;stroke-width:0.8;\" x=\"50.14375\" xlink:href=\"#mceb465a91d\" y=\"82.974545\"/>\n      </g>\n     </g>\n     <g id=\"text_19\">\n      <!-- 0.35 -->\n      <g transform=\"translate(20.878125 86.773764)scale(0.1 -0.1)\">\n       <use xlink:href=\"#DejaVuSans-30\"/>\n       <use x=\"63.623047\" xlink:href=\"#DejaVuSans-2e\"/>\n       <use x=\"95.410156\" xlink:href=\"#DejaVuSans-33\"/>\n       <use x=\"159.033203\" xlink:href=\"#DejaVuSans-35\"/>\n      </g>\n     </g>\n    </g>\n    <g id=\"ytick_6\">\n     <g id=\"line2d_19\">\n      <g>\n       <use style=\"stroke:#000000;stroke-width:0.8;\" x=\"50.14375\" xlink:href=\"#mceb465a91d\" y=\"50.029091\"/>\n      </g>\n     </g>\n     <g id=\"text_20\">\n      <!-- 0.40 -->\n      <g transform=\"translate(20.878125 53.82831)scale(0.1 -0.1)\">\n       <use xlink:href=\"#DejaVuSans-30\"/>\n       <use x=\"63.623047\" xlink:href=\"#DejaVuSans-2e\"/>\n       <use x=\"95.410156\" xlink:href=\"#DejaVuSans-34\"/>\n       <use x=\"159.033203\" xlink:href=\"#DejaVuSans-30\"/>\n      </g>\n     </g>\n    </g>\n    <g id=\"ytick_7\">\n     <g id=\"line2d_20\">\n      <g>\n       <use style=\"stroke:#000000;stroke-width:0.8;\" x=\"50.14375\" xlink:href=\"#mceb465a91d\" y=\"17.083636\"/>\n      </g>\n     </g>\n     <g id=\"text_21\">\n      <!-- 0.45 -->\n      <g transform=\"translate(20.878125 20.882855)scale(0.1 -0.1)\">\n       <use xlink:href=\"#DejaVuSans-30\"/>\n       <use x=\"63.623047\" xlink:href=\"#DejaVuSans-2e\"/>\n       <use x=\"95.410156\" xlink:href=\"#DejaVuSans-34\"/>\n       <use x=\"159.033203\" xlink:href=\"#DejaVuSans-35\"/>\n      </g>\n     </g>\n    </g>\n    <g id=\"text_22\">\n     <!-- % -->\n     <g transform=\"translate(14.798438 120.670781)rotate(-90)scale(0.1 -0.1)\">\n      <defs>\n       <path d=\"M 4653 2053 \nQ 4381 2053 4226 1822 \nQ 4072 1591 4072 1178 \nQ 4072 772 4226 539 \nQ 4381 306 4653 306 \nQ 4919 306 5073 539 \nQ 5228 772 5228 1178 \nQ 5228 1588 5073 1820 \nQ 4919 2053 4653 2053 \nz\nM 4653 2450 \nQ 5147 2450 5437 2106 \nQ 5728 1763 5728 1178 \nQ 5728 594 5436 251 \nQ 5144 -91 4653 -91 \nQ 4153 -91 3862 251 \nQ 3572 594 3572 1178 \nQ 3572 1766 3864 2108 \nQ 4156 2450 4653 2450 \nz\nM 1428 4353 \nQ 1159 4353 1004 4120 \nQ 850 3888 850 3481 \nQ 850 3069 1003 2837 \nQ 1156 2606 1428 2606 \nQ 1700 2606 1854 2837 \nQ 2009 3069 2009 3481 \nQ 2009 3884 1853 4118 \nQ 1697 4353 1428 4353 \nz\nM 4250 4750 \nL 4750 4750 \nL 1831 -91 \nL 1331 -91 \nL 4250 4750 \nz\nM 1428 4750 \nQ 1922 4750 2215 4408 \nQ 2509 4066 2509 3481 \nQ 2509 2891 2217 2550 \nQ 1925 2209 1428 2209 \nQ 931 2209 642 2551 \nQ 353 2894 353 3481 \nQ 353 4063 643 4406 \nQ 934 4750 1428 4750 \nz\n\" id=\"DejaVuSans-25\" transform=\"scale(0.015625)\"/>\n      </defs>\n      <use xlink:href=\"#DejaVuSans-25\"/>\n     </g>\n    </g>\n   </g>\n   <g id=\"line2d_21\">\n    <path clip-path=\"url(#paed7ff458e)\" d=\"M 65.361932 214.756364 \nL 89.907386 152.16 \nL 114.452841 111.966545 \nL 138.998295 85.906691 \nL 163.54375 68.896953 \nL 188.089205 57.743599 \nL 212.634659 50.407733 \nL 237.180114 45.572754 \nL 261.725568 42.381677 \nL 286.271023 40.273637 \nL 310.816477 38.880206 \nL 335.361932 37.958762 \nL 359.907386 37.34927 \n\" style=\"fill:none;stroke:#1f77b4;stroke-linecap:square;stroke-width:1.5;\"/>\n   </g>\n   <g id=\"line2d_22\">\n    <path clip-path=\"url(#paed7ff458e)\" d=\"M 65.361932 181.810909 \n\" style=\"fill:none;stroke:#ff7f0e;stroke-linecap:square;stroke-width:1.5;\"/>\n   </g>\n   <g id=\"line2d_23\">\n    <path clip-path=\"url(#paed7ff458e)\" d=\"M 70.271023 17.083636 \nL 94.816477 43.44 \nL 119.361932 62.877818 \nL 143.907386 76.616073 \nL 168.452841 86.091185 \nL 192.998295 92.529716 \nL 217.54375 96.864316 \nL 242.089205 99.765203 \nL 266.634659 101.699144 \nL 291.180114 102.985223 \nL 315.725568 103.839066 \nL 340.271023 104.40533 \nL 364.816477 104.780607 \n\" style=\"fill:none;stroke:#2ca02c;stroke-linecap:square;stroke-width:1.5;\"/>\n   </g>\n   <g id=\"line2d_24\">\n    <path clip-path=\"url(#paed7ff458e)\" d=\"M 65.361932 181.810909 \n\" style=\"fill:none;stroke:#d62728;stroke-linecap:square;stroke-width:1.5;\"/>\n   </g>\n   <g id=\"line2d_25\">\n    <path clip-path=\"url(#paed7ff458e)\" d=\"M 75.180114 50.029091 \nL 99.725568 86.269091 \nL 124.271023 107.024727 \nL 148.816477 119.346327 \nL 173.361932 126.880953 \nL 197.907386 131.595777 \nL 222.452841 134.597042 \nL 246.998295 136.531134 \nL 271.54375 137.788269 \nL 296.089205 138.610231 \nL 320.634659 139.14982 \nL 345.180114 139.504998 \nL 369.725568 139.739214 \n\" style=\"fill:none;stroke:#9467bd;stroke-linecap:square;stroke-width:1.5;\"/>\n   </g>\n   <g id=\"line2d_26\">\n    <path clip-path=\"url(#paed7ff458e)\" d=\"M 65.361932 181.810909 \n\" style=\"fill:none;stroke:#8c564b;stroke-linecap:square;stroke-width:1.5;\"/>\n   </g>\n   <g id=\"patch_3\">\n    <path d=\"M 50.14375 224.64 \nL 50.14375 7.2 \n\" style=\"fill:none;stroke:#000000;stroke-linecap:square;stroke-linejoin:miter;stroke-width:0.8;\"/>\n   </g>\n   <g id=\"patch_4\">\n    <path d=\"M 384.94375 224.64 \nL 384.94375 7.2 \n\" style=\"fill:none;stroke:#000000;stroke-linecap:square;stroke-linejoin:miter;stroke-width:0.8;\"/>\n   </g>\n   <g id=\"patch_5\">\n    <path d=\"M 50.14375 224.64 \nL 384.94375 224.64 \n\" style=\"fill:none;stroke:#000000;stroke-linecap:square;stroke-linejoin:miter;stroke-width:0.8;\"/>\n   </g>\n   <g id=\"patch_6\">\n    <path d=\"M 50.14375 7.2 \nL 384.94375 7.2 \n\" style=\"fill:none;stroke:#000000;stroke-linecap:square;stroke-linejoin:miter;stroke-width:0.8;\"/>\n   </g>\n   <g id=\"legend_1\">\n    <g id=\"patch_7\">\n     <path d=\"M 338.960938 219.64 \nL 377.94375 219.64 \nQ 379.94375 219.64 379.94375 217.64 \nL 379.94375 174.605625 \nQ 379.94375 172.605625 377.94375 172.605625 \nL 338.960938 172.605625 \nQ 336.960938 172.605625 336.960938 174.605625 \nL 336.960938 217.64 \nQ 336.960938 219.64 338.960938 219.64 \nz\n\" style=\"fill:#ffffff;opacity:0.8;stroke:#cccccc;stroke-linejoin:miter;\"/>\n    </g>\n    <g id=\"line2d_27\">\n     <path d=\"M 340.960938 180.704062 \nL 360.960938 180.704062 \n\" style=\"fill:none;stroke:#1f77b4;stroke-linecap:square;stroke-width:1.5;\"/>\n    </g>\n    <g id=\"line2d_28\"/>\n    <g id=\"text_23\">\n     <!-- A -->\n     <g transform=\"translate(368.960938 184.204062)scale(0.1 -0.1)\">\n      <defs>\n       <path d=\"M 2188 4044 \nL 1331 1722 \nL 3047 1722 \nL 2188 4044 \nz\nM 1831 4666 \nL 2547 4666 \nL 4325 0 \nL 3669 0 \nL 3244 1197 \nL 1141 1197 \nL 716 0 \nL 50 0 \nL 1831 4666 \nz\n\" id=\"DejaVuSans-41\" transform=\"scale(0.015625)\"/>\n      </defs>\n      <use xlink:href=\"#DejaVuSans-41\"/>\n     </g>\n    </g>\n    <g id=\"line2d_29\">\n     <path d=\"M 340.960938 195.382187 \nL 360.960938 195.382187 \n\" style=\"fill:none;stroke:#ff7f0e;stroke-linecap:square;stroke-width:1.5;\"/>\n    </g>\n    <g id=\"line2d_30\"/>\n    <g id=\"text_24\">\n     <!-- B -->\n     <g transform=\"translate(368.960938 198.882187)scale(0.1 -0.1)\">\n      <defs>\n       <path d=\"M 1259 2228 \nL 1259 519 \nL 2272 519 \nQ 2781 519 3026 730 \nQ 3272 941 3272 1375 \nQ 3272 1813 3026 2020 \nQ 2781 2228 2272 2228 \nL 1259 2228 \nz\nM 1259 4147 \nL 1259 2741 \nL 2194 2741 \nQ 2656 2741 2882 2914 \nQ 3109 3088 3109 3444 \nQ 3109 3797 2882 3972 \nQ 2656 4147 2194 4147 \nL 1259 4147 \nz\nM 628 4666 \nL 2241 4666 \nQ 2963 4666 3353 4366 \nQ 3744 4066 3744 3513 \nQ 3744 3084 3544 2831 \nQ 3344 2578 2956 2516 \nQ 3422 2416 3680 2098 \nQ 3938 1781 3938 1306 \nQ 3938 681 3513 340 \nQ 3088 0 2303 0 \nL 628 0 \nL 628 4666 \nz\n\" id=\"DejaVuSans-42\" transform=\"scale(0.015625)\"/>\n      </defs>\n      <use xlink:href=\"#DejaVuSans-42\"/>\n     </g>\n    </g>\n    <g id=\"line2d_31\">\n     <path d=\"M 340.960938 210.060312 \nL 360.960938 210.060312 \n\" style=\"fill:none;stroke:#2ca02c;stroke-linecap:square;stroke-width:1.5;\"/>\n    </g>\n    <g id=\"line2d_32\"/>\n    <g id=\"text_25\">\n     <!-- C -->\n     <g transform=\"translate(368.960938 213.560312)scale(0.1 -0.1)\">\n      <defs>\n       <path d=\"M 4122 4306 \nL 4122 3641 \nQ 3803 3938 3442 4084 \nQ 3081 4231 2675 4231 \nQ 1875 4231 1450 3742 \nQ 1025 3253 1025 2328 \nQ 1025 1406 1450 917 \nQ 1875 428 2675 428 \nQ 3081 428 3442 575 \nQ 3803 722 4122 1019 \nL 4122 359 \nQ 3791 134 3420 21 \nQ 3050 -91 2638 -91 \nQ 1578 -91 968 557 \nQ 359 1206 359 2328 \nQ 359 3453 968 4101 \nQ 1578 4750 2638 4750 \nQ 3056 4750 3426 4639 \nQ 3797 4528 4122 4306 \nz\n\" id=\"DejaVuSans-43\" transform=\"scale(0.015625)\"/>\n      </defs>\n      <use xlink:href=\"#DejaVuSans-43\"/>\n     </g>\n    </g>\n   </g>\n  </g>\n </g>\n <defs>\n  <clipPath id=\"paed7ff458e\">\n   <rect height=\"217.44\" width=\"334.8\" x=\"50.14375\" y=\"7.2\"/>\n  </clipPath>\n </defs>\n</svg>\n",
            "image/png": "[encoded data removed]"
          },
          "metadata": {
            "tags": [],
            "needs_background": "light"
          }
        }
      ]
    },
    {
      "cell_type": "markdown",
      "metadata": {
        "id": "I4JLMvkSXPXJ"
      },
      "source": [
        "### ¿Podríamos haberlo encapsulado todo en 1 sola función?"
      ]
    },
    {
      "cell_type": "code",
      "metadata": {
        "id": "GcW4ot0rXPXJ"
      },
      "source": [
        "# Espacio para codear juntos esa funcion"
      ],
      "execution_count": null,
      "outputs": []
    },
    {
      "cell_type": "markdown",
      "metadata": {
        "id": "hHjnAsxeXPXJ"
      },
      "source": [
        "## Para el jugar\n",
        "### Ejercicio de Probabilidad\n",
        "\n",
        "Se tienen 3 monedas, de las cuales 1 esta trucada y tiene un 80% de probabilidad de ser cara.\n",
        "\n",
        "Se pide:\n",
        "1. Calcular la probabilidad de que todas sean secas\n",
        "2. Calcular cuál combinación es más probable"
      ]
    },
    {
      "cell_type": "code",
      "metadata": {
        "id": "r8no54UtXPXJ"
      },
      "source": [
        ""
      ],
      "execution_count": null,
      "outputs": []
    },
    {
      "cell_type": "markdown",
      "metadata": {
        "id": "_nJqHBvxXPXK"
      },
      "source": [
        "### Ejercicio de Ecuaciones Lineales\n",
        "\n",
        "Se juntan 30 personas entre mujeres, hombres y niños. Se sabe que entre las mujeres y los hombres duplican el número de niños. Tambien se sabe que entre los hombres y el triple de las mujeres exceden en 20 al doble de niños.\n",
        "\n",
        "Se pide calcular la cantidad de mujeres, hombres y niños"
      ]
    },
    {
      "cell_type": "code",
      "metadata": {
        "id": "_IdQVqUJXPXK"
      },
      "source": [
        ""
      ],
      "execution_count": null,
      "outputs": []
    },
    {
      "cell_type": "markdown",
      "metadata": {
        "id": "6ZoL9dEgXPXK"
      },
      "source": [
        "### Ejercicio de Algebra\n",
        "\n",
        "Dadas A y B corroborar las siguientes propiedades:\n",
        "1. $(A+B)^{T}=A^{T}+B^{T}$\n",
        "2. $(A*A)*(A^{-1}*A^{-1})=I$    donde $I$ es la matriz identidad"
      ]
    },
    {
      "cell_type": "code",
      "metadata": {
        "id": "inxmGIRZXPXK"
      },
      "source": [
        ""
      ],
      "execution_count": null,
      "outputs": []
    },
    {
      "cell_type": "markdown",
      "metadata": {
        "id": "-oMNLo59XPXK"
      },
      "source": [
        "### Markov\n",
        "Con la siguiente información: \n",
        "https://www.kaggle.com/aungpyaeap/supermarket-sales\n",
        "<br>¿Qué se les ocurre que podrían analizar?<br>¿Que otros datos les gustaría tener y por qué?"
      ]
    },
    {
      "cell_type": "code",
      "metadata": {
        "id": "K42ZA4I0XPXK"
      },
      "source": [
        ""
      ],
      "execution_count": null,
      "outputs": []
    }
  ]
}