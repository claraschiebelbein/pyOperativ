{
 "cells": [
  {
   "cell_type": "markdown",
   "metadata": {},
   "source": [
    "____\n",
    "__Universidad Tecnológica Nacional, Buenos Aires__\\\n",
    "__Ingeniería Industrial__\\\n",
    "__Autor: Rodrigo Maranzana__\\\n",
    "__Cátedra de Investigación Operativa - Curso I4051 - Turno Miércoles Noche - Docente: Martín Palazzo__\n",
    "____"
   ]
  },
  {
   "cell_type": "markdown",
   "metadata": {},
   "source": [
    "# Ejemplo de gestión de Inventarios Multi-Producto"
   ]
  },
  {
   "cell_type": "markdown",
   "metadata": {
    "toc": true
   },
   "source": [
    "<h1>Table of Contents<span class=\"tocSkip\"></span></h1>\n",
    "<div class=\"toc\"><ul class=\"toc-item\"><li><span><a href=\"#Introducción\" data-toc-modified-id=\"Introducción-1\"><span class=\"toc-item-num\">1&nbsp;&nbsp;</span>Introducción</a></span></li><li><span><a href=\"#Datos\" data-toc-modified-id=\"Datos-2\"><span class=\"toc-item-num\">2&nbsp;&nbsp;</span>Datos</a></span></li><li><span><a href=\"#Funciones-para-el-cálculo-de-costo-total-esperado-(CTE)\" data-toc-modified-id=\"Funciones-para-el-cálculo-de-costo-total-esperado-(CTE)-3\"><span class=\"toc-item-num\">3&nbsp;&nbsp;</span>Funciones para el cálculo de costo total esperado (CTE)</a></span><ul class=\"toc-item\"><li><span><a href=\"#Cálculo-de-costo-de-adquisición\" data-toc-modified-id=\"Cálculo-de-costo-de-adquisición-3.1\"><span class=\"toc-item-num\">3.1&nbsp;&nbsp;</span>Cálculo de costo de adquisición</a></span></li><li><span><a href=\"#Cálculo-de-costo-de-almacenamiento\" data-toc-modified-id=\"Cálculo-de-costo-de-almacenamiento-3.2\"><span class=\"toc-item-num\">3.2&nbsp;&nbsp;</span>Cálculo de costo de almacenamiento</a></span></li><li><span><a href=\"#Cálculo-de-costo-de-pedido\" data-toc-modified-id=\"Cálculo-de-costo-de-pedido-3.3\"><span class=\"toc-item-num\">3.3&nbsp;&nbsp;</span>Cálculo de costo de pedido</a></span></li><li><span><a href=\"#Costo-Total-Esperado\" data-toc-modified-id=\"Costo-Total-Esperado-3.4\"><span class=\"toc-item-num\">3.4&nbsp;&nbsp;</span>Costo Total Esperado</a></span></li></ul></li><li><span><a href=\"#Cálculo-de-cantidades-óptimas:\" data-toc-modified-id=\"Cálculo-de-cantidades-óptimas:-4\"><span class=\"toc-item-num\">4&nbsp;&nbsp;</span>Cálculo de cantidades óptimas:</a></span></li><li><span><a href=\"#Cálculo-de-Costo-Total-Esperado-Óptimo:\" data-toc-modified-id=\"Cálculo-de-Costo-Total-Esperado-Óptimo:-5\"><span class=\"toc-item-num\">5&nbsp;&nbsp;</span>Cálculo de Costo Total Esperado Óptimo:</a></span></li><li><span><a href=\"#Valores-de-la-superficie-de-Costo-Total-Esperado\" data-toc-modified-id=\"Valores-de-la-superficie-de-Costo-Total-Esperado-6\"><span class=\"toc-item-num\">6&nbsp;&nbsp;</span>Valores de la superficie de Costo Total Esperado</a></span></li><li><span><a href=\"#Gráfico-de-la-superficie-de-Costo-Total-Esperado\" data-toc-modified-id=\"Gráfico-de-la-superficie-de-Costo-Total-Esperado-7\"><span class=\"toc-item-num\">7&nbsp;&nbsp;</span>Gráfico de la superficie de Costo Total Esperado</a></span></li></ul></div>"
   ]
  },
  {
   "cell_type": "markdown",
   "metadata": {},
   "source": [
    "## Introducción"
   ]
  },
  {
   "cell_type": "markdown",
   "metadata": {},
   "source": [
    "En este ejemplo vamos a usar la teoría de Inventarios para administrar cantidades óptimas de pedido de dos productos. Tomamos distintas suposiciones:\n",
    "\n",
    "- Usamos el modelo simplificado y determinista de inventarios, donde el reabastecimiento es inmediato y el consumo lineal.\n",
    "- No existen restricciones de espacio, es decir, las cantidades de los productos son independientes. De esta manera, la función a optimizar es, simplemente, una combinación de ambas funciones para cada producto."
   ]
  },
  {
   "cell_type": "markdown",
   "metadata": {},
   "source": [
    "## Datos"
   ]
  },
  {
   "cell_type": "markdown",
   "metadata": {},
   "source": [
    "Se nos proveen datos de inventarios para cada producto $1$ y $2$:"
   ]
  },
  {
   "cell_type": "code",
   "execution_count": 1,
   "metadata": {},
   "outputs": [],
   "source": [
    "diasmes = 30\n",
    "interes = 0.1 # anual\n",
    "\n",
    "# Datos producto 1:\n",
    "b_1 = 30 #costo por producto\n",
    "\n",
    "compra_1 = 100 # unidad \n",
    "calidadrecepcion_1 = 200 # pedido\n",
    "demanda_1 = 3000 # por año\n",
    "k_1 = calidadrecepcion_1 + compra_1 # costo de orden\n",
    "d_1 = demanda_1 # demanda\n",
    "alquiler_1 = 30 # alquiler diario\n",
    "ba_1 = alquiler_1 * diasmes * 12 # alquiler anual\n",
    "i_1 = interes # mismo interés para ambos productos\n",
    "\n",
    "# Datos producto 2:\n",
    "b_2 = 40 #costo por producto\n",
    "compra_2 = 150 # unidad \n",
    "calidadrecepcion_2 = 250 # pedido\n",
    "demanda_2 = 4300 # por año\n",
    "k_2 = calidadrecepcion_2 + compra_2 # costo de orden\n",
    "d_2 = demanda_2 # demanda\n",
    "alquiler_2 = 40 # diario\n",
    "ba_2 = alquiler_2 * diasmes * 12 # alquiler anual\n",
    "i_2 = interes # mismo interés para ambos productos"
   ]
  },
  {
   "cell_type": "markdown",
   "metadata": {},
   "source": [
    "## Funciones para el cálculo de costo total esperado (CTE)\n",
    "\n",
    "Necesitamos calcular para ambos productos: el costo de adquisición, almacenamiento y pedido. En primer lugar, importamos Numpy:"
   ]
  },
  {
   "cell_type": "code",
   "execution_count": 2,
   "metadata": {},
   "outputs": [],
   "source": [
    "import numpy as np"
   ]
  },
  {
   "cell_type": "markdown",
   "metadata": {},
   "source": [
    "Para reutilizar código, vamos a crear funciones de python para cada uno, que tomen como valores de entrada sus parámetros y variables."
   ]
  },
  {
   "cell_type": "markdown",
   "metadata": {},
   "source": [
    "### Cálculo de costo de adquisición\n",
    "Es el costo total que depende del costo unitario del producto $b_i$ y la demanda del mismo $d_i$.\n",
    "\n",
    "$Cadq = b_i*d_i$"
   ]
  },
  {
   "cell_type": "code",
   "execution_count": 3,
   "metadata": {},
   "outputs": [],
   "source": [
    "def calcular_cadq(b, d):\n",
    "    return b * d"
   ]
  },
  {
   "cell_type": "markdown",
   "metadata": {},
   "source": [
    "### Cálculo de costo de almacenamiento\n",
    "Es el costo en que se incurre por almacenar un producto. Depende de la cantidad $q_i$, el costo unitario de almacenamiento $c_{ui}$.\n",
    "\n",
    "$Calm(q_i) = \\dfrac{1}{2}*q_i*c_{ui}$\n",
    "\n",
    "El costo unitario $c_{ui}$ se calcula de la siguiente forma:\n",
    "\n",
    "$c_{ui} = b_i * i + b_{ai}$\n",
    "\n",
    "Siendo $b_i$ el costo del producto y $b_{ai}$, un costo de almacenamiento adicional por producto, en este ejemplo es el alquiler."
   ]
  },
  {
   "cell_type": "code",
   "execution_count": 4,
   "metadata": {},
   "outputs": [],
   "source": [
    "def calcular_cstock(q, b, i, ba):\n",
    "    return 0.5 * q * (b * i + ba)"
   ]
  },
  {
   "cell_type": "markdown",
   "metadata": {},
   "source": [
    "### Cálculo de costo de pedido\n",
    "Es el costo que surge cada vez que se hace un pedido de producto. Depende de $k_i$, el costo administrativo de pedido; $d_i$, la demanda de cada producto y $q_i$, la cantidad.\n",
    "\n",
    "$Cpedido(q_i) = k_i * \\dfrac{d_i}{q_i}$"
   ]
  },
  {
   "cell_type": "code",
   "execution_count": 5,
   "metadata": {},
   "outputs": [],
   "source": [
    "def calcular_cpedido(k, d, q):\n",
    "    return  k * (d / q)"
   ]
  },
  {
   "cell_type": "markdown",
   "metadata": {},
   "source": [
    "### Costo Total Esperado\n",
    "$CTE(q_i) = Cadq + Calm(q_i) + Cpedido(q_i)$"
   ]
  },
  {
   "cell_type": "code",
   "execution_count": 6,
   "metadata": {},
   "outputs": [],
   "source": [
    "# Costo total esperado:\n",
    "def calcular_cte(cdemanda, cstock, cpedido):\n",
    "    return cdemanda + cstock + cpedido"
   ]
  },
  {
   "cell_type": "markdown",
   "metadata": {},
   "source": [
    "## Cálculo de cantidades óptimas:"
   ]
  },
  {
   "cell_type": "markdown",
   "metadata": {},
   "source": [
    "La cantidad óptima está donde la derivada del Costo Total Esperado se iguala a cero. La fórmula analítica es la siguiente:\n",
    "\n",
    "$q_i^* = \\sqrt{\\dfrac{2*k_i*d_i}{c_u}}$\n",
    "\n",
    "Donde $k_i$ es el costo administrativo de pedido del producto $i$; $d_i$, la demanda del producto $i$ y $c_u$, el costo unitario definido más arriba."
   ]
  },
  {
   "cell_type": "markdown",
   "metadata": {},
   "source": [
    "Podemos crear la siguiente función de Python que toma los argumentos de costo de orden $k$, la demanda $d$, el período de análisis $t$, y el costo unitario $c_1$. El output es el costo óptimo para un producto determinado."
   ]
  },
  {
   "cell_type": "code",
   "execution_count": 7,
   "metadata": {},
   "outputs": [],
   "source": [
    "def calcular_q_opt (k, d, b, i, ba):\n",
    "    return np.sqrt((2 * k * d)/(b * i + ba))"
   ]
  },
  {
   "cell_type": "markdown",
   "metadata": {},
   "source": [
    "Calculamos la cantidad óptima para ambos productos:"
   ]
  },
  {
   "cell_type": "code",
   "execution_count": 8,
   "metadata": {},
   "outputs": [
    {
     "name": "stdout",
     "output_type": "stream",
     "text": [
      "La cantidad óptima para el ítem 1 es: 12.91\n",
      "La cantidad óptima para el ítem 2 es: 15.45\n"
     ]
    }
   ],
   "source": [
    "# Cálculo del Q1 óptimo:\n",
    "q1_opt = calcular_q_opt(k_1, d_1, b_1, i_1, ba_1)\n",
    "print(f'La cantidad óptima para el ítem 1 es: {q1_opt:.2f}')\n",
    "\n",
    "# Cálculo del Q2 óptimo:\n",
    "q2_opt = calcular_q_opt(k_2, d_2, b_2, i_2, ba_2)\n",
    "print(f'La cantidad óptima para el ítem 2 es: {q2_opt:.2f}')"
   ]
  },
  {
   "cell_type": "markdown",
   "metadata": {},
   "source": [
    "## Cálculo de Costo Total Esperado Óptimo:"
   ]
  },
  {
   "cell_type": "markdown",
   "metadata": {},
   "source": [
    "Para calcular el Costo Total Esperado, necesitamos tres valores de cada producto calculados con la cantidad óptima $q^*$:\n",
    "- El costo de adquisicion"
   ]
  },
  {
   "cell_type": "code",
   "execution_count": 9,
   "metadata": {},
   "outputs": [
    {
     "name": "stdout",
     "output_type": "stream",
     "text": [
      "Costo de adquisición, producto 1: 90000.00, producto 2: 172000.00\n"
     ]
    }
   ],
   "source": [
    "# Producto 1:\n",
    "cdemanda1 = calcular_cadq(b_1, d_1)\n",
    "# Producto 2:\n",
    "cdemanda2 = calcular_cadq(b_2, d_2)\n",
    "\n",
    "# Print:\n",
    "print(f\"Costo de adquisición, producto 1: {cdemanda1:.2f}, producto 2: {cdemanda2:.2f}\")"
   ]
  },
  {
   "cell_type": "markdown",
   "metadata": {},
   "source": [
    "- El costo de almacenamiento"
   ]
  },
  {
   "cell_type": "code",
   "execution_count": 10,
   "metadata": {},
   "outputs": [
    {
     "name": "stdout",
     "output_type": "stream",
     "text": [
      "Costo de almacenamiento, producto 1: 69723.38, producto 2: 111298.88\n"
     ]
    }
   ],
   "source": [
    "# Producto 1:\n",
    "cstock1 = calcular_cstock(q1_opt, b_1, i_1, ba_1)\n",
    "# Producto 2:\n",
    "cstock2 = calcular_cstock(q2_opt, b_2, i_2, ba_2)\n",
    "\n",
    "# Print:\n",
    "print(f\"Costo de almacenamiento, producto 1: {cstock1:.2f}, producto 2: {cstock2:.2f}\")"
   ]
  },
  {
   "cell_type": "markdown",
   "metadata": {},
   "source": [
    "- El costo de pedido"
   ]
  },
  {
   "cell_type": "code",
   "execution_count": 11,
   "metadata": {},
   "outputs": [
    {
     "name": "stdout",
     "output_type": "stream",
     "text": [
      "Costo de pedido, producto 1: 69723.38, producto 2: 111298.88\n"
     ]
    }
   ],
   "source": [
    "# Producto 1:\n",
    "cpedido1 = calcular_cpedido(k_1, d_1, q1_opt)\n",
    "# Producto 2:\n",
    "cpedido2 = calcular_cpedido(k_2, d_2, q2_opt)\n",
    "\n",
    "# Print:\n",
    "print(f\"Costo de pedido, producto 1: {cpedido1:.2f}, producto 2: {cpedido2:.2f}\")"
   ]
  },
  {
   "cell_type": "markdown",
   "metadata": {},
   "source": [
    "Con los valores anteriores calculamos el Costo Total Esperado Óptimo de cada producto:"
   ]
  },
  {
   "cell_type": "code",
   "execution_count": 12,
   "metadata": {},
   "outputs": [
    {
     "name": "stdout",
     "output_type": "stream",
     "text": [
      "Costo Total Esperado, producto 1: 229446.76, producto 2: 394597.75\n"
     ]
    }
   ],
   "source": [
    "# Producto 1:\n",
    "cte_opt1 = calcular_cte(cdemanda1, cstock1, cpedido1)\n",
    "# Producto 2:\n",
    "cte_opt2 = calcular_cte(cdemanda2, cstock2, cpedido2)\n",
    "\n",
    "# Print:\n",
    "print(f\"Costo Total Esperado, producto 1: {cte_opt1:.2f}, producto 2: {cte_opt2:.2f}\")"
   ]
  },
  {
   "cell_type": "markdown",
   "metadata": {},
   "source": [
    "Por último calculamos el Costo Total Esperado de ambos productos sumados:"
   ]
  },
  {
   "cell_type": "code",
   "execution_count": 13,
   "metadata": {},
   "outputs": [
    {
     "name": "stdout",
     "output_type": "stream",
     "text": [
      "El Costo Total Esperado óptimo es: 624044.52\n"
     ]
    }
   ],
   "source": [
    "# Total:\n",
    "cte_opt_t = cte_opt1 + cte_opt2\n",
    "\n",
    "# Print:\n",
    "print(f'El Costo Total Esperado óptimo es: {cte_opt_t:.2f}')"
   ]
  },
  {
   "cell_type": "markdown",
   "metadata": {},
   "source": [
    "## Valores de la superficie de Costo Total Esperado"
   ]
  },
  {
   "cell_type": "markdown",
   "metadata": {},
   "source": [
    "El costo total esperado es una función de las cantidades de ambos productos, es decir, $CTE = f(q_1, q_2)$. Además para cada valor de $CTE$ encontramos una curva de nivel.\n",
    "\n",
    "Para graficar la superficie que se forma variando las cantidades $q_1$ y $q_2$, necesitamos crear tiras de valores equiespaciados para cada una de ellas. Esto lo hacemos con el método *linspace* de *Numpy*.\n",
    "\n",
    "Vamos a crear 50 valores para cada $q_i$:"
   ]
  },
  {
   "cell_type": "code",
   "execution_count": 14,
   "metadata": {},
   "outputs": [
    {
     "name": "stdout",
     "output_type": "stream",
     "text": [
      "linspace para $q_1$: [ 1.  2.  3.  4.  5.  6.  7.  8.  9. 10. 11. 12. 13. 14. 15. 16. 17. 18.\n",
      " 19. 20. 21. 22. 23. 24. 25. 26. 27. 28. 29. 30. 31. 32. 33. 34. 35. 36.\n",
      " 37. 38. 39. 40. 41. 42. 43. 44. 45. 46. 47. 48. 49. 50.]\n",
      "\n",
      "linspace para $q_2$: [ 1.  2.  3.  4.  5.  6.  7.  8.  9. 10. 11. 12. 13. 14. 15. 16. 17. 18.\n",
      " 19. 20. 21. 22. 23. 24. 25. 26. 27. 28. 29. 30. 31. 32. 33. 34. 35. 36.\n",
      " 37. 38. 39. 40. 41. 42. 43. 44. 45. 46. 47. 48. 49. 50.]\n"
     ]
    }
   ],
   "source": [
    "# Cálculo y gráfico de la superficie de valores:\n",
    "q1_linspace = np.linspace(1,50, 50)\n",
    "q2_linspace = np.linspace(1,50, 50)\n",
    "\n",
    "# Visualizamos:\n",
    "print(f\"linspace para $q_1$: {q1_linspace}\\n\")\n",
    "print(f\"linspace para $q_2$: {q2_linspace}\")"
   ]
  },
  {
   "cell_type": "markdown",
   "metadata": {},
   "source": [
    "Dado que necesitamos crear combinaciones de cada valor de $q_1$ con $q_2$ para calcular, luego, el $CTE$ de ese punto, armamos una *meshgrid* de *Numpy*, es decir una malla o \"sábana\" de combinaciones de cantidades de ambos productos."
   ]
  },
  {
   "cell_type": "code",
   "execution_count": 15,
   "metadata": {},
   "outputs": [
    {
     "name": "stdout",
     "output_type": "stream",
     "text": [
      "Malla de valores para q_1:\n",
      " [[ 1.  2.  3. ... 48. 49. 50.]\n",
      " [ 1.  2.  3. ... 48. 49. 50.]\n",
      " [ 1.  2.  3. ... 48. 49. 50.]\n",
      " ...\n",
      " [ 1.  2.  3. ... 48. 49. 50.]\n",
      " [ 1.  2.  3. ... 48. 49. 50.]\n",
      " [ 1.  2.  3. ... 48. 49. 50.]]\n",
      "\n",
      "Malla de valores para q_2:\n",
      " [[ 1.  1.  1. ...  1.  1.  1.]\n",
      " [ 2.  2.  2. ...  2.  2.  2.]\n",
      " [ 3.  3.  3. ...  3.  3.  3.]\n",
      " ...\n",
      " [48. 48. 48. ... 48. 48. 48.]\n",
      " [49. 49. 49. ... 49. 49. 49.]\n",
      " [50. 50. 50. ... 50. 50. 50.]]\n"
     ]
    }
   ],
   "source": [
    "Q1, Q2 = np.meshgrid(q1_linspace, q2_linspace)\n",
    "\n",
    "# Visualizamos:\n",
    "print(f\"Malla de valores para q_1:\\n {Q1}\\n\")\n",
    "print(f\"Malla de valores para q_2:\\n {Q2}\")"
   ]
  },
  {
   "cell_type": "markdown",
   "metadata": {},
   "source": [
    "Lo que sigue es iterar para cada combinación de la malla $(Q_1, Q_2)$ que creamos anteriormente y calcular un valor de $CTE$.\n",
    "Es decir, cada iteración será un $(Q_{1i}, Q_{2i})$ del que calcularemos:\n",
    "- costo de demanda\n",
    "- costo de almacenamiento\n",
    "- costo de pedido\n",
    "- costo total esperado de ambos productos\n",
    "\n",
    "El último ítem, es decir el CTE total, tenemos que guardarlo en un vector, para poder graficar más adelante.\n",
    "\n",
    "Lo primero que hacemos entonces es crear este vector, que tendrá la longitud total de las combinaciones posibles de cantidades.\n",
    "\n",
    "Luego, vamos a iterar para cada combinación. Dado que $Q_1$ y $Q_2$ son matrices, ya que representan la sábana de combinaciones va a ser difícil que Python entienda cómo iterarlas combinadas.\n",
    "\n",
    "Hacemos lo siguiente:\n",
    "- Usamos el método de *Numpy* *ravel* para convertir las matrices en tiras de valores, es decir, vectores.\n",
    "- Usamos la función *zip* para crear combinaciones de cada uno de esos valores. Por ejemplo, si tenemos dos listas: A = [1, 2] y B = [3, 4], al hacer zip(A, B) generaremos: [(1, 3), (2, 4)]. Justamente lo que estamos buscando: armar las combinaciones de cantidades.\n",
    "- Usamos enumerate para guardar el indice *i* de la iteración actual."
   ]
  },
  {
   "cell_type": "code",
   "execution_count": 16,
   "metadata": {},
   "outputs": [],
   "source": [
    "# Creamos el vector para guardar los valores de CTE de ambos productos:\n",
    "vect_cte2 = np.zeros(Q1.shape[0] * Q1.shape[1])\n",
    "\n",
    "# Iteramos para cada combinación de cantidades:\n",
    "for i, (q1_i, q2_i) in enumerate(zip(np.ravel(Q1), np.ravel(Q2))):\n",
    "    # Calculamos costo de demanda:\n",
    "    cdemanda_i_1 = calcular_cadq(b_1, d_1)\n",
    "    cdemanda_i_2 = calcular_cadq(b_2, d_2)\n",
    "    cdemanda_i_tot = cdemanda_i_1 + cdemanda_i_2\n",
    "    \n",
    "    # Actualizar vector de costo de almacenamiento:\n",
    "    cstock_i_1 = calcular_cstock(q1_i, b_1, i_1, ba_1)\n",
    "    cstock_i_2 = calcular_cstock(q2_i, b_2, i_2, ba_2)\n",
    "    cstock_i_tot = cstock_i_1 + cstock_i_2\n",
    "    \n",
    "    # Actualizar vector de costo de pedido:\n",
    "    cpedido_i_1 = calcular_cpedido(k_1, d_1, q1_i)\n",
    "    cpedido_i_2 = calcular_cpedido(k_2, d_2, q2_i)\n",
    "    cpedido_i_tot = cpedido_i_1 + cpedido_i_2\n",
    "    \n",
    "    # Calculamos el costo total de ambos productos:\n",
    "    cte_i_1 = calcular_cte(cdemanda_i_1, cstock_i_1, cpedido_i_1)\n",
    "    cte_i_2 = calcular_cte(cdemanda_i_2, cstock_i_2, cpedido_i_2)\n",
    "    cte_i_tot = cte_i_1 + cte_i_2\n",
    "    \n",
    "    # Guardamos el resultado de la iteración en el vector:\n",
    "    vect_cte2[i] = cte_i_tot"
   ]
  },
  {
   "cell_type": "markdown",
   "metadata": {},
   "source": [
    "## Gráfico de la superficie de Costo Total Esperado\n",
    "\n",
    "En primer lugar, creamos un gráfico en 3 dimensiones para visualizar la superficie $CTE(q_1, q_2)$.\n",
    "\n",
    "Importamos la librería *MatPlotLib* y configuramos algunas características."
   ]
  },
  {
   "cell_type": "code",
   "execution_count": 17,
   "metadata": {},
   "outputs": [
    {
     "ename": "ModuleNotFoundError",
     "evalue": "No module named 'matplotlib'",
     "output_type": "error",
     "traceback": [
      "\u001b[1;31m---------------------------------------------------------------------------\u001b[0m",
      "\u001b[1;31mModuleNotFoundError\u001b[0m                       Traceback (most recent call last)",
      "\u001b[1;32m<ipython-input-17-dd3b77f21fca>\u001b[0m in \u001b[0;36m<module>\u001b[1;34m\u001b[0m\n\u001b[1;32m----> 1\u001b[1;33m \u001b[1;32mimport\u001b[0m \u001b[0mmatplotlib\u001b[0m\u001b[1;33m.\u001b[0m\u001b[0mpyplot\u001b[0m \u001b[1;32mas\u001b[0m \u001b[0mplt\u001b[0m\u001b[1;33m\u001b[0m\u001b[1;33m\u001b[0m\u001b[0m\n\u001b[0m\u001b[0;32m      2\u001b[0m \u001b[1;32mfrom\u001b[0m \u001b[0mmpl_toolkits\u001b[0m\u001b[1;33m.\u001b[0m\u001b[0mmplot3d\u001b[0m \u001b[1;32mimport\u001b[0m \u001b[0maxes3d\u001b[0m\u001b[1;33m,\u001b[0m \u001b[0mart3d\u001b[0m\u001b[1;33m\u001b[0m\u001b[1;33m\u001b[0m\u001b[0m\n\u001b[0;32m      3\u001b[0m \u001b[1;32mfrom\u001b[0m \u001b[0mmatplotlib\u001b[0m \u001b[1;32mimport\u001b[0m \u001b[0mcm\u001b[0m\u001b[1;33m\u001b[0m\u001b[1;33m\u001b[0m\u001b[0m\n\u001b[0;32m      4\u001b[0m \u001b[1;32mfrom\u001b[0m \u001b[0mmatplotlib\u001b[0m\u001b[1;33m.\u001b[0m\u001b[0mpatches\u001b[0m \u001b[1;32mimport\u001b[0m \u001b[0mCircle\u001b[0m\u001b[1;33m\u001b[0m\u001b[1;33m\u001b[0m\u001b[0m\n",
      "\u001b[1;31mModuleNotFoundError\u001b[0m: No module named 'matplotlib'"
     ]
    }
   ],
   "source": [
    "import matplotlib.pyplot as plt\n",
    "from mpl_toolkits.mplot3d import axes3d, art3d\n",
    "from matplotlib import cm\n",
    "from matplotlib.patches import Circle"
   ]
  },
  {
   "cell_type": "markdown",
   "metadata": {},
   "source": [
    "Vamos a redimensionar el vector de soluciones $CTE$ a una Matriz con las mismas dimensiones de las matrices de la sábana de combinaciones $Q_1$ y $Q_2$. Esto lo hacemos para que la entrada y salida del gráfico tengan dimensiones acordes. Para lograrlo usamos el método *reshape* de *Numpy*."
   ]
  },
  {
   "cell_type": "code",
   "execution_count": null,
   "metadata": {},
   "outputs": [],
   "source": [
    "CTE2 = vect_cte2.reshape(Q1.shape)"
   ]
  },
  {
   "cell_type": "markdown",
   "metadata": {},
   "source": [
    "Ahora sí, creamos la figura y el objeto de ejes con la librería *MatPlotLib* para poder graficar:"
   ]
  },
  {
   "cell_type": "code",
   "execution_count": null,
   "metadata": {},
   "outputs": [],
   "source": [
    "# plotear figura:\n",
    "fig = plt.figure(figsize=(10,7))\n",
    "\n",
    "# plotear superficie\n",
    "ax = plt.axes(projection='3d')\n",
    "ax.plot_surface(Q1, Q2, CTE2, rstride=1, cstride=1, cmap='viridis', edgecolor='none')\n",
    "\n",
    "# Countour en z:\n",
    "ax.contour(Q1, Q2, CTE2, 120, offset=-50, linestyles=\"solid\", alpha=0.5)\n",
    "\n",
    "# Proyecciones en x, y:\n",
    "ax.contour(Q1, Q2, CTE2, 120, offset=-10, linestyles=\"solid\", alpha=0.5, zdir='x')\n",
    "ax.contour(Q1, Q2, CTE2, 120, offset=-10, linestyles=\"solid\", alpha=0.5, zdir='y')\n",
    "\n",
    "# agregar punto óptimo:\n",
    "ax.scatter([q1_opt], [q2_opt], [cte_opt_t], color=\"r\", s=20, marker='o', linewidth=5)\n",
    "\n",
    "ax.set_title('Costo de inventario multiproducto')\n",
    "ax.set_xlabel('q1')\n",
    "ax.set_ylabel('q2')\n",
    "ax.set_zlabel('CTE')\n",
    "\n",
    "plt.show()"
   ]
  },
  {
   "cell_type": "markdown",
   "metadata": {},
   "source": [
    "Por último, vamos a graficar las curvas de nivel para un conjunto de soluciones $CTE$. Esto lo hacemos llamando al *contour* formado por la función en 3D."
   ]
  },
  {
   "cell_type": "code",
   "execution_count": null,
   "metadata": {},
   "outputs": [],
   "source": [
    "fig, ax0 = plt.subplots(figsize=(10,7))\n",
    "\n",
    "# Z contour\n",
    "CS0 = ax0.contour(Q1, Q2, CTE2, 500)\n",
    "ax0.set_title('Contour plot para Costo total esperado multiproducto')\n",
    "ax0.set_xlabel('q1')\n",
    "ax0.set_ylabel('q2')\n",
    "ax0.set_xlim([10, 30])\n",
    "ax0.set_ylim([10, 30])\n",
    "ax0.clabel(CS0, inline=1, fontsize=10)\n",
    "\n",
    "# agregar punto óptimo:\n",
    "ax0.scatter(q1_opt, q2_opt, color=\"r\", s=20, marker='o', linewidth=5)\n",
    "ax0.text(q1_opt*0.80, q2_opt, f\"{cte_opt_t:.2f}\", fontsize=12, color='r')\n",
    "\n",
    "plt.show()"
   ]
  },
  {
   "cell_type": "code",
   "execution_count": null,
   "metadata": {},
   "outputs": [],
   "source": []
  }
 ],
 "metadata": {
  "kernelspec": {
   "display_name": "Python 3",
   "language": "python",
   "name": "python3"
  },
  "language_info": {
   "codemirror_mode": {
    "name": "ipython",
    "version": 3
   },
   "file_extension": ".py",
   "mimetype": "text/x-python",
   "name": "python",
   "nbconvert_exporter": "python",
   "pygments_lexer": "ipython3",
   "version": "3.7.4"
  },
  "toc": {
   "base_numbering": 1,
   "nav_menu": {},
   "number_sections": true,
   "sideBar": true,
   "skip_h1_title": true,
   "title_cell": "Table of Contents",
   "title_sidebar": "Contents",
   "toc_cell": true,
   "toc_position": {
    "height": "calc(100% - 180px)",
    "left": "10px",
    "top": "150px",
    "width": "165px"
   },
   "toc_section_display": true,
   "toc_window_display": true
  },
  "varInspector": {
   "cols": {
    "lenName": 16,
    "lenType": 16,
    "lenVar": 40
   },
   "kernels_config": {
    "python": {
     "delete_cmd_postfix": "",
     "delete_cmd_prefix": "del ",
     "library": "var_list.py",
     "varRefreshCmd": "print(var_dic_list())"
    },
    "r": {
     "delete_cmd_postfix": ") ",
     "delete_cmd_prefix": "rm(",
     "library": "var_list.r",
     "varRefreshCmd": "cat(var_dic_list()) "
    }
   },
   "types_to_exclude": [
    "module",
    "function",
    "builtin_function_or_method",
    "instance",
    "_Feature"
   ],
   "window_display": false
  }
 },
 "nbformat": 4,
 "nbformat_minor": 2
}
